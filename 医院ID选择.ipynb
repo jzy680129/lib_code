{
 "cells": [
  {
   "cell_type": "code",
   "execution_count": 2,
   "id": "9b01fca7",
   "metadata": {},
   "outputs": [],
   "source": [
    "import numpy as np\n",
    "import pandas as pd\n",
    "from xgboost.sklearn import XGBClassifier\n",
    "from sklearn.model_selection import cross_val_score\n",
    "from sklearn.model_selection import GridSearchCV\n",
    "from sklearn.tree import DecisionTreeClassifier\n",
    "from sklearn.model_selection import train_test_split\n",
    "from sklearn.metrics import recall_score\n",
    "from sklearn.metrics import accuracy_score\n",
    "from sklearn.metrics import roc_auc_score\n",
    "from sklearn.metrics import f1_score\n",
    "\n"
   ]
  },
  {
   "cell_type": "code",
   "execution_count": 3,
   "id": "56af9b1d",
   "metadata": {},
   "outputs": [],
   "source": [
    "df = pd.read_csv(\"./data/site_16topaucoutlinePmmImpData_dis.csv\").drop(columns=\"Unnamed: 0\",axis=1)"
   ]
  },
  {
   "cell_type": "code",
   "execution_count": 4,
   "id": "1f4c9914",
   "metadata": {
    "scrolled": true
   },
   "outputs": [],
   "source": [
    "id_list = set(df[\"hospitalid\"])"
   ]
  },
  {
   "cell_type": "code",
   "execution_count": 5,
   "id": "859d5ea5",
   "metadata": {},
   "outputs": [],
   "source": [
    "id_list = sorted(id_list)"
   ]
  },
  {
   "cell_type": "code",
   "execution_count": 6,
   "id": "cc7a07ea",
   "metadata": {},
   "outputs": [
    {
     "data": {
      "text/plain": [
       "Index(['LAB59', 'COM1', 'COM2', 'COM3', 'COM4', 'COM5', 'COM6', 'COM7', 'COM8',\n",
       "       'COM9', 'COM10', 'COM11', 'PRO1', 'PRO2', 'PRO3', 'PRO4', 'PRO5',\n",
       "       'PRO6', 'PRO7', 'PRO8', 'PRO9'],\n",
       "      dtype='object')"
      ]
     },
     "execution_count": 6,
     "metadata": {},
     "output_type": "execute_result"
    }
   ],
   "source": [
    "df.columns[45:]"
   ]
  },
  {
   "cell_type": "code",
   "execution_count": 7,
   "id": "29cb9a45",
   "metadata": {},
   "outputs": [
    {
     "name": "stdout",
     "output_type": "stream",
     "text": [
      "Fitting 5 folds for each of 30 candidates, totalling 150 fits\n",
      "Fitting 5 folds for each of 30 candidates, totalling 150 fits\n",
      "Fitting 5 folds for each of 30 candidates, totalling 150 fits\n",
      "Fitting 5 folds for each of 30 candidates, totalling 150 fits\n",
      "Fitting 5 folds for each of 30 candidates, totalling 150 fits\n",
      "Fitting 5 folds for each of 30 candidates, totalling 150 fits\n",
      "Fitting 5 folds for each of 30 candidates, totalling 150 fits\n",
      "Fitting 5 folds for each of 30 candidates, totalling 150 fits\n",
      "Fitting 5 folds for each of 30 candidates, totalling 150 fits\n",
      "Fitting 5 folds for each of 30 candidates, totalling 150 fits\n",
      "Fitting 5 folds for each of 30 candidates, totalling 150 fits\n",
      "Fitting 5 folds for each of 30 candidates, totalling 150 fits\n",
      "Fitting 5 folds for each of 30 candidates, totalling 150 fits\n",
      "Fitting 5 folds for each of 30 candidates, totalling 150 fits\n",
      "Fitting 5 folds for each of 30 candidates, totalling 150 fits\n",
      "Fitting 5 folds for each of 30 candidates, totalling 150 fits\n"
     ]
    }
   ],
   "source": [
    "score_list = []\n",
    "\n",
    "for hos_id in id_list:\n",
    "    ##得到data属性\n",
    "    data = df[df[\"hospitalid\"]==hos_id].drop(columns=\"hospitalid\",axis=1)\n",
    "    y = data[\"label\"]\n",
    "    x = data.iloc[:,1:]\n",
    "#     params={\n",
    "#             'max_depth':range(2,30,5),\n",
    "#             'n_estimators':range(100,500,200),\n",
    "#             'learning_rate':[0.1,0.3,0.4,],\n",
    "#             'subsample':np.array([0.7,0.8,0.9]),\n",
    "#             \"min_child_weight\": [2,3,4]\n",
    "            \n",
    "#             }\n",
    "    params={\n",
    "            'max_depth':range(2,30,5),\n",
    "            'max_leaf_nodes':[3,5,6,7,8]\n",
    "            }\n",
    "        \n",
    "#     model = XGBClassifier()\n",
    "    model = DecisionTreeClassifier()\n",
    "    x_train,x_test,y_train,y_test = train_test_split(x,y,test_size = 0.3,random_state=2)\n",
    "    CV_model = GridSearchCV(model, param_grid=params, n_jobs= -1,scoring='roc_auc', verbose=10)\n",
    "    \n",
    "    CV_model.fit(x_test,y_test)\n",
    "    y_pred = CV_model.predict(x_test)\n",
    "    acc = accuracy_score(y_test,y_pred)\n",
    "    recall  = recall_score(y_test,y_pred)\n",
    "    auc = roc_auc_score(y_test,y_pred)\n",
    "    f1 = f1_score(y_test,y_pred)\n",
    "    \n",
    "    score_list.append([acc,recall,auc,f1])"
   ]
  },
  {
   "cell_type": "code",
   "execution_count": 8,
   "id": "1aacd261",
   "metadata": {},
   "outputs": [],
   "source": [
    "Decision_tree=pd.DataFrame(score_list,index = id_list ,columns=[\"acc\",\"recall\",\"auc\",\"f1\"]).T"
   ]
  },
  {
   "cell_type": "code",
   "execution_count": 9,
   "id": "6581e059",
   "metadata": {},
   "outputs": [
    {
     "data": {
      "text/html": [
       "<div>\n",
       "<style scoped>\n",
       "    .dataframe tbody tr th:only-of-type {\n",
       "        vertical-align: middle;\n",
       "    }\n",
       "\n",
       "    .dataframe tbody tr th {\n",
       "        vertical-align: top;\n",
       "    }\n",
       "\n",
       "    .dataframe thead th {\n",
       "        text-align: right;\n",
       "    }\n",
       "</style>\n",
       "<table border=\"1\" class=\"dataframe\">\n",
       "  <thead>\n",
       "    <tr style=\"text-align: right;\">\n",
       "      <th></th>\n",
       "      <th>122</th>\n",
       "      <th>140</th>\n",
       "      <th>141</th>\n",
       "      <th>142</th>\n",
       "      <th>143</th>\n",
       "      <th>144</th>\n",
       "      <th>195</th>\n",
       "      <th>227</th>\n",
       "      <th>243</th>\n",
       "      <th>382</th>\n",
       "      <th>384</th>\n",
       "      <th>390</th>\n",
       "      <th>396</th>\n",
       "      <th>403</th>\n",
       "      <th>420</th>\n",
       "      <th>435</th>\n",
       "    </tr>\n",
       "  </thead>\n",
       "  <tbody>\n",
       "    <tr>\n",
       "      <th>acc</th>\n",
       "      <td>0.825269</td>\n",
       "      <td>0.866242</td>\n",
       "      <td>0.808411</td>\n",
       "      <td>0.826176</td>\n",
       "      <td>0.860215</td>\n",
       "      <td>0.839827</td>\n",
       "      <td>0.674556</td>\n",
       "      <td>0.818402</td>\n",
       "      <td>0.777260</td>\n",
       "      <td>0.759887</td>\n",
       "      <td>0.776515</td>\n",
       "      <td>0.808696</td>\n",
       "      <td>0.822086</td>\n",
       "      <td>0.798107</td>\n",
       "      <td>0.858255</td>\n",
       "      <td>0.787724</td>\n",
       "    </tr>\n",
       "    <tr>\n",
       "      <th>recall</th>\n",
       "      <td>0.550725</td>\n",
       "      <td>0.770833</td>\n",
       "      <td>0.462185</td>\n",
       "      <td>0.673203</td>\n",
       "      <td>0.529412</td>\n",
       "      <td>0.866667</td>\n",
       "      <td>0.427536</td>\n",
       "      <td>0.482143</td>\n",
       "      <td>0.622581</td>\n",
       "      <td>0.294118</td>\n",
       "      <td>0.733333</td>\n",
       "      <td>0.849624</td>\n",
       "      <td>0.444444</td>\n",
       "      <td>0.621053</td>\n",
       "      <td>0.664865</td>\n",
       "      <td>0.380531</td>\n",
       "    </tr>\n",
       "    <tr>\n",
       "      <th>auc</th>\n",
       "      <td>0.740912</td>\n",
       "      <td>0.839545</td>\n",
       "      <td>0.701966</td>\n",
       "      <td>0.784518</td>\n",
       "      <td>0.757298</td>\n",
       "      <td>0.846795</td>\n",
       "      <td>0.636268</td>\n",
       "      <td>0.712832</td>\n",
       "      <td>0.731343</td>\n",
       "      <td>0.621265</td>\n",
       "      <td>0.766092</td>\n",
       "      <td>0.816321</td>\n",
       "      <td>0.705273</td>\n",
       "      <td>0.747463</td>\n",
       "      <td>0.800704</td>\n",
       "      <td>0.666884</td>\n",
       "    </tr>\n",
       "    <tr>\n",
       "      <th>f1</th>\n",
       "      <td>0.636872</td>\n",
       "      <td>0.778947</td>\n",
       "      <td>0.572917</td>\n",
       "      <td>0.707904</td>\n",
       "      <td>0.675000</td>\n",
       "      <td>0.778443</td>\n",
       "      <td>0.517544</td>\n",
       "      <td>0.590164</td>\n",
       "      <td>0.617600</td>\n",
       "      <td>0.413793</td>\n",
       "      <td>0.691099</td>\n",
       "      <td>0.773973</td>\n",
       "      <td>0.579710</td>\n",
       "      <td>0.648352</td>\n",
       "      <td>0.729970</td>\n",
       "      <td>0.508876</td>\n",
       "    </tr>\n",
       "  </tbody>\n",
       "</table>\n",
       "</div>"
      ],
      "text/plain": [
       "             122       140       141       142       143       144       195  \\\n",
       "acc     0.825269  0.866242  0.808411  0.826176  0.860215  0.839827  0.674556   \n",
       "recall  0.550725  0.770833  0.462185  0.673203  0.529412  0.866667  0.427536   \n",
       "auc     0.740912  0.839545  0.701966  0.784518  0.757298  0.846795  0.636268   \n",
       "f1      0.636872  0.778947  0.572917  0.707904  0.675000  0.778443  0.517544   \n",
       "\n",
       "             227       243       382       384       390       396       403  \\\n",
       "acc     0.818402  0.777260  0.759887  0.776515  0.808696  0.822086  0.798107   \n",
       "recall  0.482143  0.622581  0.294118  0.733333  0.849624  0.444444  0.621053   \n",
       "auc     0.712832  0.731343  0.621265  0.766092  0.816321  0.705273  0.747463   \n",
       "f1      0.590164  0.617600  0.413793  0.691099  0.773973  0.579710  0.648352   \n",
       "\n",
       "             420       435  \n",
       "acc     0.858255  0.787724  \n",
       "recall  0.664865  0.380531  \n",
       "auc     0.800704  0.666884  \n",
       "f1      0.729970  0.508876  "
      ]
     },
     "execution_count": 9,
     "metadata": {},
     "output_type": "execute_result"
    }
   ],
   "source": [
    "Decision_tree"
   ]
  },
  {
   "cell_type": "code",
   "execution_count": 23,
   "id": "2c134543",
   "metadata": {},
   "outputs": [],
   "source": [
    "Decision_tree.to_csv(\"./结果/Decision_tree_in_16.csv\")"
   ]
  },
  {
   "cell_type": "code",
   "execution_count": 13,
   "id": "ed424fa2",
   "metadata": {},
   "outputs": [
    {
     "data": {
      "text/plain": [
       "(420, 142, 122, 435, 390, 227, 195, 243, 403, 141)"
      ]
     },
     "execution_count": 13,
     "metadata": {},
     "output_type": "execute_result"
    }
   ],
   "source": [
    "420,142,122,435,390,227,195,243,403,141"
   ]
  },
  {
   "cell_type": "code",
   "execution_count": null,
   "id": "7f275ea3",
   "metadata": {},
   "outputs": [],
   "source": [
    "420,142,122,435,390,227,144,140,396,141"
   ]
  },
  {
   "cell_type": "code",
   "execution_count": null,
   "id": "17efc1ff",
   "metadata": {},
   "outputs": [],
   "source": [
    "420,390,140,396,142,144,141,435,122"
   ]
  },
  {
   "cell_type": "code",
   "execution_count": 14,
   "id": "891af216",
   "metadata": {
    "scrolled": true
   },
   "outputs": [
    {
     "ename": "IndentationError",
     "evalue": "expected an indented block (2213876541.py, line 1)",
     "output_type": "error",
     "traceback": [
      "\u001b[1;36m  Input \u001b[1;32mIn [14]\u001b[1;36m\u001b[0m\n\u001b[1;33m    for i in range(10):\u001b[0m\n\u001b[1;37m                       ^\u001b[0m\n\u001b[1;31mIndentationError\u001b[0m\u001b[1;31m:\u001b[0m expected an indented block\n"
     ]
    }
   ],
   "source": [
    "for i in range(10):"
   ]
  },
  {
   "cell_type": "code",
   "execution_count": 25,
   "id": "177d74d5",
   "metadata": {},
   "outputs": [],
   "source": [
    "from sklearn.preprocessing import normalize"
   ]
  },
  {
   "cell_type": "code",
   "execution_count": 46,
   "id": "1b282b26",
   "metadata": {},
   "outputs": [],
   "source": [
    "model_score=np.array([-1,-2,-3,-4,-5,-7,-6,-7,-8,-9,-10])\n",
    "min_num = min(model_score)\n",
    "for i in range(len(model_score)):\n",
    "    model_score[i]=model_score[i]-min_num+1\n",
    "    \n",
    "    "
   ]
  },
  {
   "cell_type": "code",
   "execution_count": 47,
   "id": "5e0ed8ce",
   "metadata": {},
   "outputs": [
    {
     "data": {
      "text/plain": [
       "array([[0.49937617, 0.44943855, 0.39950094, 0.34956332, 0.2996257 ,\n",
       "        0.19975047, 0.24968808, 0.19975047, 0.14981285, 0.09987523,\n",
       "        0.04993762]])"
      ]
     },
     "execution_count": 47,
     "metadata": {},
     "output_type": "execute_result"
    }
   ],
   "source": [
    "normalize(model_score.reshape(1,-1))"
   ]
  },
  {
   "cell_type": "code",
   "execution_count": null,
   "id": "e4d3c712",
   "metadata": {},
   "outputs": [],
   "source": []
  }
 ],
 "metadata": {
  "kernelspec": {
   "display_name": "Python 3 (ipykernel)",
   "language": "python",
   "name": "python3"
  },
  "language_info": {
   "codemirror_mode": {
    "name": "ipython",
    "version": 3
   },
   "file_extension": ".py",
   "mimetype": "text/x-python",
   "name": "python",
   "nbconvert_exporter": "python",
   "pygments_lexer": "ipython3",
   "version": "3.9.12"
  }
 },
 "nbformat": 4,
 "nbformat_minor": 5
}
