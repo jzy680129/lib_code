{
 "cells": [
  {
   "cell_type": "code",
   "execution_count": 56,
   "id": "b452a51e",
   "metadata": {},
   "outputs": [],
   "source": [
    "import pandas as pd\n",
    "import numpy as np\n",
    "from xgboost.sklearn import XGBClassifier\n",
    "from pgmpy.estimators import HillClimbSearch\n",
    "from pgmpy.models import BayesianNetwork\n",
    "from pgmpy.estimators import BicScore\n",
    "from pgmpy.base import DAG\n",
    "from sklearn.ensemble import RandomForestRegressor\n",
    "from sklearn.ensemble import RandomForestClassifier\n",
    "from sklearn.impute import SimpleImputer\n",
    "from sklearn import metrics\n",
    "from pgmpy.base import DAG\n",
    "from rpy2.robjects import r\n",
    "from rpy2.robjects import pandas2ri\n",
    "from rpy2.robjects import globalenv\n",
    "from rpy2.robjects.packages import importr\n",
    "from pgmpy.estimators import K2Score\n",
    "from rpy2.robjects import conversion, default_converter, pandas2ri\n",
    "from rpy2.robjects.conversion import localconverter\n",
    "from pgmpy.models import BayesianNetwork\n",
    "from sklearn.model_selection import cross_val_score\n",
    "from sklearn.model_selection import train_test_split\n",
    "from sklearn.metrics import auc\n",
    "from sklearn.metrics import roc_curve\n",
    "from sklearn.model_selection import cross_validate\n",
    "from sklearn.model_selection import cross_val_predict\n",
    "from sklearn.metrics import accuracy_score\n",
    "from sklearn.metrics import recall_score\n",
    "import rpy2.robjects as ro\n",
    "from pgmpy.estimators import IVEstimator\n",
    "from pgmpy.estimators import ExpectationMaximization as EM\n",
    "from pgmpy.estimators import BayesianEstimator as BE\n",
    "from pgmpy.estimators import BDeuScore\n",
    "from pgmpy.estimators import BicScore\n",
    "from sklearn.metrics import mutual_info_score\n",
    "from sklearn.metrics import roc_auc_score\n",
    "pandas2ri.activate()\n",
    "from sklearn.metrics import f1_score"
   ]
  },
  {
   "cell_type": "markdown",
   "id": "8b7e6ee9",
   "metadata": {},
   "source": [
    "### 结构学习和参数学习改为R\n",
    "### 新建了图表数据"
   ]
  },
  {
   "cell_type": "code",
   "execution_count": 57,
   "id": "4b37bc16",
   "metadata": {},
   "outputs": [],
   "source": [
    "def to_matrix(edges_dag,columns):\n",
    "    #将图转换为矩阵\n",
    "    edges_matrix = pd.DataFrame(np.zeros((len(columns),len(columns))),index = columns,columns=columns).astype(int)\n",
    "    for edges in edges_dag:\n",
    "        edges_matrix.loc[edges[0],edges[1]]+=1\n",
    "    return edges_matrix\n",
    "\n",
    "def to_dag(edges_matrix):\n",
    "    edges_list = []\n",
    "    for index in edges_matrix.index:\n",
    "        for col in edges_matrix.columns:\n",
    "            if edges_matrix.loc[index,col]!=0:\n",
    "                edges_list.append((index,col))\n",
    "            \n",
    "    #将矩阵转换为图\n",
    "    return edges_list  \n",
    "def print_dag(dag,all_node=False):\n",
    "    if not all_node:\n",
    "        if dag.has_node(\"label\"):\n",
    "            for edges in dag.get_ancestral_graph(\"label\").edges:\n",
    "                print(edges[0],\"->\",edges[1],\";\")\n",
    "        else:\n",
    "            print(\"label have not ancestor\")\n",
    "            for edges in dag.edges:\n",
    "                print(edges[0],\"->\",edges[1],\";\")\n",
    "    else:\n",
    "         for edges in dag.edges:\n",
    "                print(edges[0],\"->\",edges[1],\";\")\n",
    "    return \n",
    "            \n",
    "def model_auc(prob,y_true):\n",
    "    y_prob = []\n",
    "    num = 0\n",
    "    for i in range(len(prob)):\n",
    "        y_prob.append(prob.iloc[i,y_true[i]])\n",
    "    if y_predic[i]==y_true[i]:\n",
    "        num+=1\n",
    "    fpr, tpr, thresholds = roc_curve(y_true,y_predic)\n",
    "    \n",
    "    return auc(fpr, tpr)\n",
    "def to_strength_list(edges_strength_martix):\n",
    "    str_list = []\n",
    "    for col in edges_strength_martix.columns:\n",
    "        for idx in edges_strength_matrix.columns:\n",
    "            #不等于才加\n",
    "            if edges_strength_matrix[col][idx]!=0:\n",
    "                str_list.append([idx,col,edges_strength_matrix[col][idx]])\n",
    "    return str_list\n",
    "\n",
    "#根据互信息的分数计算黑名单\n",
    "def caculate_hos_bl(data,bl):    \n",
    "    mi_bl = []\n",
    "    for col in data.columns:\n",
    "        for index in data.columns:\n",
    "            mi_score = mutual_info_score(data.loc[:,index],data.loc[:,col])\n",
    "            if col==index:\n",
    "                continue\n",
    "            ##互信息分数，如果两个特征的互信息分数小雨0.02的话就将它加入黑名单\n",
    "            if mi_score<0.01:\n",
    "                mi_bl.append([index,col])\n",
    "    h_bl=pd.DataFrame(mi_bl,columns=[\"from\",\"to\"])\n",
    "    h_bl=pd.concat([h_bl,bl])\n",
    "   \n",
    "    return h_bl\n",
    "def cross_validation(ed,DB):\n",
    "    \n",
    "    #cid客户端号，寻找相应的训练数据\n",
    "    auc_score = []\n",
    "    recall = []\n",
    "    acc = []\n",
    "    f1 = []\n",
    "    for i in range(len(DB)): \n",
    "        \n",
    "        model_i= BayesianNetwork(ed.edges)\n",
    "        #创建边\n",
    "        data = DB[i]\n",
    "        \n",
    "        f_1 = model_i.nodes\n",
    "        \n",
    "        f_2 = data.columns\n",
    "        #所有mode有的节点\n",
    "        drop_name = []\n",
    "        for j in f_2:\n",
    "            if not j in f_1:\n",
    "                drop_name.append(j)        \n",
    "        data = data.drop(columns = drop_name,axis = 1)\n",
    "        \n",
    "        \n",
    "        #创建离散变量说明\n",
    "        this_dict = []\n",
    "\n",
    "        for key,value in zip(state_names.keys(),state_names.values()):\n",
    "            \n",
    "            if key in f_1:\n",
    "\n",
    "                this_dict.append((key,value))\n",
    "        this_dict = dict(this_dict)\n",
    "         #训练模型\n",
    "        \n",
    "        \n",
    "        train_data,test_data = train_test_split(data,test_size=0.3,random_state=2)\n",
    "        #得到y-true\n",
    "        y_true = test_data.iloc[:,0]\n",
    "        #测试集\n",
    "        model_i.fit(train_data,estimator=BE,complete_samples_only=True,state_names=this_dict)\n",
    "        \n",
    "        #丢弃label获得\n",
    "        \n",
    "        test_data.drop(columns=\"label\",axis =1,inplace=True)\n",
    "      \n",
    "        #将预测的值从df转换为list形式\n",
    "        \n",
    "        #在predict的时候不知道什么会影响结果\n",
    "        y_pred = list(model_i.predict(test_data).iloc[:,0])\n",
    "       \n",
    "       #模型预测\n",
    "        acc.append(accuracy_score(y_true,y_pred))\n",
    "        recall.append(recall_score(y_true, y_pred))\n",
    "        auc_score.append(roc_auc_score(y_true,y_pred))\n",
    "        f1.append(f1_score(y_true,y_pred))\n",
    "        \n",
    "    return acc,recall,auc_score,f1\n",
    "def dag_score(dag,DB):\n",
    "    score =  []\n",
    "    \n",
    "    for data in DB:\n",
    "        #判断在每个网路之间分数\n",
    "        \n",
    "#                 k2 = K2Score(data)\n",
    "#         score.append(k2.score(dag))\n",
    "        bic = BicScore(data)\n",
    "        score.append(bic.score(dag))\n",
    "    score = np.array(score)\n",
    "    return score\n",
    "def net_score(ed,data,hos_id):\n",
    "    \n",
    "\n",
    "        \n",
    "  \n",
    "    ##转换为R字符串\n",
    "    r_dag = py_to_rdag(ed)\n",
    "    ##预测\n",
    "    r_y = ro.r['predict_label'](r_dag,data,hos_id)-1\n",
    "    for i in range(len(r_y)):\n",
    "        if r_y[i]<0:\n",
    "            r_y[i]=0\n",
    "        elif r_y[i]>1:\n",
    "            r_y[i]=1\n",
    "\n",
    "    split_size = int(len(r_y)*0.5) \n",
    "    \n",
    "    y_pred = r_y[:split_size]\n",
    "    \n",
    "    y_true = r_y[split_size:]\n",
    "    \n",
    "    acc = accuracy_score(y_true,y_pred)\n",
    "    recall = recall_score(y_true, y_pred)\n",
    "    auc = roc_auc_score(y_true,y_pred)\n",
    "    f1 = f1_score(y_true,y_pred)\n",
    "    \n",
    "        \n",
    "    return acc,recall,auc,f1\n",
    "def py_to_rdag(dag):\n",
    "    rdag_str = \"\"\n",
    "    for node in dag.nodes():\n",
    "        tmp_str = \"[\"+node\n",
    "        if dag.get_parents(node)!=[]:\n",
    "            tmp_str = tmp_str+\"|\"\n",
    "            index = len\n",
    "            for i in range(len(dag.get_parents(node))):\n",
    "                if i == len(dag.get_parents(node))-1:\n",
    "                    tmp_str+=dag.get_parents(node)[i]\n",
    "                else:\n",
    "                    tmp_str+=dag.get_parents(node)[i]+\":\"\n",
    "\n",
    "\n",
    "        tmp_str+=\"]\"\n",
    "        rdag_str += tmp_str\n",
    "    return rdag_str\n",
    "    "
   ]
  },
  {
   "cell_type": "code",
   "execution_count": 69,
   "id": "845e2054",
   "metadata": {
    "scrolled": false
   },
   "outputs": [
    {
     "data": {
      "text/plain": [
       "<rpy2.robjects.functions.SignatureTranslatedFunction object at 0x0000018C8570BBC0> [RTYPES.CLOSXP]\n",
       "R classes: ('function',)"
      ]
     },
     "execution_count": 69,
     "metadata": {},
     "output_type": "execute_result"
    }
   ],
   "source": [
    "ro.r(\"\"\"\n",
    "    data_tofactor<-function(data){\n",
    "\n",
    "        datacols = names(data)\n",
    "        \n",
    "        for (i in 1:ncol(data)) {\n",
    "        \n",
    "            data[,datacols[i]] <- factor(data[,datacols[i]])\n",
    "        }\n",
    "    return(data)\n",
    "    }\n",
    "\"\"\")\n",
    "\n",
    "#R结构\n",
    "ro.r(\"\"\"\n",
    "        \n",
    "        r_sturct_study<-function(self_r_data,bl,hos_id){\n",
    "        \n",
    "            library(bnlearn)\n",
    "            \n",
    "            self_r_data = self_r_data[self_r_data[\"hospitalid\"]==hos_id,-1]\n",
    "            \n",
    "            train_size = ceiling(length(self_r_data[,1])*0.7)\n",
    "            \n",
    "            train_data=self_r_data[1:train_size,]\n",
    "            \n",
    "\n",
    "            dag = hc(train_data,score = \"k2\",blacklist = bl)\n",
    "            \n",
    "            arcs = arc.strength(dag,train_data)\n",
    "            \n",
    "            return(arcs)\n",
    "        }\n",
    "\"\"\")\n",
    "\n",
    "#R结构\n",
    "ro.r(\"\"\"\n",
    "        \n",
    "        r_sturct_study_wl<-function(self_r_data,bl,wl,hos_id){\n",
    "        \n",
    "            library(bnlearn)\n",
    "            \n",
    "            self_r_data = self_r_data[self_r_data[\"hospitalid\"]==hos_id,-1]\n",
    "            \n",
    "            train_size = ceiling(length(self_r_data[,1])*0.7)\n",
    "            \n",
    "            train_data=self_r_data[1:train_size,]\n",
    "            \n",
    "\n",
    "            dag = hc(train_data,score = \"k2\",whitelist=wl,blacklist = bl)\n",
    "            \n",
    "            arcs = arc.strength(dag,train_data)\n",
    "            \n",
    "            return(arcs)\n",
    "        }\n",
    "\"\"\")\n",
    "\n",
    "#定义个一个用来预测的R语言的函数\n",
    "ro.r(\"\"\"\n",
    "    predict_label<-function(r_dag,self_r_data,hos_id){\n",
    "        library(bnlearn)\n",
    "        \n",
    "        model = model2network(r_dag)\n",
    "        \n",
    "        self_r_data = self_r_data[self_r_data[\"hospitalid\"]==hos_id,-1]\n",
    "            \n",
    "        train_size = ceiling(length(self_r_data[,1])*0.7)\n",
    "            \n",
    "   \n",
    "        \n",
    "        train_data = self_r_data[1:train_size,nodes(model)]\n",
    "        \n",
    "        test_data = self_r_data[(train_size+1):nrow(self_r_data),nodes(model)]\n",
    "    \n",
    "        training = bn.fit(model,train_data)\n",
    "        \n",
    "        predicted = predict(training, node = \"label\", data = test_data)\n",
    "        \n",
    "        y_true = test_data[,\"label\"]\n",
    "        \n",
    "        out <- c(predicted ,y_true)\n",
    "        \n",
    "        return(out)\n",
    "    }\n",
    "\"\"\")\n"
   ]
  },
  {
   "cell_type": "code",
   "execution_count": 70,
   "id": "174fa9df",
   "metadata": {},
   "outputs": [],
   "source": [
    "class client():\n",
    "    \"\"\"\n",
    "    只改动模型训练部分\n",
    "    black和whitelist 的名单修改\n",
    "    \n",
    "    \"\"\"\n",
    "    def __init__(self,data,cid):\n",
    "        #black 用R语言的存储方式存储\n",
    "        self.score = {}\n",
    "        self.cid = cid\n",
    "        self.data=data\n",
    "        #初始化创建一个空的图\n",
    "        self.model = DAG()\n",
    "        \n",
    "        feature = data.columns\n",
    "        \n",
    "        self.edges_strength = pd.DataFrame(np.zeros((len(feature),len(feature))),index = feature,columns=feature).astype(np.int16)\n",
    "        #创建记录评分的字典\n",
    "        self.score = {\n",
    "            \"acc\":[],\n",
    "            \"recall\":[],\n",
    "            \"auc\":[],\n",
    "            \"f1\":[]}\n",
    "        self.dag_score=0\n",
    "    def bl_update(self,bl):\n",
    "        #在实例化客户端之后，根据自己数据的互信息值创建黑名单\n",
    "        self.black_list = caculate_hos_bl(self.data,bl)\n",
    "    def get_model(self):\n",
    "        #获得本地客户端网络结构\n",
    "        return self.model\n",
    "    def fit(self):\n",
    "        #=\n",
    "        data,t_data = train_test_split(self.data,test_size=0.3,random_state=2)\n",
    "        self_r_data = ro.pandas2ri.py2rpy(data)\n",
    "        \n",
    "        self_r_black_list = ro.conversion.py2rpy(self.black_list)\n",
    "        \n",
    "        \n",
    "        arc_strength = ro.r['r_sturct_study'](DB,self_r_black_list,self.cid)\n",
    "        arc_strength = ro.pandas2ri.rpy2py_dataframe(arc_strength)\n",
    "        self.arc_strength =  arc_strength.round(4)\n",
    "        #创建新的模型，并添加结果\n",
    "        self.model = DAG()\n",
    "        print(\"客户端\",self.cid+1,\"开始fit\")\n",
    "        for i in range(len(arc_strength[\"from\"])):\n",
    "            \n",
    "            #汇集频数\n",
    "            self.model.add_edge(arc_strength[\"from\"][i],arc_strength[\"to\"][i])\n",
    "          \n",
    "            \n",
    "#            #汇集强度转换为矩阵\n",
    "            self.edges_strength.loc[[arc_strength[\"from\"][i]],[arc_strength[\"to\"][i]]]=arc_strength[\"strength\"][i]\n",
    "        self.edges_strength=self.edges_strength.round(4)\n",
    "        #计算网路得分\n",
    "        bic = BicScore(self.data)\n",
    "        self.dag_score=bic.score(self.model)\n",
    "        return 1\n",
    "    \n",
    "    def update_model(self,wl):\n",
    "        #代改动部分，每次也是创建一个新的贝叶斯网络实例进行白名单结构学习，并返回边模型，最好还是保持pgmpy的形式\n",
    "    \n",
    "        new_dag = DAG()\n",
    "        \n",
    "        wl_r =ro.conversion.py2rpy(wl)\n",
    "        #客户端将自身的黑名单转换为R数据模式传进函数里\n",
    "        \n",
    "        self_r_black_list = ro.conversion.py2rpy(self.black_list)\n",
    "                                                 \n",
    "        \n",
    "        #调用R函数，并接收返回值\n",
    "        \n",
    "        arc_strength_r = ro.r['r_sturct_study_wl'](DB,self_r_black_list,wl_r,self.cid)\n",
    "        \n",
    "        self.arc_strength=ro.pandas2ri.rpy2py_dataframe(arc_strength_r)\n",
    "        \n",
    "        print(\"客户端\",self.cid,\"开始update\")\n",
    "        #重新生成一个副本，比较那个性能较高\n",
    "        for i in range(len(self.arc_strength[\"from\"])):\n",
    "            #转换自己的网络\n",
    "            new_dag.add_edge(self.arc_strength[\"from\"][i],self.arc_strength[\"to\"][i])\n",
    "            #生成新的强度列表\n",
    "            self.edges_strength.loc[[self.arc_strength[\"from\"][i]],[self.arc_strength[\"to\"][i]]]=self.arc_strength[\"strength\"][i]\n",
    "        \n",
    "        \n",
    "        self.edges_strength=self.edges_strength.round(4)\n",
    "        \n",
    "        \n",
    "        ##目前用AUC计算网络的分数\n",
    "        \n",
    "        new_score = net_score(new_dag,DB,self.cid)\n",
    "        \n",
    "        old_score = net_score(self.model,DB,self.cid)\n",
    "        \n",
    "        \n",
    "        \n",
    "        if new_score[2]>old_score[2]:\n",
    "            self.model = new_dag\n",
    "        else:\n",
    "            new_score = old_score\n",
    "            \n",
    "        print(new_score)\n",
    "        \n",
    "        self.score[\"acc\"].append(new_score[0])\n",
    "        self.score[\"recall\"].append(new_score[1])\n",
    "        self.score[\"auc\"].append(new_score[2])\n",
    "        self.score[\"f1\"].append(new_score[3])\n",
    "        \n",
    "    \n",
    "        bic = BicScore(self.data)\n",
    "        \n",
    "        self.dag_score=bic.score(self.model)\n",
    "        \n",
    "    def client_score():\n",
    "        ##获得当前本网络的性能\n",
    "        r_dag = py_to_rdag(self.model)\n",
    "        \n",
    "        r_y = ro.r['predict_label'](r_dag,self_r_data,hos_id)\n",
    "        split_size = len(r_y)*0.5\n",
    "        y_pred = r_y[:split_size]\n",
    "        y_true = r_y[split_size:]\n",
    "        \n",
    "        \n",
    "        \n",
    "class sever():\n",
    "    def __init__(self):\n",
    "        pass\n",
    "        \n",
    "    def Fd_caculate(self,edges_strength_matrix,round_num):\n",
    "        #聚合方法\n",
    "        #聚合的方式改为计算强度的阈值，并返回一个有无环图\n",
    "        \n",
    "        #变为list，并且设置为df格式\n",
    "        arc_ls = pd.DataFrame(to_strength_list(edges_strength_matrix.astype(np.float16)),columns=[\"from\",\"to\",\"strength\"])\n",
    "        #from和to的df格式并按大小排列\n",
    "        arc_ls = arc_ls.sort_values(by=\"strength\")\n",
    "        #1.按照10个选择，但是白名单的列表应该不断的成长，而不是固定的数值\n",
    "        #在每次讲融合DAG加入网络之后，先检验是否有这条边，如果有则跳过\n",
    "    \n",
    "        i = 0\n",
    "        index = 0\n",
    "\n",
    "        fuseDAG = DAG()\n",
    "        while i <round_num*5:\n",
    "            arc = (arc_ls.loc[i+index,\"from\"],arc_ls.loc[i+index,\"to\"])\n",
    "            ##防止图的有环结构\n",
    "            if fuseDAG.has_edge(arc[1],arc[0]):\n",
    "                i=i+1\n",
    "                continue\n",
    "            fuseDAG.add_edge(arc[0],arc[1])\n",
    "            \n",
    "         \n",
    "            i+=1\n",
    "        #检查边是否有环，并且破环\n",
    "        print(\"检查环\")\n",
    "        for root in fuseDAG.nodes():\n",
    "            node_list=fuseDAG.get_ancestral_graph(root).nodes()\n",
    "            for nd in node_list:\n",
    "                if fuseDAG.has_edge(root,nd):\n",
    "                    print(root,nd)\n",
    "                    fuseDAG.remove_edge(root,nd)\n",
    "        return  fuseDAG"
   ]
  },
  {
   "cell_type": "code",
   "execution_count": 76,
   "id": "4f850553",
   "metadata": {
    "scrolled": true
   },
   "outputs": [],
   "source": [
    "DB_1 = pd.read_csv(\"c:data/site_16topaucoutlinePmmImpData_dis.csv\").drop(columns=\"Unnamed: 0\",axis = 1)\n",
    "# DB_1 = pd.read_csv(\"D:/实验室/数据/eicu数据处理/tenSiteDTDisc.csv\").drop(columns=[\"Unnamed: 0\",\"creatinine\",\"patientunitstayid\"],axis = 1)\n",
    "DB_1=DB_1.sample(frac=1).reset_index(drop=True)\n",
    "DB_1[\"label\"].value_counts()\n",
    "DB_1 = DB_1.astype(np.int16)\n",
    "DB_1.fillna(1)\n",
    "# 数据分割\n",
    "# hos_id = [420,142,122,435,390,227,195,243,403,141]\n",
    "hos_id = [420,142,122,435,390,227,144,140,396,141]##性能最好\n",
    "# hos_id = [420,142,122,435,390,382,144,140,396,141]\n",
    "# hos_id = [420,142,122,384,390,227,144,140,396,141]\n",
    "# hos_id = [420,142,122,435,390,227,144,384,143,403]\n",
    "# hos_id = [420,142,122,435,384,143,403,195,382,243]##性能最后后六个是外部验证\n",
    "hos_id = np.sort(hos_id)\n",
    "client_data = []\n",
    "feature = DB_1.drop(columns = [\"hospitalid\"]).columns\n",
    "global DB\n",
    "DB = ro.r[\"data_tofactor\"](DB_1)\n",
    "for hosid in hos_id:\n",
    "    client_data.append(DB_1[DB_1[\"hospitalid\"]==hosid ].iloc[:,:].drop(columns = [\"hospitalid\"],axis = 1))\n",
    "    \n",
    "#设置黑名单\n",
    "bl =[]\n",
    "for i in feature:\n",
    "    bl.append([\"label\",i])\n",
    "    bl.append([i,\"sex\"])\n",
    "    bl.append([i,\"race\"])\n",
    "    bl.append([i,\"bmi\"])\n",
    "    bl.append([i,\"age\"])\n",
    "bl = pd.DataFrame(bl,columns=[\"from\",\"to\"])\n",
    "# bl_r = ro.conversion.py2rpy(bl)\n",
    "# globalenv['bl_r'] = bl_r\n",
    "#计算样本量比重\n",
    "D = 19388\n",
    "D_W = []\n",
    "for i in range(10):\n",
    "    D_W.append(len(client_data[i])/D)\n",
    "D_W = np.float16(D_W)\n",
    "\n",
    "#将所有的离散状态记录下来，以字典的方式\n",
    "state_names  ={\n",
    "    \"lable\":[0,1],\n",
    "    \"age\":[1,2,3,4,5,6,7,8],\n",
    "    \"sex\":[1,2],\n",
    "    \"race\":[1,2,3,4,5],\n",
    "    \"bmi\":[1,2,3,4],\n",
    "    \"temperature\":[1,2,3],\n",
    "    \"heartrate\":[1,2,3],\n",
    "    \"respiration\":[1,2,3],\n",
    "    \"SBP\":[1,2,3,4,5],\n",
    "    \"DBP\":[1,2,3,4,5],\n",
    "    \"paSystolic\":[1,2,3],\n",
    "    \"paDiastolic\":[1,2,3],\n",
    "    \"paMean\":[1,2,3],\n",
    "}\n",
    "LAB_list = []\n",
    "for i in range(1,61):\n",
    "    LAB_list.append((\"LAB\"+str(i),[1,2,3]))\n",
    "COM_list = []\n",
    "for i in range(1,12):\n",
    "    COM_list.append((\"COM\"+str(i),[0,1]))\n",
    "PRO_list = []\n",
    "for i in range(1,10):\n",
    "    COM_list.append((\"PRO\"+str(i),[0,1]))\n",
    "MED_list = []\n",
    "for i in range(1,55):\n",
    "    MED_list.append((\"MED\"+str(i),[0,1]))\n",
    "state_names.update(LAB_list)\n",
    "state_names.update(COM_list)\n",
    "state_names.update(PRO_list)\n",
    "state_names.update(MED_list)\n",
    "BN_list = []\n",
    "for i in range(1,11):\n",
    "    BN_list.append(\"BN\"+str(i))\n",
    "    \n"
   ]
  },
  {
   "cell_type": "code",
   "execution_count": 77,
   "id": "587fa54c",
   "metadata": {
    "scrolled": false
   },
   "outputs": [
    {
     "name": "stdout",
     "output_type": "stream",
     "text": [
      "计算每个网络的初始性能\n",
      "客户端 123 开始fit\n",
      "客户端 141 开始fit\n",
      "客户端 142 开始fit\n",
      "客户端 143 开始fit\n",
      "客户端 145 开始fit\n",
      "客户端 228 开始fit\n",
      "客户端 391 开始fit\n",
      "客户端 397 开始fit\n",
      "客户端 421 开始fit\n",
      "客户端 436 开始fit\n",
      "开始训练\n",
      "转换\n",
      "输出未加权只是相加的强度\n",
      "检查环\n",
      "转换完毕\n",
      "LAB19 -> label ;\n",
      "COM1 -> label ;\n",
      "COM3 -> label ;\n",
      "COM4 -> label ;\n",
      "COM7 -> label ;\n",
      "第 2 次迭代\n",
      "传递客户端信息\n",
      "客户端 122 开始update\n",
      "(0.7738896366083445, 0.6872037914691943, 0.7477372340804619, 0.6331877729257642)\n",
      "客户端 140 开始update\n",
      "(0.8397435897435898, 0.8333333333333334, 0.8382352941176471, 0.782608695652174)\n",
      "客户端 141 开始update\n",
      "(0.7798594847775175, 0.8125, 0.7903769841269841, 0.6594202898550725)\n",
      "客户端 142 开始update\n",
      "(0.803680981595092, 0.7289156626506024, 0.7855104629042485, 0.7159763313609467)\n",
      "客户端 144 开始update\n",
      "(0.7965367965367965, 0.9032258064516129, 0.8303111280778774, 0.7044025157232705)\n",
      "客户端 227 开始update\n",
      "(0.8009708737864077, 0.45794392523364486, 0.6896277003217405, 0.5444444444444444)\n",
      "客户端 390 开始update\n",
      "(0.7936046511627907, 0.803030303030303, 0.7953830760434534, 0.7491166077738516)\n",
      "客户端 396 开始update\n",
      "(0.7839506172839507, 0.9310344827586207, 0.8164787798408487, 0.7552447552447552)\n",
      "客户端 420 开始update\n",
      "(0.8473520249221184, 0.7385786802030457, 0.8170421490902868, 0.7480719794344473)\n",
      "客户端 435 开始update\n",
      "(0.764102564102564, 0.8345864661654135, 0.7811064626546913, 0.7070063694267515)\n",
      "转换\n",
      "输出未加权只是相加的强度\n",
      "检查环\n",
      "转换完毕\n",
      "LAB19 -> label ;\n",
      "COM1 -> label ;\n",
      "COM3 -> label ;\n",
      "COM4 -> label ;\n",
      "COM6 -> label ;\n",
      "COM7 -> label ;\n",
      "COM8 -> label ;\n",
      "COM10 -> label ;\n",
      "COM11 -> label ;\n",
      "PRO3 -> label ;\n",
      "第 3 次迭代\n",
      "传递客户端信息\n",
      "客户端 122 开始update\n",
      "(0.7738896366083445, 0.6872037914691943, 0.7477372340804619, 0.6331877729257642)\n",
      "客户端 140 开始update\n",
      "(0.8397435897435898, 0.8333333333333334, 0.8382352941176471, 0.782608695652174)\n",
      "客户端 141 开始update\n",
      "(0.7822014051522248, 0.8392857142857143, 0.8005952380952381, 0.6690391459074734)\n",
      "客户端 142 开始update\n",
      "(0.803680981595092, 0.7289156626506024, 0.7855104629042485, 0.7159763313609467)\n",
      "客户端 144 开始update\n",
      "(0.7965367965367965, 0.9032258064516129, 0.8303111280778774, 0.7044025157232705)\n",
      "客户端 227 开始update\n",
      "(0.75, 0.8411214953271028, 0.7795771411061743, 0.6360424028268551)\n",
      "客户端 390 开始update\n",
      "(0.7936046511627907, 0.803030303030303, 0.7953830760434534, 0.7491166077738516)\n",
      "客户端 396 开始update\n",
      "(0.7839506172839507, 0.9310344827586207, 0.8164787798408487, 0.7552447552447552)\n",
      "客户端 420 开始update\n",
      "(0.838006230529595, 0.7741116751269036, 0.8202019049791822, 0.7457212713936431)\n",
      "客户端 435 开始update\n",
      "(0.764102564102564, 0.8345864661654135, 0.7811064626546913, 0.7070063694267515)\n",
      "转换\n",
      "输出未加权只是相加的强度\n",
      "检查环\n",
      "转换完毕\n",
      "LAB19 -> label ;\n",
      "COM1 -> label ;\n",
      "COM3 -> label ;\n",
      "COM4 -> label ;\n",
      "COM6 -> label ;\n",
      "COM7 -> label ;\n",
      "COM8 -> label ;\n",
      "COM10 -> label ;\n",
      "COM11 -> label ;\n",
      "PRO3 -> label ;\n",
      "respiration -> heartrate ;\n",
      "LAB12 -> heartrate ;\n",
      "PRO7 -> heartrate ;\n",
      "LAB35 -> respiration ;\n",
      "LAB10 -> LAB2 ;\n",
      "第 4 次迭代\n",
      "传递客户端信息\n",
      "客户端 122 开始update\n",
      "(0.7738896366083445, 0.6872037914691943, 0.7477372340804619, 0.6331877729257642)\n",
      "客户端 140 开始update\n",
      "(0.8397435897435898, 0.8333333333333334, 0.8382352941176471, 0.782608695652174)\n",
      "客户端 141 开始update\n",
      "(0.7868852459016393, 0.8392857142857143, 0.8037698412698413, 0.6738351254480287)\n",
      "客户端 142 开始update\n",
      "(0.803680981595092, 0.7289156626506024, 0.7855104629042485, 0.7159763313609467)\n",
      "客户端 144 开始update\n",
      "(0.7965367965367965, 0.9032258064516129, 0.8303111280778774, 0.7044025157232705)\n",
      "客户端 227 开始update\n",
      "(0.75, 0.8411214953271028, 0.7795771411061743, 0.6360424028268551)\n",
      "客户端 390 开始update\n",
      "(0.7936046511627907, 0.803030303030303, 0.7953830760434534, 0.7491166077738516)\n",
      "客户端 396 开始update\n",
      "(0.7839506172839507, 0.9310344827586207, 0.8164787798408487, 0.7552447552447552)\n",
      "客户端 420 开始update\n",
      "(0.839563862928349, 0.7741116751269036, 0.8213255004848002, 0.7475490196078431)\n",
      "客户端 435 开始update\n",
      "(0.764102564102564, 0.8345864661654135, 0.7811064626546913, 0.7070063694267515)\n",
      "转换\n",
      "输出未加权只是相加的强度\n",
      "检查环\n",
      "转换完毕\n",
      "LAB19 -> label ;\n",
      "COM1 -> label ;\n",
      "COM3 -> label ;\n",
      "COM4 -> label ;\n",
      "COM6 -> label ;\n",
      "COM7 -> label ;\n",
      "COM8 -> label ;\n",
      "COM10 -> label ;\n",
      "COM11 -> label ;\n",
      "PRO3 -> label ;\n",
      "respiration -> heartrate ;\n",
      "LAB12 -> heartrate ;\n",
      "PRO7 -> heartrate ;\n",
      "LAB35 -> respiration ;\n",
      "LAB10 -> LAB2 ;\n",
      "LAB16 -> LAB2 ;\n",
      "LAB24 -> LAB2 ;\n",
      "LAB39 -> LAB2 ;\n",
      "LAB42 -> LAB2 ;\n",
      "LAB59 -> LAB2 ;\n",
      "第 5 次迭代\n",
      "传递客户端信息\n",
      "客户端 122 开始update\n",
      "(0.7738896366083445, 0.6872037914691943, 0.7477372340804619, 0.6331877729257642)\n",
      "客户端 140 开始update\n",
      "(0.8397435897435898, 0.8333333333333334, 0.8382352941176471, 0.782608695652174)\n",
      "客户端 141 开始update\n",
      "(0.7892271662763466, 0.8392857142857143, 0.805357142857143, 0.6762589928057554)\n",
      "客户端 142 开始update\n",
      "(0.803680981595092, 0.7289156626506024, 0.7855104629042485, 0.7159763313609467)\n",
      "客户端 144 开始update\n",
      "(0.7965367965367965, 0.9032258064516129, 0.8303111280778774, 0.7044025157232705)\n",
      "客户端 227 开始update\n",
      "(0.7451456310679612, 0.8411214953271028, 0.7762984525815841, 0.631578947368421)\n",
      "客户端 390 开始update\n",
      "(0.7936046511627907, 0.803030303030303, 0.7953830760434534, 0.7491166077738516)\n",
      "客户端 396 开始update\n",
      "(0.7839506172839507, 0.9310344827586207, 0.8164787798408487, 0.7552447552447552)\n",
      "客户端 420 开始update\n",
      "(0.839563862928349, 0.7741116751269036, 0.8213255004848002, 0.7475490196078431)\n",
      "客户端 435 开始update\n",
      "(0.764102564102564, 0.8345864661654135, 0.7811064626546913, 0.7070063694267515)\n",
      "转换\n",
      "输出未加权只是相加的强度\n",
      "检查环\n",
      "转换完毕\n",
      "LAB19 -> label ;\n",
      "LAB19 -> LAB3 ;\n",
      "COM1 -> label ;\n",
      "COM3 -> label ;\n",
      "COM4 -> label ;\n",
      "COM6 -> label ;\n",
      "COM7 -> label ;\n",
      "COM8 -> label ;\n",
      "COM10 -> label ;\n",
      "COM11 -> label ;\n",
      "COM11 -> LAB3 ;\n",
      "PRO3 -> label ;\n",
      "respiration -> heartrate ;\n",
      "LAB12 -> heartrate ;\n",
      "PRO7 -> heartrate ;\n",
      "LAB35 -> respiration ;\n",
      "LAB10 -> LAB2 ;\n",
      "LAB16 -> LAB2 ;\n",
      "LAB24 -> LAB2 ;\n",
      "LAB39 -> LAB2 ;\n",
      "LAB39 -> LAB3 ;\n",
      "LAB42 -> LAB2 ;\n",
      "LAB59 -> LAB2 ;\n",
      "LAB4 -> LAB3 ;\n",
      "LAB14 -> LAB3 ;\n",
      "第 6 次迭代\n",
      "传递客户端信息\n",
      "客户端 122 开始update\n",
      "(0.7738896366083445, 0.6872037914691943, 0.7477372340804619, 0.6331877729257642)\n",
      "客户端 140 开始update\n",
      "(0.8397435897435898, 0.8333333333333334, 0.8382352941176471, 0.782608695652174)\n",
      "客户端 141 开始update\n",
      "(0.7892271662763466, 0.8392857142857143, 0.805357142857143, 0.6762589928057554)\n",
      "客户端 142 开始update\n",
      "(0.803680981595092, 0.7289156626506024, 0.7855104629042485, 0.7159763313609467)\n",
      "客户端 144 开始update\n",
      "(0.7965367965367965, 0.9032258064516129, 0.8303111280778774, 0.7044025157232705)\n",
      "客户端 227 开始update\n",
      "(0.7475728155339806, 0.8411214953271028, 0.7779377968438792, 0.6338028169014085)\n",
      "客户端 390 开始update\n",
      "(0.7936046511627907, 0.803030303030303, 0.7953830760434534, 0.7491166077738516)\n",
      "客户端 396 开始update\n",
      "(0.7839506172839507, 0.9310344827586207, 0.8164787798408487, 0.7552447552447552)\n",
      "客户端 420 开始update\n",
      "(0.8403426791277259, 0.7741116751269036, 0.8218872982376091, 0.7484662576687117)\n",
      "客户端 435 开始update\n",
      "(0.764102564102564, 0.8345864661654135, 0.7811064626546913, 0.7070063694267515)\n",
      "转换\n",
      "输出未加权只是相加的强度\n",
      "检查环\n",
      "转换完毕\n",
      "LAB19 -> label ;\n",
      "LAB19 -> LAB3 ;\n",
      "COM1 -> label ;\n",
      "COM3 -> label ;\n",
      "COM4 -> label ;\n",
      "COM6 -> label ;\n",
      "COM7 -> label ;\n",
      "COM8 -> label ;\n",
      "COM10 -> label ;\n",
      "COM11 -> label ;\n",
      "COM11 -> LAB3 ;\n",
      "PRO3 -> label ;\n",
      "respiration -> heartrate ;\n",
      "LAB12 -> heartrate ;\n",
      "LAB12 -> LAB4 ;\n",
      "PRO7 -> heartrate ;\n",
      "LAB35 -> respiration ;\n",
      "LAB10 -> LAB2 ;\n",
      "LAB16 -> LAB2 ;\n",
      "LAB24 -> LAB2 ;\n",
      "LAB39 -> LAB2 ;\n",
      "LAB39 -> LAB3 ;\n",
      "LAB42 -> LAB2 ;\n",
      "LAB59 -> LAB2 ;\n",
      "LAB4 -> LAB3 ;\n",
      "LAB14 -> LAB3 ;\n",
      "LAB14 -> LAB4 ;\n",
      "LAB15 -> LAB4 ;\n",
      "LAB18 -> LAB4 ;\n",
      "LAB25 -> LAB4 ;\n",
      "第 7 次迭代\n",
      "传递客户端信息\n",
      "客户端 122 开始update\n",
      "(0.7738896366083445, 0.6872037914691943, 0.7477372340804619, 0.6331877729257642)\n",
      "客户端 140 开始update\n",
      "(0.8397435897435898, 0.8333333333333334, 0.8382352941176471, 0.782608695652174)\n",
      "客户端 141 开始update\n",
      "(0.7822014051522248, 0.8392857142857143, 0.8005952380952381, 0.6690391459074734)\n",
      "客户端 142 开始update\n",
      "(0.803680981595092, 0.7289156626506024, 0.7855104629042485, 0.7159763313609467)\n",
      "客户端 144 开始update\n",
      "(0.7965367965367965, 0.9032258064516129, 0.8303111280778774, 0.7044025157232705)\n",
      "客户端 227 开始update\n",
      "(0.7451456310679612, 0.8411214953271028, 0.7762984525815841, 0.631578947368421)\n",
      "客户端 390 开始update\n",
      "(0.7936046511627907, 0.803030303030303, 0.7953830760434534, 0.7491166077738516)\n",
      "客户端 396 开始update\n",
      "(0.7839506172839507, 0.9310344827586207, 0.8164787798408487, 0.7552447552447552)\n",
      "客户端 420 开始update\n",
      "(0.8403426791277259, 0.7741116751269036, 0.8218872982376091, 0.7484662576687117)\n",
      "客户端 435 开始update\n",
      "(0.764102564102564, 0.8345864661654135, 0.7811064626546913, 0.7070063694267515)\n",
      "转换\n",
      "输出未加权只是相加的强度\n",
      "检查环\n",
      "转换完毕\n",
      "LAB19 -> label ;\n",
      "LAB19 -> LAB3 ;\n",
      "COM1 -> label ;\n",
      "COM3 -> label ;\n",
      "COM4 -> label ;\n",
      "COM4 -> LAB5 ;\n",
      "COM6 -> label ;\n",
      "COM7 -> label ;\n",
      "COM8 -> label ;\n",
      "COM10 -> label ;\n",
      "COM11 -> label ;\n",
      "COM11 -> LAB3 ;\n",
      "PRO3 -> label ;\n",
      "respiration -> heartrate ;\n",
      "LAB12 -> heartrate ;\n",
      "LAB12 -> LAB4 ;\n",
      "PRO7 -> heartrate ;\n",
      "LAB35 -> respiration ;\n",
      "LAB10 -> LAB2 ;\n",
      "LAB16 -> LAB2 ;\n",
      "LAB24 -> LAB2 ;\n",
      "LAB39 -> LAB2 ;\n",
      "LAB39 -> LAB3 ;\n",
      "LAB39 -> LAB5 ;\n",
      "LAB42 -> LAB2 ;\n",
      "LAB59 -> LAB2 ;\n",
      "LAB4 -> LAB3 ;\n",
      "LAB14 -> LAB3 ;\n",
      "LAB14 -> LAB4 ;\n",
      "LAB15 -> LAB4 ;\n",
      "LAB18 -> LAB4 ;\n",
      "LAB25 -> LAB4 ;\n",
      "LAB27 -> LAB5 ;\n",
      "LAB34 -> LAB5 ;\n",
      "LAB56 -> LAB5 ;\n",
      "第 8 次迭代\n",
      "传递客户端信息\n"
     ]
    },
    {
     "name": "stdout",
     "output_type": "stream",
     "text": [
      "客户端 122 开始update\n",
      "(0.7738896366083445, 0.6872037914691943, 0.7477372340804619, 0.6331877729257642)\n",
      "客户端 140 开始update\n",
      "(0.8397435897435898, 0.8333333333333334, 0.8382352941176471, 0.782608695652174)\n",
      "客户端 141 开始update\n",
      "(0.7845433255269321, 0.8392857142857143, 0.8021825396825396, 0.6714285714285715)\n",
      "客户端 142 开始update\n",
      "(0.803680981595092, 0.7289156626506024, 0.7855104629042485, 0.7159763313609467)\n",
      "客户端 144 开始update\n",
      "(0.7965367965367965, 0.9032258064516129, 0.8303111280778774, 0.7044025157232705)\n",
      "客户端 227 开始update\n",
      "(0.75, 0.8317757009345794, 0.7765435881722078, 0.6334519572953737)\n",
      "客户端 390 开始update\n",
      "(0.7936046511627907, 0.803030303030303, 0.7953830760434534, 0.7491166077738516)\n",
      "客户端 396 开始update\n",
      "(0.7839506172839507, 0.9310344827586207, 0.8164787798408487, 0.7552447552447552)\n",
      "客户端 420 开始update\n",
      "(0.8411214953271028, 0.7741116751269036, 0.8224490959904182, 0.7493857493857494)\n",
      "客户端 435 开始update\n",
      "(0.764102564102564, 0.8345864661654135, 0.7811064626546913, 0.7070063694267515)\n",
      "转换\n",
      "输出未加权只是相加的强度\n",
      "检查环\n",
      "转换完毕\n",
      "LAB19 -> label ;\n",
      "LAB19 -> LAB3 ;\n",
      "COM1 -> label ;\n",
      "COM3 -> label ;\n",
      "COM4 -> label ;\n",
      "COM4 -> LAB5 ;\n",
      "COM6 -> label ;\n",
      "COM7 -> label ;\n",
      "COM8 -> label ;\n",
      "COM8 -> LAB5 ;\n",
      "COM10 -> label ;\n",
      "COM11 -> label ;\n",
      "COM11 -> LAB3 ;\n",
      "PRO3 -> label ;\n",
      "respiration -> heartrate ;\n",
      "LAB12 -> heartrate ;\n",
      "LAB12 -> LAB4 ;\n",
      "PRO7 -> heartrate ;\n",
      "LAB35 -> respiration ;\n",
      "LAB10 -> LAB2 ;\n",
      "LAB16 -> LAB2 ;\n",
      "LAB24 -> LAB2 ;\n",
      "LAB39 -> LAB2 ;\n",
      "LAB39 -> LAB3 ;\n",
      "LAB39 -> LAB5 ;\n",
      "LAB42 -> LAB2 ;\n",
      "LAB59 -> LAB2 ;\n",
      "LAB4 -> LAB3 ;\n",
      "LAB14 -> LAB3 ;\n",
      "LAB14 -> LAB4 ;\n",
      "LAB15 -> LAB4 ;\n",
      "LAB18 -> LAB4 ;\n",
      "LAB25 -> LAB4 ;\n",
      "LAB20 -> LAB5 ;\n",
      "LAB27 -> LAB5 ;\n",
      "LAB34 -> LAB5 ;\n",
      "LAB50 -> LAB5 ;\n",
      "LAB56 -> LAB5 ;\n",
      "COM9 -> LAB5 ;\n",
      "LAB43 -> LAB6 ;\n",
      "第 9 次迭代\n",
      "传递客户端信息\n",
      "客户端 122 开始update\n",
      "(0.7738896366083445, 0.6872037914691943, 0.7477372340804619, 0.6331877729257642)\n",
      "客户端 140 开始update\n",
      "(0.8397435897435898, 0.8333333333333334, 0.8382352941176471, 0.782608695652174)\n",
      "客户端 141 开始update\n",
      "(0.7868852459016393, 0.8303571428571429, 0.8008928571428572, 0.6714801444043321)\n",
      "客户端 142 开始update\n",
      "(0.803680981595092, 0.7289156626506024, 0.7855104629042485, 0.7159763313609467)\n",
      "客户端 144 开始update\n",
      "(0.7965367965367965, 0.9032258064516129, 0.8303111280778774, 0.7044025157232705)\n",
      "客户端 227 开始update\n",
      "(0.7427184466019418, 0.8411214953271028, 0.7746591083192891, 0.6293706293706295)\n",
      "客户端 390 开始update\n",
      "(0.7936046511627907, 0.803030303030303, 0.7953830760434534, 0.7491166077738516)\n",
      "客户端 396 开始update\n",
      "(0.7839506172839507, 0.9310344827586207, 0.8164787798408487, 0.7552447552447552)\n",
      "客户端 420 开始update\n",
      "(0.8403426791277259, 0.7741116751269036, 0.8218872982376091, 0.7484662576687117)\n",
      "客户端 435 开始update\n",
      "(0.764102564102564, 0.8345864661654135, 0.7811064626546913, 0.7070063694267515)\n",
      "转换\n",
      "输出未加权只是相加的强度\n",
      "检查环\n",
      "转换完毕\n",
      "LAB19 -> label ;\n",
      "LAB19 -> LAB3 ;\n",
      "COM1 -> label ;\n",
      "COM3 -> label ;\n",
      "COM4 -> label ;\n",
      "COM4 -> LAB5 ;\n",
      "COM6 -> label ;\n",
      "COM7 -> label ;\n",
      "COM8 -> label ;\n",
      "COM8 -> LAB5 ;\n",
      "COM10 -> label ;\n",
      "COM11 -> label ;\n",
      "COM11 -> LAB3 ;\n",
      "PRO3 -> label ;\n",
      "respiration -> heartrate ;\n",
      "LAB12 -> heartrate ;\n",
      "LAB12 -> LAB4 ;\n",
      "PRO7 -> heartrate ;\n",
      "LAB35 -> respiration ;\n",
      "LAB10 -> LAB2 ;\n",
      "LAB2 -> LAB5 ;\n",
      "LAB16 -> LAB2 ;\n",
      "LAB24 -> LAB2 ;\n",
      "LAB24 -> LAB5 ;\n",
      "LAB39 -> LAB2 ;\n",
      "LAB39 -> LAB3 ;\n",
      "LAB39 -> LAB5 ;\n",
      "LAB42 -> LAB2 ;\n",
      "LAB59 -> LAB2 ;\n",
      "LAB4 -> LAB3 ;\n",
      "LAB14 -> LAB3 ;\n",
      "LAB14 -> LAB4 ;\n",
      "LAB15 -> LAB4 ;\n",
      "LAB18 -> LAB4 ;\n",
      "LAB25 -> LAB4 ;\n",
      "age -> LAB5 ;\n",
      "bmi -> LAB5 ;\n",
      "LAB11 -> LAB5 ;\n",
      "LAB20 -> LAB5 ;\n",
      "LAB27 -> LAB5 ;\n",
      "LAB34 -> LAB5 ;\n",
      "LAB47 -> LAB5 ;\n",
      "LAB50 -> LAB5 ;\n",
      "LAB56 -> LAB5 ;\n",
      "COM9 -> LAB5 ;\n",
      "第 10 次迭代\n",
      "传递客户端信息\n",
      "客户端 122 开始update\n",
      "(0.7738896366083445, 0.6872037914691943, 0.7477372340804619, 0.6331877729257642)\n",
      "客户端 140 开始update\n",
      "(0.8397435897435898, 0.8333333333333334, 0.8382352941176471, 0.782608695652174)\n",
      "客户端 141 开始update\n",
      "(0.7868852459016393, 0.8392857142857143, 0.8037698412698413, 0.6738351254480287)\n",
      "客户端 142 开始update\n",
      "(0.803680981595092, 0.7289156626506024, 0.7855104629042485, 0.7159763313609467)\n",
      "客户端 144 开始update\n",
      "(0.7965367965367965, 0.9032258064516129, 0.8303111280778774, 0.7044025157232705)\n",
      "客户端 227 开始update\n",
      "(0.7451456310679612, 0.8411214953271028, 0.7762984525815841, 0.631578947368421)\n",
      "客户端 390 开始update\n",
      "(0.7936046511627907, 0.803030303030303, 0.7953830760434534, 0.7491166077738516)\n",
      "客户端 396 开始update\n",
      "(0.7839506172839507, 0.9310344827586207, 0.8164787798408487, 0.7552447552447552)\n",
      "客户端 420 开始update\n",
      "(0.838006230529595, 0.7741116751269036, 0.8202019049791822, 0.7457212713936431)\n",
      "客户端 435 开始update\n",
      "(0.764102564102564, 0.8345864661654135, 0.7811064626546913, 0.7070063694267515)\n"
     ]
    }
   ],
   "source": [
    "all_score_init=[]\n",
    "all_score_list=[]\n",
    "fuse_dag_list = []\n",
    "dag_struct_init_list = []\n",
    "pandas2ri.activate()\n",
    "scr_l=['fnml','bdla','mbde','bds','bic','loglik','bde', 'mbde', 'k2', 'qnml']\n",
    "for scr in scr_l:\n",
    "    if scr!=\"loglik\":\n",
    "        continue\n",
    "    fuseDAG = DAG()\n",
    "    \n",
    "    globalenv['scr'] = scr\n",
    "\n",
    "  \n",
    "    # 结构训练\n",
    "    train_round = 10\n",
    "    round_num = 1\n",
    "    client_num = 10\n",
    "    clients = []\n",
    "\n",
    "    for i in range(10):\n",
    "    # 创建客户端，并且传入数据和结构学习模型\n",
    "        clients.append(client(client_data[i],hos_id[i]))\n",
    "    # 初始化服务器\n",
    "    sever_1 = sever()\n",
    "    #分别创建一个0/1矩阵和强度矩阵\n",
    "    edges_strength_matrix_list =[]\n",
    "    #记录边的频数\n",
    "    global_edges_matrix = pd.DataFrame(np.zeros((len(feature),len(feature))),index = feature,columns=feature).astype(np.int16)\n",
    "    #记录边的强度\n",
    "    edges_strength_matrix = pd.DataFrame(np.zeros((len(feature),len(feature))),index = feature,columns=feature).astype(np.int16)\n",
    "    \n",
    "    global_edges_strength_matrix = pd.DataFrame(np.zeros((len(feature),len(feature))),index = feature,columns=feature).astype(np.int16)\n",
    "\n",
    "    score_list = []\n",
    "\n",
    "    #先本地客户端建立初始模型,并且计算每个网络的初始性能\n",
    "    print(\"计算每个网络的初始性能\")\n",
    "    for i in range(client_num):\n",
    "        clients[i].bl_update(bl)\n",
    "        clients[i].fit()\n",
    "        dag_struct_init_list.append(clients[i].model)\n",
    "        score_list.append(net_score(clients[i].model,DB,clients[i].cid))\n",
    "    init_score = pd.DataFrame(score_list,index=BN_list,columns=[\"acc\",'recall','auc','f1']).T\n",
    "    all_score_init.append(init_score)\n",
    "    #正式循环\n",
    "    print(\"开始训练\")\n",
    "    while(round_num<train_round):\n",
    "        #重置矩阵,设置评分\n",
    "        global_edges_matrix.iloc[:,:] = 0\n",
    "        edges_strength_matrix.iloc[:,:] = 0\n",
    "        #get到每个客户端边强度的总和\n",
    "        arc_strength_list = []\n",
    "        arc_weight_list = []\n",
    "        dag_score_list= []\n",
    "        #开始聚集客户端边的信息\n",
    "\n",
    "        for i in range(client_num):\n",
    "            #将客户端最好的模型边信息转换为矩阵形式\n",
    "            global_edges_matrix+=to_matrix(clients[i].model.edges(),feature)\n",
    "            dag_score_list.append(clients[i].dag_score)\n",
    "            #将矩阵转换为列表形式，并strength按列合并数据\n",
    "        #在这里计算边的强度\n",
    "        #进行分数的权重\n",
    "        dag_score_list=np.array(dag_score_list)\n",
    "        min_score = min(dag_score_list)\n",
    "#         #看下输出结构的分数\n",
    "#         for i in range(len(dag_score_list)):\n",
    "#             dag_score_list[i]=dag_score_list[i]-min_score+1\n",
    "#             for j in range(len(clients[i].arc_strength)):\n",
    "#                 print(clients[i].arc_strength.sort_values(by=\"strength\",ascending=False).iloc[j,:])\n",
    "\n",
    "    \n",
    "        #汇集带权重的边的信息\n",
    "        for i in range(client_num):\n",
    "            #边的强度*数据量权重*网络分数/遍的个数 \n",
    "    #         print(get_label_str(clients[i]))\n",
    "\n",
    "            global_edges_strength_matrix+=clients[i].edges_strength\n",
    "\n",
    "            edges_strength_matrix+=clients[i].edges_strength*D_W[i]*dag_score_list[i]/len(clients[i].model.edges())\n",
    "\n",
    "        print(\"转换\")\n",
    "        #将矩阵转换为，一个from->to + str 的表\n",
    "\n",
    "\n",
    "        global_edges_strength_matrix_list = to_strength_list(global_edges_strength_matrix)\n",
    "        print(\"输出未加权只是相加的强度\")\n",
    "\n",
    "\n",
    "        edges_strength_matrix_list.append(edges_strength_matrix)\n",
    "    #     print(\"\")\n",
    "    #     for i in range(len(edges_strength_matrix_list)):\n",
    "    #         print(edges_strength_matrix_list.iloc[i,:])\n",
    "\n",
    "        fuseDAG = sever_1.Fd_caculate(edges_strength_matrix.round(4),round_num)\n",
    "        \n",
    "        \n",
    "        print(\"转换完毕\")\n",
    "        #输出一下混合的结果\n",
    "        for j in fuseDAG.edges:\n",
    "            print(j[0],\"->\",j[1],\";\")\n",
    "\n",
    "\n",
    "\n",
    "        #得到fuseDAG之后，观察整个网络评分的变化\n",
    "\n",
    "        print(\"第\",round_num+1,\"次迭代\")\n",
    "        #跟新客户端\n",
    "\n",
    "        #设置白名单\n",
    "        wl = []\n",
    "        for edge in fuseDAG.edges():\n",
    "            wl.append([edge[0],edge[1]])\n",
    "\n",
    "        wl = pd.DataFrame(wl,columns=[\"from\",\"to\"])\n",
    "        print(\"传递客户端信息\")\n",
    "        for i in range(client_num):\n",
    "\n",
    "            clients[i]. update_model(wl)\n",
    "\n",
    "        round_num+=1\n",
    "        \n",
    " \n",
    "\n",
    "    \n",
    "    \n",
    "    \n",
    "\n"
   ]
  },
  {
   "cell_type": "code",
   "execution_count": 83,
   "id": "9f3aa01e",
   "metadata": {},
   "outputs": [],
   "source": [
    "score_list=[]\n",
    "for i in range(client_num):\n",
    "    score_list.append(net_score(clients[i].model,DB,clients[i].cid))\n",
    "fuse_score_all  = pd.DataFrame(score_list,index=hos_id,columns=[\"acc\",'recall','auc','f1']).T\n"
   ]
  },
  {
   "cell_type": "code",
   "execution_count": 84,
   "id": "58baf823",
   "metadata": {},
   "outputs": [],
   "source": [
    "score_list=[]\n",
    "for i in range(10):\n",
    "    score_list.append(net_score(fuseDAG,DB,hos_id[i]))\n",
    "fuse_score  = pd.DataFrame(score_list,index=hos_id,columns=[\"acc\",'recall','auc','f1']).T"
   ]
  },
  {
   "cell_type": "code",
   "execution_count": 85,
   "id": "4a674483",
   "metadata": {},
   "outputs": [
    {
     "data": {
      "text/html": [
       "<div>\n",
       "<style scoped>\n",
       "    .dataframe tbody tr th:only-of-type {\n",
       "        vertical-align: middle;\n",
       "    }\n",
       "\n",
       "    .dataframe tbody tr th {\n",
       "        vertical-align: top;\n",
       "    }\n",
       "\n",
       "    .dataframe thead th {\n",
       "        text-align: right;\n",
       "    }\n",
       "</style>\n",
       "<table border=\"1\" class=\"dataframe\">\n",
       "  <thead>\n",
       "    <tr style=\"text-align: right;\">\n",
       "      <th></th>\n",
       "      <th>122</th>\n",
       "      <th>140</th>\n",
       "      <th>141</th>\n",
       "      <th>142</th>\n",
       "      <th>144</th>\n",
       "      <th>227</th>\n",
       "      <th>390</th>\n",
       "      <th>396</th>\n",
       "      <th>420</th>\n",
       "      <th>435</th>\n",
       "    </tr>\n",
       "  </thead>\n",
       "  <tbody>\n",
       "    <tr>\n",
       "      <th>acc</th>\n",
       "      <td>0.773890</td>\n",
       "      <td>0.839744</td>\n",
       "      <td>0.786885</td>\n",
       "      <td>0.803681</td>\n",
       "      <td>0.796537</td>\n",
       "      <td>0.745146</td>\n",
       "      <td>0.793605</td>\n",
       "      <td>0.783951</td>\n",
       "      <td>0.839564</td>\n",
       "      <td>0.764103</td>\n",
       "    </tr>\n",
       "    <tr>\n",
       "      <th>recall</th>\n",
       "      <td>0.687204</td>\n",
       "      <td>0.833333</td>\n",
       "      <td>0.839286</td>\n",
       "      <td>0.728916</td>\n",
       "      <td>0.903226</td>\n",
       "      <td>0.841121</td>\n",
       "      <td>0.803030</td>\n",
       "      <td>0.931034</td>\n",
       "      <td>0.774112</td>\n",
       "      <td>0.834586</td>\n",
       "    </tr>\n",
       "    <tr>\n",
       "      <th>auc</th>\n",
       "      <td>0.747737</td>\n",
       "      <td>0.838235</td>\n",
       "      <td>0.803770</td>\n",
       "      <td>0.785510</td>\n",
       "      <td>0.830311</td>\n",
       "      <td>0.776298</td>\n",
       "      <td>0.795383</td>\n",
       "      <td>0.816479</td>\n",
       "      <td>0.821326</td>\n",
       "      <td>0.781106</td>\n",
       "    </tr>\n",
       "    <tr>\n",
       "      <th>f1</th>\n",
       "      <td>0.633188</td>\n",
       "      <td>0.782609</td>\n",
       "      <td>0.673835</td>\n",
       "      <td>0.715976</td>\n",
       "      <td>0.704403</td>\n",
       "      <td>0.631579</td>\n",
       "      <td>0.749117</td>\n",
       "      <td>0.755245</td>\n",
       "      <td>0.747549</td>\n",
       "      <td>0.707006</td>\n",
       "    </tr>\n",
       "  </tbody>\n",
       "</table>\n",
       "</div>"
      ],
      "text/plain": [
       "             122       140       141       142       144       227       390  \\\n",
       "acc     0.773890  0.839744  0.786885  0.803681  0.796537  0.745146  0.793605   \n",
       "recall  0.687204  0.833333  0.839286  0.728916  0.903226  0.841121  0.803030   \n",
       "auc     0.747737  0.838235  0.803770  0.785510  0.830311  0.776298  0.795383   \n",
       "f1      0.633188  0.782609  0.673835  0.715976  0.704403  0.631579  0.749117   \n",
       "\n",
       "             396       420       435  \n",
       "acc     0.783951  0.839564  0.764103  \n",
       "recall  0.931034  0.774112  0.834586  \n",
       "auc     0.816479  0.821326  0.781106  \n",
       "f1      0.755245  0.747549  0.707006  "
      ]
     },
     "execution_count": 85,
     "metadata": {},
     "output_type": "execute_result"
    }
   ],
   "source": [
    "fuse_score_all"
   ]
  },
  {
   "cell_type": "code",
   "execution_count": 86,
   "id": "d93a2f72",
   "metadata": {},
   "outputs": [
    {
     "data": {
      "text/html": [
       "<div>\n",
       "<style scoped>\n",
       "    .dataframe tbody tr th:only-of-type {\n",
       "        vertical-align: middle;\n",
       "    }\n",
       "\n",
       "    .dataframe tbody tr th {\n",
       "        vertical-align: top;\n",
       "    }\n",
       "\n",
       "    .dataframe thead th {\n",
       "        text-align: right;\n",
       "    }\n",
       "</style>\n",
       "<table border=\"1\" class=\"dataframe\">\n",
       "  <thead>\n",
       "    <tr style=\"text-align: right;\">\n",
       "      <th></th>\n",
       "      <th>122</th>\n",
       "      <th>140</th>\n",
       "      <th>141</th>\n",
       "      <th>142</th>\n",
       "      <th>144</th>\n",
       "      <th>227</th>\n",
       "      <th>390</th>\n",
       "      <th>396</th>\n",
       "      <th>420</th>\n",
       "      <th>435</th>\n",
       "    </tr>\n",
       "  </thead>\n",
       "  <tbody>\n",
       "    <tr>\n",
       "      <th>acc</th>\n",
       "      <td>0.744280</td>\n",
       "      <td>0.724359</td>\n",
       "      <td>0.786885</td>\n",
       "      <td>0.760736</td>\n",
       "      <td>0.731602</td>\n",
       "      <td>0.747573</td>\n",
       "      <td>0.773256</td>\n",
       "      <td>0.709877</td>\n",
       "      <td>0.836449</td>\n",
       "      <td>0.733333</td>\n",
       "    </tr>\n",
       "    <tr>\n",
       "      <th>recall</th>\n",
       "      <td>0.744076</td>\n",
       "      <td>0.814815</td>\n",
       "      <td>0.839286</td>\n",
       "      <td>0.789157</td>\n",
       "      <td>0.854839</td>\n",
       "      <td>0.841121</td>\n",
       "      <td>0.871212</td>\n",
       "      <td>0.948276</td>\n",
       "      <td>0.774112</td>\n",
       "      <td>0.887218</td>\n",
       "    </tr>\n",
       "    <tr>\n",
       "      <th>auc</th>\n",
       "      <td>0.744218</td>\n",
       "      <td>0.745643</td>\n",
       "      <td>0.803770</td>\n",
       "      <td>0.767643</td>\n",
       "      <td>0.770615</td>\n",
       "      <td>0.777938</td>\n",
       "      <td>0.791738</td>\n",
       "      <td>0.762599</td>\n",
       "      <td>0.819078</td>\n",
       "      <td>0.770457</td>\n",
       "    </tr>\n",
       "    <tr>\n",
       "      <th>f1</th>\n",
       "      <td>0.623016</td>\n",
       "      <td>0.671756</td>\n",
       "      <td>0.673835</td>\n",
       "      <td>0.691293</td>\n",
       "      <td>0.630952</td>\n",
       "      <td>0.633803</td>\n",
       "      <td>0.746753</td>\n",
       "      <td>0.700637</td>\n",
       "      <td>0.743902</td>\n",
       "      <td>0.694118</td>\n",
       "    </tr>\n",
       "  </tbody>\n",
       "</table>\n",
       "</div>"
      ],
      "text/plain": [
       "             122       140       141       142       144       227       390  \\\n",
       "acc     0.744280  0.724359  0.786885  0.760736  0.731602  0.747573  0.773256   \n",
       "recall  0.744076  0.814815  0.839286  0.789157  0.854839  0.841121  0.871212   \n",
       "auc     0.744218  0.745643  0.803770  0.767643  0.770615  0.777938  0.791738   \n",
       "f1      0.623016  0.671756  0.673835  0.691293  0.630952  0.633803  0.746753   \n",
       "\n",
       "             396       420       435  \n",
       "acc     0.709877  0.836449  0.733333  \n",
       "recall  0.948276  0.774112  0.887218  \n",
       "auc     0.762599  0.819078  0.770457  \n",
       "f1      0.700637  0.743902  0.694118  "
      ]
     },
     "execution_count": 86,
     "metadata": {},
     "output_type": "execute_result"
    }
   ],
   "source": [
    "fuse_score"
   ]
  },
  {
   "cell_type": "code",
   "execution_count": 87,
   "id": "92b29b1a",
   "metadata": {
    "scrolled": true
   },
   "outputs": [
    {
     "data": {
      "text/html": [
       "<div>\n",
       "<style scoped>\n",
       "    .dataframe tbody tr th:only-of-type {\n",
       "        vertical-align: middle;\n",
       "    }\n",
       "\n",
       "    .dataframe tbody tr th {\n",
       "        vertical-align: top;\n",
       "    }\n",
       "\n",
       "    .dataframe thead th {\n",
       "        text-align: right;\n",
       "    }\n",
       "</style>\n",
       "<table border=\"1\" class=\"dataframe\">\n",
       "  <thead>\n",
       "    <tr style=\"text-align: right;\">\n",
       "      <th></th>\n",
       "      <th>BN1</th>\n",
       "      <th>BN2</th>\n",
       "      <th>BN3</th>\n",
       "      <th>BN4</th>\n",
       "      <th>BN5</th>\n",
       "      <th>BN6</th>\n",
       "      <th>BN7</th>\n",
       "      <th>BN8</th>\n",
       "      <th>BN9</th>\n",
       "      <th>BN10</th>\n",
       "    </tr>\n",
       "  </thead>\n",
       "  <tbody>\n",
       "    <tr>\n",
       "      <th>acc</th>\n",
       "      <td>0.773890</td>\n",
       "      <td>0.839744</td>\n",
       "      <td>0.779859</td>\n",
       "      <td>0.803681</td>\n",
       "      <td>0.796537</td>\n",
       "      <td>0.800971</td>\n",
       "      <td>0.793605</td>\n",
       "      <td>0.783951</td>\n",
       "      <td>0.847352</td>\n",
       "      <td>0.764103</td>\n",
       "    </tr>\n",
       "    <tr>\n",
       "      <th>recall</th>\n",
       "      <td>0.687204</td>\n",
       "      <td>0.833333</td>\n",
       "      <td>0.812500</td>\n",
       "      <td>0.728916</td>\n",
       "      <td>0.903226</td>\n",
       "      <td>0.457944</td>\n",
       "      <td>0.803030</td>\n",
       "      <td>0.931034</td>\n",
       "      <td>0.738579</td>\n",
       "      <td>0.834586</td>\n",
       "    </tr>\n",
       "    <tr>\n",
       "      <th>auc</th>\n",
       "      <td>0.747737</td>\n",
       "      <td>0.838235</td>\n",
       "      <td>0.790377</td>\n",
       "      <td>0.785510</td>\n",
       "      <td>0.830311</td>\n",
       "      <td>0.689628</td>\n",
       "      <td>0.795383</td>\n",
       "      <td>0.816479</td>\n",
       "      <td>0.817042</td>\n",
       "      <td>0.781106</td>\n",
       "    </tr>\n",
       "    <tr>\n",
       "      <th>f1</th>\n",
       "      <td>0.633188</td>\n",
       "      <td>0.782609</td>\n",
       "      <td>0.659420</td>\n",
       "      <td>0.715976</td>\n",
       "      <td>0.704403</td>\n",
       "      <td>0.544444</td>\n",
       "      <td>0.749117</td>\n",
       "      <td>0.755245</td>\n",
       "      <td>0.748072</td>\n",
       "      <td>0.707006</td>\n",
       "    </tr>\n",
       "  </tbody>\n",
       "</table>\n",
       "</div>"
      ],
      "text/plain": [
       "             BN1       BN2       BN3       BN4       BN5       BN6       BN7  \\\n",
       "acc     0.773890  0.839744  0.779859  0.803681  0.796537  0.800971  0.793605   \n",
       "recall  0.687204  0.833333  0.812500  0.728916  0.903226  0.457944  0.803030   \n",
       "auc     0.747737  0.838235  0.790377  0.785510  0.830311  0.689628  0.795383   \n",
       "f1      0.633188  0.782609  0.659420  0.715976  0.704403  0.544444  0.749117   \n",
       "\n",
       "             BN8       BN9      BN10  \n",
       "acc     0.783951  0.847352  0.764103  \n",
       "recall  0.931034  0.738579  0.834586  \n",
       "auc     0.816479  0.817042  0.781106  \n",
       "f1      0.755245  0.748072  0.707006  "
      ]
     },
     "execution_count": 87,
     "metadata": {},
     "output_type": "execute_result"
    }
   ],
   "source": [
    "all_score_init[0]"
   ]
  },
  {
   "cell_type": "code",
   "execution_count": 74,
   "id": "9f2ff741",
   "metadata": {},
   "outputs": [
    {
     "name": "stdout",
     "output_type": "stream",
     "text": [
      "PRO3 -> label ;\n",
      "LAB19 -> label ;\n",
      "COM7 -> label ;\n",
      "COM8 -> label ;\n",
      "COM10 -> label ;\n",
      "COM6 -> label ;\n",
      "COM11 -> label ;\n",
      "COM1 -> label ;\n",
      "COM4 -> label ;\n",
      "COM3 -> label ;\n"
     ]
    }
   ],
   "source": [
    "print_dag(fuseDAG)"
   ]
  },
  {
   "cell_type": "code",
   "execution_count": 88,
   "id": "235ef689",
   "metadata": {},
   "outputs": [
    {
     "data": {
      "text/html": [
       "        <script type=\"text/javascript\">\n",
       "        window.PlotlyConfig = {MathJaxConfig: 'local'};\n",
       "        if (window.MathJax) {MathJax.Hub.Config({SVG: {font: \"STIX-Web\"}});}\n",
       "        if (typeof require !== 'undefined') {\n",
       "        require.undef(\"plotly\");\n",
       "        requirejs.config({\n",
       "            paths: {\n",
       "                'plotly': ['https://cdn.plot.ly/plotly-2.9.0.min']\n",
       "            }\n",
       "        });\n",
       "        require(['plotly'], function(Plotly) {\n",
       "            window._Plotly = Plotly;\n",
       "        });\n",
       "        }\n",
       "        </script>\n",
       "        "
      ]
     },
     "metadata": {},
     "output_type": "display_data"
    }
   ],
   "source": [
    "import plotly\n",
    "from plotly.offline import init_notebook_mode,iplot\n",
    "init_notebook_mode(connected=True) \n",
    "import plotly.graph_objs as go"
   ]
  },
  {
   "cell_type": "code",
   "execution_count": null,
   "id": "3df40058",
   "metadata": {},
   "outputs": [],
   "source": [
    "def plot_data(mth_list,idx):\n",
    "    score_name = [\"acc\",\"recall\",\"auc\",\"f1\"]\n",
    "    plot_data = []\n",
    "    for i,j in zip(mth_list,scr):\n",
    "        trace = go.Scatter(x = [1,2,3,4,5,6,7,8,9,10],y =np.array(i.iloc[idx,:]),name = j,mode = \"lines+markers\")\n",
    "        plot_data.append(trace)\n",
    "    layout = go.Layout(\n",
    "        xaxis=dict(\n",
    "            tickvals = [1,2,3,4,5,6,7,8,9,10],\n",
    "            ticktext=hos_id),\n",
    "        yaxis_range=[0.6,0.91],\n",
    "        \n",
    "        yaxis=dict(\n",
    "            tickmode=\"linear\",\n",
    "            tick0=0.8,\n",
    "            dtick=0.05),\n",
    "        \n",
    "        title='不同方法在医院上对比_'+score_name[idx],\n",
    "        titlefont={\n",
    "        'size':25,\n",
    "        'color':'#9ed900'\n",
    "     })\n",
    "    fig = go.Figure(data=plot_data,layout=layout)\n",
    "    iplot(fig)"
   ]
  },
  {
   "cell_type": "code",
   "execution_count": null,
   "id": "b732b8aa",
   "metadata": {},
   "outputs": [],
   "source": []
  },
  {
   "cell_type": "code",
   "execution_count": 95,
   "id": "c68e641f",
   "metadata": {},
   "outputs": [
    {
     "data": {
      "application/vnd.plotly.v1+json": {
       "config": {
        "linkText": "Export to plot.ly",
        "plotlyServerURL": "https://plot.ly",
        "showLink": false
       },
       "data": [
        {
         "mode": "lines+markers",
         "name": "updated_client",
         "type": "scatter",
         "x": [
          1,
          2,
          3,
          4,
          5,
          6,
          7,
          8,
          9,
          10
         ],
         "y": [
          0.7477372340804619,
          0.8382352941176471,
          0.8037698412698413,
          0.7855104629042485,
          0.8303111280778774,
          0.7762984525815841,
          0.7953830760434534,
          0.8164787798408487,
          0.8213255004848002,
          0.7811064626546913
         ]
        },
        {
         "mode": "lines+markers",
         "name": "fuse_dag",
         "type": "scatter",
         "x": [
          1,
          2,
          3,
          4,
          5,
          6,
          7,
          8,
          9,
          10
         ],
         "y": [
          0.7442183658197626,
          0.7456427015250544,
          0.8037698412698413,
          0.7676433287328882,
          0.7706146211108991,
          0.7779377968438792,
          0.7917381360777587,
          0.7625994694960212,
          0.8190783094735642,
          0.7704572715836282
         ]
        },
        {
         "mode": "lines+markers",
         "name": "init_client",
         "type": "scatter",
         "x": [
          1,
          2,
          3,
          4,
          5,
          6,
          7,
          8,
          9,
          10
         ],
         "y": [
          0.7477372340804619,
          0.8382352941176471,
          0.7903769841269841,
          0.7855104629042485,
          0.8303111280778774,
          0.6896277003217405,
          0.7953830760434534,
          0.8164787798408487,
          0.8170421490902868,
          0.7811064626546913
         ]
        }
       ],
       "layout": {
        "template": {
         "data": {
          "bar": [
           {
            "error_x": {
             "color": "#2a3f5f"
            },
            "error_y": {
             "color": "#2a3f5f"
            },
            "marker": {
             "line": {
              "color": "#E5ECF6",
              "width": 0.5
             },
             "pattern": {
              "fillmode": "overlay",
              "size": 10,
              "solidity": 0.2
             }
            },
            "type": "bar"
           }
          ],
          "barpolar": [
           {
            "marker": {
             "line": {
              "color": "#E5ECF6",
              "width": 0.5
             },
             "pattern": {
              "fillmode": "overlay",
              "size": 10,
              "solidity": 0.2
             }
            },
            "type": "barpolar"
           }
          ],
          "carpet": [
           {
            "aaxis": {
             "endlinecolor": "#2a3f5f",
             "gridcolor": "white",
             "linecolor": "white",
             "minorgridcolor": "white",
             "startlinecolor": "#2a3f5f"
            },
            "baxis": {
             "endlinecolor": "#2a3f5f",
             "gridcolor": "white",
             "linecolor": "white",
             "minorgridcolor": "white",
             "startlinecolor": "#2a3f5f"
            },
            "type": "carpet"
           }
          ],
          "choropleth": [
           {
            "colorbar": {
             "outlinewidth": 0,
             "ticks": ""
            },
            "type": "choropleth"
           }
          ],
          "contour": [
           {
            "colorbar": {
             "outlinewidth": 0,
             "ticks": ""
            },
            "colorscale": [
             [
              0,
              "#0d0887"
             ],
             [
              0.1111111111111111,
              "#46039f"
             ],
             [
              0.2222222222222222,
              "#7201a8"
             ],
             [
              0.3333333333333333,
              "#9c179e"
             ],
             [
              0.4444444444444444,
              "#bd3786"
             ],
             [
              0.5555555555555556,
              "#d8576b"
             ],
             [
              0.6666666666666666,
              "#ed7953"
             ],
             [
              0.7777777777777778,
              "#fb9f3a"
             ],
             [
              0.8888888888888888,
              "#fdca26"
             ],
             [
              1,
              "#f0f921"
             ]
            ],
            "type": "contour"
           }
          ],
          "contourcarpet": [
           {
            "colorbar": {
             "outlinewidth": 0,
             "ticks": ""
            },
            "type": "contourcarpet"
           }
          ],
          "heatmap": [
           {
            "colorbar": {
             "outlinewidth": 0,
             "ticks": ""
            },
            "colorscale": [
             [
              0,
              "#0d0887"
             ],
             [
              0.1111111111111111,
              "#46039f"
             ],
             [
              0.2222222222222222,
              "#7201a8"
             ],
             [
              0.3333333333333333,
              "#9c179e"
             ],
             [
              0.4444444444444444,
              "#bd3786"
             ],
             [
              0.5555555555555556,
              "#d8576b"
             ],
             [
              0.6666666666666666,
              "#ed7953"
             ],
             [
              0.7777777777777778,
              "#fb9f3a"
             ],
             [
              0.8888888888888888,
              "#fdca26"
             ],
             [
              1,
              "#f0f921"
             ]
            ],
            "type": "heatmap"
           }
          ],
          "heatmapgl": [
           {
            "colorbar": {
             "outlinewidth": 0,
             "ticks": ""
            },
            "colorscale": [
             [
              0,
              "#0d0887"
             ],
             [
              0.1111111111111111,
              "#46039f"
             ],
             [
              0.2222222222222222,
              "#7201a8"
             ],
             [
              0.3333333333333333,
              "#9c179e"
             ],
             [
              0.4444444444444444,
              "#bd3786"
             ],
             [
              0.5555555555555556,
              "#d8576b"
             ],
             [
              0.6666666666666666,
              "#ed7953"
             ],
             [
              0.7777777777777778,
              "#fb9f3a"
             ],
             [
              0.8888888888888888,
              "#fdca26"
             ],
             [
              1,
              "#f0f921"
             ]
            ],
            "type": "heatmapgl"
           }
          ],
          "histogram": [
           {
            "marker": {
             "pattern": {
              "fillmode": "overlay",
              "size": 10,
              "solidity": 0.2
             }
            },
            "type": "histogram"
           }
          ],
          "histogram2d": [
           {
            "colorbar": {
             "outlinewidth": 0,
             "ticks": ""
            },
            "colorscale": [
             [
              0,
              "#0d0887"
             ],
             [
              0.1111111111111111,
              "#46039f"
             ],
             [
              0.2222222222222222,
              "#7201a8"
             ],
             [
              0.3333333333333333,
              "#9c179e"
             ],
             [
              0.4444444444444444,
              "#bd3786"
             ],
             [
              0.5555555555555556,
              "#d8576b"
             ],
             [
              0.6666666666666666,
              "#ed7953"
             ],
             [
              0.7777777777777778,
              "#fb9f3a"
             ],
             [
              0.8888888888888888,
              "#fdca26"
             ],
             [
              1,
              "#f0f921"
             ]
            ],
            "type": "histogram2d"
           }
          ],
          "histogram2dcontour": [
           {
            "colorbar": {
             "outlinewidth": 0,
             "ticks": ""
            },
            "colorscale": [
             [
              0,
              "#0d0887"
             ],
             [
              0.1111111111111111,
              "#46039f"
             ],
             [
              0.2222222222222222,
              "#7201a8"
             ],
             [
              0.3333333333333333,
              "#9c179e"
             ],
             [
              0.4444444444444444,
              "#bd3786"
             ],
             [
              0.5555555555555556,
              "#d8576b"
             ],
             [
              0.6666666666666666,
              "#ed7953"
             ],
             [
              0.7777777777777778,
              "#fb9f3a"
             ],
             [
              0.8888888888888888,
              "#fdca26"
             ],
             [
              1,
              "#f0f921"
             ]
            ],
            "type": "histogram2dcontour"
           }
          ],
          "mesh3d": [
           {
            "colorbar": {
             "outlinewidth": 0,
             "ticks": ""
            },
            "type": "mesh3d"
           }
          ],
          "parcoords": [
           {
            "line": {
             "colorbar": {
              "outlinewidth": 0,
              "ticks": ""
             }
            },
            "type": "parcoords"
           }
          ],
          "pie": [
           {
            "automargin": true,
            "type": "pie"
           }
          ],
          "scatter": [
           {
            "marker": {
             "colorbar": {
              "outlinewidth": 0,
              "ticks": ""
             }
            },
            "type": "scatter"
           }
          ],
          "scatter3d": [
           {
            "line": {
             "colorbar": {
              "outlinewidth": 0,
              "ticks": ""
             }
            },
            "marker": {
             "colorbar": {
              "outlinewidth": 0,
              "ticks": ""
             }
            },
            "type": "scatter3d"
           }
          ],
          "scattercarpet": [
           {
            "marker": {
             "colorbar": {
              "outlinewidth": 0,
              "ticks": ""
             }
            },
            "type": "scattercarpet"
           }
          ],
          "scattergeo": [
           {
            "marker": {
             "colorbar": {
              "outlinewidth": 0,
              "ticks": ""
             }
            },
            "type": "scattergeo"
           }
          ],
          "scattergl": [
           {
            "marker": {
             "colorbar": {
              "outlinewidth": 0,
              "ticks": ""
             }
            },
            "type": "scattergl"
           }
          ],
          "scattermapbox": [
           {
            "marker": {
             "colorbar": {
              "outlinewidth": 0,
              "ticks": ""
             }
            },
            "type": "scattermapbox"
           }
          ],
          "scatterpolar": [
           {
            "marker": {
             "colorbar": {
              "outlinewidth": 0,
              "ticks": ""
             }
            },
            "type": "scatterpolar"
           }
          ],
          "scatterpolargl": [
           {
            "marker": {
             "colorbar": {
              "outlinewidth": 0,
              "ticks": ""
             }
            },
            "type": "scatterpolargl"
           }
          ],
          "scatterternary": [
           {
            "marker": {
             "colorbar": {
              "outlinewidth": 0,
              "ticks": ""
             }
            },
            "type": "scatterternary"
           }
          ],
          "surface": [
           {
            "colorbar": {
             "outlinewidth": 0,
             "ticks": ""
            },
            "colorscale": [
             [
              0,
              "#0d0887"
             ],
             [
              0.1111111111111111,
              "#46039f"
             ],
             [
              0.2222222222222222,
              "#7201a8"
             ],
             [
              0.3333333333333333,
              "#9c179e"
             ],
             [
              0.4444444444444444,
              "#bd3786"
             ],
             [
              0.5555555555555556,
              "#d8576b"
             ],
             [
              0.6666666666666666,
              "#ed7953"
             ],
             [
              0.7777777777777778,
              "#fb9f3a"
             ],
             [
              0.8888888888888888,
              "#fdca26"
             ],
             [
              1,
              "#f0f921"
             ]
            ],
            "type": "surface"
           }
          ],
          "table": [
           {
            "cells": {
             "fill": {
              "color": "#EBF0F8"
             },
             "line": {
              "color": "white"
             }
            },
            "header": {
             "fill": {
              "color": "#C8D4E3"
             },
             "line": {
              "color": "white"
             }
            },
            "type": "table"
           }
          ]
         },
         "layout": {
          "annotationdefaults": {
           "arrowcolor": "#2a3f5f",
           "arrowhead": 0,
           "arrowwidth": 1
          },
          "autotypenumbers": "strict",
          "coloraxis": {
           "colorbar": {
            "outlinewidth": 0,
            "ticks": ""
           }
          },
          "colorscale": {
           "diverging": [
            [
             0,
             "#8e0152"
            ],
            [
             0.1,
             "#c51b7d"
            ],
            [
             0.2,
             "#de77ae"
            ],
            [
             0.3,
             "#f1b6da"
            ],
            [
             0.4,
             "#fde0ef"
            ],
            [
             0.5,
             "#f7f7f7"
            ],
            [
             0.6,
             "#e6f5d0"
            ],
            [
             0.7,
             "#b8e186"
            ],
            [
             0.8,
             "#7fbc41"
            ],
            [
             0.9,
             "#4d9221"
            ],
            [
             1,
             "#276419"
            ]
           ],
           "sequential": [
            [
             0,
             "#0d0887"
            ],
            [
             0.1111111111111111,
             "#46039f"
            ],
            [
             0.2222222222222222,
             "#7201a8"
            ],
            [
             0.3333333333333333,
             "#9c179e"
            ],
            [
             0.4444444444444444,
             "#bd3786"
            ],
            [
             0.5555555555555556,
             "#d8576b"
            ],
            [
             0.6666666666666666,
             "#ed7953"
            ],
            [
             0.7777777777777778,
             "#fb9f3a"
            ],
            [
             0.8888888888888888,
             "#fdca26"
            ],
            [
             1,
             "#f0f921"
            ]
           ],
           "sequentialminus": [
            [
             0,
             "#0d0887"
            ],
            [
             0.1111111111111111,
             "#46039f"
            ],
            [
             0.2222222222222222,
             "#7201a8"
            ],
            [
             0.3333333333333333,
             "#9c179e"
            ],
            [
             0.4444444444444444,
             "#bd3786"
            ],
            [
             0.5555555555555556,
             "#d8576b"
            ],
            [
             0.6666666666666666,
             "#ed7953"
            ],
            [
             0.7777777777777778,
             "#fb9f3a"
            ],
            [
             0.8888888888888888,
             "#fdca26"
            ],
            [
             1,
             "#f0f921"
            ]
           ]
          },
          "colorway": [
           "#636efa",
           "#EF553B",
           "#00cc96",
           "#ab63fa",
           "#FFA15A",
           "#19d3f3",
           "#FF6692",
           "#B6E880",
           "#FF97FF",
           "#FECB52"
          ],
          "font": {
           "color": "#2a3f5f"
          },
          "geo": {
           "bgcolor": "white",
           "lakecolor": "white",
           "landcolor": "#E5ECF6",
           "showlakes": true,
           "showland": true,
           "subunitcolor": "white"
          },
          "hoverlabel": {
           "align": "left"
          },
          "hovermode": "closest",
          "mapbox": {
           "style": "light"
          },
          "paper_bgcolor": "white",
          "plot_bgcolor": "#E5ECF6",
          "polar": {
           "angularaxis": {
            "gridcolor": "white",
            "linecolor": "white",
            "ticks": ""
           },
           "bgcolor": "#E5ECF6",
           "radialaxis": {
            "gridcolor": "white",
            "linecolor": "white",
            "ticks": ""
           }
          },
          "scene": {
           "xaxis": {
            "backgroundcolor": "#E5ECF6",
            "gridcolor": "white",
            "gridwidth": 2,
            "linecolor": "white",
            "showbackground": true,
            "ticks": "",
            "zerolinecolor": "white"
           },
           "yaxis": {
            "backgroundcolor": "#E5ECF6",
            "gridcolor": "white",
            "gridwidth": 2,
            "linecolor": "white",
            "showbackground": true,
            "ticks": "",
            "zerolinecolor": "white"
           },
           "zaxis": {
            "backgroundcolor": "#E5ECF6",
            "gridcolor": "white",
            "gridwidth": 2,
            "linecolor": "white",
            "showbackground": true,
            "ticks": "",
            "zerolinecolor": "white"
           }
          },
          "shapedefaults": {
           "line": {
            "color": "#2a3f5f"
           }
          },
          "ternary": {
           "aaxis": {
            "gridcolor": "white",
            "linecolor": "white",
            "ticks": ""
           },
           "baxis": {
            "gridcolor": "white",
            "linecolor": "white",
            "ticks": ""
           },
           "bgcolor": "#E5ECF6",
           "caxis": {
            "gridcolor": "white",
            "linecolor": "white",
            "ticks": ""
           }
          },
          "title": {
           "x": 0.05
          },
          "xaxis": {
           "automargin": true,
           "gridcolor": "white",
           "linecolor": "white",
           "ticks": "",
           "title": {
            "standoff": 15
           },
           "zerolinecolor": "white",
           "zerolinewidth": 2
          },
          "yaxis": {
           "automargin": true,
           "gridcolor": "white",
           "linecolor": "white",
           "ticks": "",
           "title": {
            "standoff": 15
           },
           "zerolinecolor": "white",
           "zerolinewidth": 2
          }
         }
        },
        "title": {
         "font": {
          "color": "#9ed900",
          "size": 25
         },
         "text": "模型迭代前后对比auc"
        },
        "xaxis": {
         "ticktext": [
          122,
          140,
          141,
          142,
          144,
          227,
          390,
          396,
          420,
          435
         ],
         "tickvals": [
          1,
          2,
          3,
          4,
          5,
          6,
          7,
          8,
          9,
          10
         ]
        }
       }
      },
      "text/html": [
       "<div>                            <div id=\"0a7fe27d-6e91-41b4-8d45-2b67121ae08d\" class=\"plotly-graph-div\" style=\"height:525px; width:100%;\"></div>            <script type=\"text/javascript\">                require([\"plotly\"], function(Plotly) {                    window.PLOTLYENV=window.PLOTLYENV || {};                                    if (document.getElementById(\"0a7fe27d-6e91-41b4-8d45-2b67121ae08d\")) {                    Plotly.newPlot(                        \"0a7fe27d-6e91-41b4-8d45-2b67121ae08d\",                        [{\"mode\":\"lines+markers\",\"name\":\"updated_client\",\"x\":[1,2,3,4,5,6,7,8,9,10],\"y\":[0.7477372340804619,0.8382352941176471,0.8037698412698413,0.7855104629042485,0.8303111280778774,0.7762984525815841,0.7953830760434534,0.8164787798408487,0.8213255004848002,0.7811064626546913],\"type\":\"scatter\"},{\"mode\":\"lines+markers\",\"name\":\"fuse_dag\",\"x\":[1,2,3,4,5,6,7,8,9,10],\"y\":[0.7442183658197626,0.7456427015250544,0.8037698412698413,0.7676433287328882,0.7706146211108991,0.7779377968438792,0.7917381360777587,0.7625994694960212,0.8190783094735642,0.7704572715836282],\"type\":\"scatter\"},{\"mode\":\"lines+markers\",\"name\":\"init_client\",\"x\":[1,2,3,4,5,6,7,8,9,10],\"y\":[0.7477372340804619,0.8382352941176471,0.7903769841269841,0.7855104629042485,0.8303111280778774,0.6896277003217405,0.7953830760434534,0.8164787798408487,0.8170421490902868,0.7811064626546913],\"type\":\"scatter\"}],                        {\"template\":{\"data\":{\"barpolar\":[{\"marker\":{\"line\":{\"color\":\"#E5ECF6\",\"width\":0.5},\"pattern\":{\"fillmode\":\"overlay\",\"size\":10,\"solidity\":0.2}},\"type\":\"barpolar\"}],\"bar\":[{\"error_x\":{\"color\":\"#2a3f5f\"},\"error_y\":{\"color\":\"#2a3f5f\"},\"marker\":{\"line\":{\"color\":\"#E5ECF6\",\"width\":0.5},\"pattern\":{\"fillmode\":\"overlay\",\"size\":10,\"solidity\":0.2}},\"type\":\"bar\"}],\"carpet\":[{\"aaxis\":{\"endlinecolor\":\"#2a3f5f\",\"gridcolor\":\"white\",\"linecolor\":\"white\",\"minorgridcolor\":\"white\",\"startlinecolor\":\"#2a3f5f\"},\"baxis\":{\"endlinecolor\":\"#2a3f5f\",\"gridcolor\":\"white\",\"linecolor\":\"white\",\"minorgridcolor\":\"white\",\"startlinecolor\":\"#2a3f5f\"},\"type\":\"carpet\"}],\"choropleth\":[{\"colorbar\":{\"outlinewidth\":0,\"ticks\":\"\"},\"type\":\"choropleth\"}],\"contourcarpet\":[{\"colorbar\":{\"outlinewidth\":0,\"ticks\":\"\"},\"type\":\"contourcarpet\"}],\"contour\":[{\"colorbar\":{\"outlinewidth\":0,\"ticks\":\"\"},\"colorscale\":[[0.0,\"#0d0887\"],[0.1111111111111111,\"#46039f\"],[0.2222222222222222,\"#7201a8\"],[0.3333333333333333,\"#9c179e\"],[0.4444444444444444,\"#bd3786\"],[0.5555555555555556,\"#d8576b\"],[0.6666666666666666,\"#ed7953\"],[0.7777777777777778,\"#fb9f3a\"],[0.8888888888888888,\"#fdca26\"],[1.0,\"#f0f921\"]],\"type\":\"contour\"}],\"heatmapgl\":[{\"colorbar\":{\"outlinewidth\":0,\"ticks\":\"\"},\"colorscale\":[[0.0,\"#0d0887\"],[0.1111111111111111,\"#46039f\"],[0.2222222222222222,\"#7201a8\"],[0.3333333333333333,\"#9c179e\"],[0.4444444444444444,\"#bd3786\"],[0.5555555555555556,\"#d8576b\"],[0.6666666666666666,\"#ed7953\"],[0.7777777777777778,\"#fb9f3a\"],[0.8888888888888888,\"#fdca26\"],[1.0,\"#f0f921\"]],\"type\":\"heatmapgl\"}],\"heatmap\":[{\"colorbar\":{\"outlinewidth\":0,\"ticks\":\"\"},\"colorscale\":[[0.0,\"#0d0887\"],[0.1111111111111111,\"#46039f\"],[0.2222222222222222,\"#7201a8\"],[0.3333333333333333,\"#9c179e\"],[0.4444444444444444,\"#bd3786\"],[0.5555555555555556,\"#d8576b\"],[0.6666666666666666,\"#ed7953\"],[0.7777777777777778,\"#fb9f3a\"],[0.8888888888888888,\"#fdca26\"],[1.0,\"#f0f921\"]],\"type\":\"heatmap\"}],\"histogram2dcontour\":[{\"colorbar\":{\"outlinewidth\":0,\"ticks\":\"\"},\"colorscale\":[[0.0,\"#0d0887\"],[0.1111111111111111,\"#46039f\"],[0.2222222222222222,\"#7201a8\"],[0.3333333333333333,\"#9c179e\"],[0.4444444444444444,\"#bd3786\"],[0.5555555555555556,\"#d8576b\"],[0.6666666666666666,\"#ed7953\"],[0.7777777777777778,\"#fb9f3a\"],[0.8888888888888888,\"#fdca26\"],[1.0,\"#f0f921\"]],\"type\":\"histogram2dcontour\"}],\"histogram2d\":[{\"colorbar\":{\"outlinewidth\":0,\"ticks\":\"\"},\"colorscale\":[[0.0,\"#0d0887\"],[0.1111111111111111,\"#46039f\"],[0.2222222222222222,\"#7201a8\"],[0.3333333333333333,\"#9c179e\"],[0.4444444444444444,\"#bd3786\"],[0.5555555555555556,\"#d8576b\"],[0.6666666666666666,\"#ed7953\"],[0.7777777777777778,\"#fb9f3a\"],[0.8888888888888888,\"#fdca26\"],[1.0,\"#f0f921\"]],\"type\":\"histogram2d\"}],\"histogram\":[{\"marker\":{\"pattern\":{\"fillmode\":\"overlay\",\"size\":10,\"solidity\":0.2}},\"type\":\"histogram\"}],\"mesh3d\":[{\"colorbar\":{\"outlinewidth\":0,\"ticks\":\"\"},\"type\":\"mesh3d\"}],\"parcoords\":[{\"line\":{\"colorbar\":{\"outlinewidth\":0,\"ticks\":\"\"}},\"type\":\"parcoords\"}],\"pie\":[{\"automargin\":true,\"type\":\"pie\"}],\"scatter3d\":[{\"line\":{\"colorbar\":{\"outlinewidth\":0,\"ticks\":\"\"}},\"marker\":{\"colorbar\":{\"outlinewidth\":0,\"ticks\":\"\"}},\"type\":\"scatter3d\"}],\"scattercarpet\":[{\"marker\":{\"colorbar\":{\"outlinewidth\":0,\"ticks\":\"\"}},\"type\":\"scattercarpet\"}],\"scattergeo\":[{\"marker\":{\"colorbar\":{\"outlinewidth\":0,\"ticks\":\"\"}},\"type\":\"scattergeo\"}],\"scattergl\":[{\"marker\":{\"colorbar\":{\"outlinewidth\":0,\"ticks\":\"\"}},\"type\":\"scattergl\"}],\"scattermapbox\":[{\"marker\":{\"colorbar\":{\"outlinewidth\":0,\"ticks\":\"\"}},\"type\":\"scattermapbox\"}],\"scatterpolargl\":[{\"marker\":{\"colorbar\":{\"outlinewidth\":0,\"ticks\":\"\"}},\"type\":\"scatterpolargl\"}],\"scatterpolar\":[{\"marker\":{\"colorbar\":{\"outlinewidth\":0,\"ticks\":\"\"}},\"type\":\"scatterpolar\"}],\"scatter\":[{\"marker\":{\"colorbar\":{\"outlinewidth\":0,\"ticks\":\"\"}},\"type\":\"scatter\"}],\"scatterternary\":[{\"marker\":{\"colorbar\":{\"outlinewidth\":0,\"ticks\":\"\"}},\"type\":\"scatterternary\"}],\"surface\":[{\"colorbar\":{\"outlinewidth\":0,\"ticks\":\"\"},\"colorscale\":[[0.0,\"#0d0887\"],[0.1111111111111111,\"#46039f\"],[0.2222222222222222,\"#7201a8\"],[0.3333333333333333,\"#9c179e\"],[0.4444444444444444,\"#bd3786\"],[0.5555555555555556,\"#d8576b\"],[0.6666666666666666,\"#ed7953\"],[0.7777777777777778,\"#fb9f3a\"],[0.8888888888888888,\"#fdca26\"],[1.0,\"#f0f921\"]],\"type\":\"surface\"}],\"table\":[{\"cells\":{\"fill\":{\"color\":\"#EBF0F8\"},\"line\":{\"color\":\"white\"}},\"header\":{\"fill\":{\"color\":\"#C8D4E3\"},\"line\":{\"color\":\"white\"}},\"type\":\"table\"}]},\"layout\":{\"annotationdefaults\":{\"arrowcolor\":\"#2a3f5f\",\"arrowhead\":0,\"arrowwidth\":1},\"autotypenumbers\":\"strict\",\"coloraxis\":{\"colorbar\":{\"outlinewidth\":0,\"ticks\":\"\"}},\"colorscale\":{\"diverging\":[[0,\"#8e0152\"],[0.1,\"#c51b7d\"],[0.2,\"#de77ae\"],[0.3,\"#f1b6da\"],[0.4,\"#fde0ef\"],[0.5,\"#f7f7f7\"],[0.6,\"#e6f5d0\"],[0.7,\"#b8e186\"],[0.8,\"#7fbc41\"],[0.9,\"#4d9221\"],[1,\"#276419\"]],\"sequential\":[[0.0,\"#0d0887\"],[0.1111111111111111,\"#46039f\"],[0.2222222222222222,\"#7201a8\"],[0.3333333333333333,\"#9c179e\"],[0.4444444444444444,\"#bd3786\"],[0.5555555555555556,\"#d8576b\"],[0.6666666666666666,\"#ed7953\"],[0.7777777777777778,\"#fb9f3a\"],[0.8888888888888888,\"#fdca26\"],[1.0,\"#f0f921\"]],\"sequentialminus\":[[0.0,\"#0d0887\"],[0.1111111111111111,\"#46039f\"],[0.2222222222222222,\"#7201a8\"],[0.3333333333333333,\"#9c179e\"],[0.4444444444444444,\"#bd3786\"],[0.5555555555555556,\"#d8576b\"],[0.6666666666666666,\"#ed7953\"],[0.7777777777777778,\"#fb9f3a\"],[0.8888888888888888,\"#fdca26\"],[1.0,\"#f0f921\"]]},\"colorway\":[\"#636efa\",\"#EF553B\",\"#00cc96\",\"#ab63fa\",\"#FFA15A\",\"#19d3f3\",\"#FF6692\",\"#B6E880\",\"#FF97FF\",\"#FECB52\"],\"font\":{\"color\":\"#2a3f5f\"},\"geo\":{\"bgcolor\":\"white\",\"lakecolor\":\"white\",\"landcolor\":\"#E5ECF6\",\"showlakes\":true,\"showland\":true,\"subunitcolor\":\"white\"},\"hoverlabel\":{\"align\":\"left\"},\"hovermode\":\"closest\",\"mapbox\":{\"style\":\"light\"},\"paper_bgcolor\":\"white\",\"plot_bgcolor\":\"#E5ECF6\",\"polar\":{\"angularaxis\":{\"gridcolor\":\"white\",\"linecolor\":\"white\",\"ticks\":\"\"},\"bgcolor\":\"#E5ECF6\",\"radialaxis\":{\"gridcolor\":\"white\",\"linecolor\":\"white\",\"ticks\":\"\"}},\"scene\":{\"xaxis\":{\"backgroundcolor\":\"#E5ECF6\",\"gridcolor\":\"white\",\"gridwidth\":2,\"linecolor\":\"white\",\"showbackground\":true,\"ticks\":\"\",\"zerolinecolor\":\"white\"},\"yaxis\":{\"backgroundcolor\":\"#E5ECF6\",\"gridcolor\":\"white\",\"gridwidth\":2,\"linecolor\":\"white\",\"showbackground\":true,\"ticks\":\"\",\"zerolinecolor\":\"white\"},\"zaxis\":{\"backgroundcolor\":\"#E5ECF6\",\"gridcolor\":\"white\",\"gridwidth\":2,\"linecolor\":\"white\",\"showbackground\":true,\"ticks\":\"\",\"zerolinecolor\":\"white\"}},\"shapedefaults\":{\"line\":{\"color\":\"#2a3f5f\"}},\"ternary\":{\"aaxis\":{\"gridcolor\":\"white\",\"linecolor\":\"white\",\"ticks\":\"\"},\"baxis\":{\"gridcolor\":\"white\",\"linecolor\":\"white\",\"ticks\":\"\"},\"bgcolor\":\"#E5ECF6\",\"caxis\":{\"gridcolor\":\"white\",\"linecolor\":\"white\",\"ticks\":\"\"}},\"title\":{\"x\":0.05},\"xaxis\":{\"automargin\":true,\"gridcolor\":\"white\",\"linecolor\":\"white\",\"ticks\":\"\",\"title\":{\"standoff\":15},\"zerolinecolor\":\"white\",\"zerolinewidth\":2},\"yaxis\":{\"automargin\":true,\"gridcolor\":\"white\",\"linecolor\":\"white\",\"ticks\":\"\",\"title\":{\"standoff\":15},\"zerolinecolor\":\"white\",\"zerolinewidth\":2}}},\"title\":{\"font\":{\"color\":\"#9ed900\",\"size\":25},\"text\":\"\\u6a21\\u578b\\u8fed\\u4ee3\\u524d\\u540e\\u5bf9\\u6bd4auc\"},\"xaxis\":{\"ticktext\":[122,140,141,142,144,227,390,396,420,435],\"tickvals\":[1,2,3,4,5,6,7,8,9,10]}},                        {\"responsive\": true}                    ).then(function(){\n",
       "                            \n",
       "var gd = document.getElementById('0a7fe27d-6e91-41b4-8d45-2b67121ae08d');\n",
       "var x = new MutationObserver(function (mutations, observer) {{\n",
       "        var display = window.getComputedStyle(gd).display;\n",
       "        if (!display || display === 'none') {{\n",
       "            console.log([gd, 'removed!']);\n",
       "            Plotly.purge(gd);\n",
       "            observer.disconnect();\n",
       "        }}\n",
       "}});\n",
       "\n",
       "// Listen for the removal of the full notebook cells\n",
       "var notebookContainer = gd.closest('#notebook-container');\n",
       "if (notebookContainer) {{\n",
       "    x.observe(notebookContainer, {childList: true});\n",
       "}}\n",
       "\n",
       "// Listen for the clearing of the current output cell\n",
       "var outputEl = gd.closest('.output');\n",
       "if (outputEl) {{\n",
       "    x.observe(outputEl, {childList: true});\n",
       "}}\n",
       "\n",
       "                        })                };                });            </script>        </div>"
      ]
     },
     "metadata": {},
     "output_type": "display_data"
    }
   ],
   "source": [
    "updated_auc = go.Scatter(\n",
    "    x = [1,2,3,4,5,6,7,8,9,10],\n",
    "    y =np.array(fuse_score_all.iloc[2,:]),\n",
    "    name = 'updated_client',\n",
    "    mode = \"lines+markers\")\n",
    "fuse_auc = go.Scatter(\n",
    "    x = [1,2,3,4,5,6,7,8,9,10],\n",
    "    y =np.array(fuse_score.iloc[2,:]),\n",
    "    name = 'fuse_dag',\n",
    "    mode = \"lines+markers\")\n",
    "init_auc = go.Scatter(\n",
    "    x = [1,2,3,4,5,6,7,8,9,10],\n",
    "    y =np.array(all_score_init[0].iloc[2,:]),\n",
    "    name = 'init_client',\n",
    "    mode = \"lines+markers\")\n",
    "\n",
    "\n",
    "layout = go.Layout(\n",
    "    xaxis=dict(\n",
    "            tickvals = [1,2,3,4,5,6,7,8,9,10],\n",
    "            ticktext=hos_id),\n",
    "    title='模型迭代前后对比'+\"auc\",\n",
    "        titlefont={\n",
    "        'size':25,\n",
    "        'color':'#9ed900'\n",
    "        })\n",
    "data=[updated_auc,fuse_auc,init_auc]\n",
    "fig = go.Figure(data=data,layout=layout)\n",
    "iplot(fig)"
   ]
  },
  {
   "cell_type": "code",
   "execution_count": 98,
   "id": "cb853211",
   "metadata": {
    "scrolled": false
   },
   "outputs": [
    {
     "data": {
      "application/vnd.plotly.v1+json": {
       "config": {
        "linkText": "Export to plot.ly",
        "plotlyServerURL": "https://plot.ly",
        "showLink": false
       },
       "data": [
        {
         "mode": "lines+markers",
         "name": "updated_client",
         "type": "scatter",
         "x": [
          1,
          2,
          3,
          4,
          5,
          6,
          7,
          8,
          9,
          10
         ],
         "y": [
          0.6331877729257642,
          0.782608695652174,
          0.6738351254480287,
          0.7159763313609467,
          0.7044025157232705,
          0.631578947368421,
          0.7491166077738516,
          0.7552447552447552,
          0.7475490196078431,
          0.7070063694267515
         ]
        },
        {
         "mode": "lines+markers",
         "name": "fuse_dag",
         "type": "scatter",
         "x": [
          1,
          2,
          3,
          4,
          5,
          6,
          7,
          8,
          9,
          10
         ],
         "y": [
          0.623015873015873,
          0.6717557251908397,
          0.6738351254480287,
          0.6912928759894459,
          0.6309523809523809,
          0.6338028169014085,
          0.7467532467532467,
          0.7006369426751592,
          0.7439024390243901,
          0.6941176470588234
         ]
        },
        {
         "mode": "lines+markers",
         "name": "init_client",
         "type": "scatter",
         "x": [
          1,
          2,
          3,
          4,
          5,
          6,
          7,
          8,
          9,
          10
         ],
         "y": [
          0.6331877729257642,
          0.782608695652174,
          0.6594202898550725,
          0.7159763313609467,
          0.7044025157232705,
          0.5444444444444444,
          0.7491166077738516,
          0.7552447552447552,
          0.7480719794344473,
          0.7070063694267515
         ]
        }
       ],
       "layout": {
        "template": {
         "data": {
          "bar": [
           {
            "error_x": {
             "color": "#2a3f5f"
            },
            "error_y": {
             "color": "#2a3f5f"
            },
            "marker": {
             "line": {
              "color": "#E5ECF6",
              "width": 0.5
             },
             "pattern": {
              "fillmode": "overlay",
              "size": 10,
              "solidity": 0.2
             }
            },
            "type": "bar"
           }
          ],
          "barpolar": [
           {
            "marker": {
             "line": {
              "color": "#E5ECF6",
              "width": 0.5
             },
             "pattern": {
              "fillmode": "overlay",
              "size": 10,
              "solidity": 0.2
             }
            },
            "type": "barpolar"
           }
          ],
          "carpet": [
           {
            "aaxis": {
             "endlinecolor": "#2a3f5f",
             "gridcolor": "white",
             "linecolor": "white",
             "minorgridcolor": "white",
             "startlinecolor": "#2a3f5f"
            },
            "baxis": {
             "endlinecolor": "#2a3f5f",
             "gridcolor": "white",
             "linecolor": "white",
             "minorgridcolor": "white",
             "startlinecolor": "#2a3f5f"
            },
            "type": "carpet"
           }
          ],
          "choropleth": [
           {
            "colorbar": {
             "outlinewidth": 0,
             "ticks": ""
            },
            "type": "choropleth"
           }
          ],
          "contour": [
           {
            "colorbar": {
             "outlinewidth": 0,
             "ticks": ""
            },
            "colorscale": [
             [
              0,
              "#0d0887"
             ],
             [
              0.1111111111111111,
              "#46039f"
             ],
             [
              0.2222222222222222,
              "#7201a8"
             ],
             [
              0.3333333333333333,
              "#9c179e"
             ],
             [
              0.4444444444444444,
              "#bd3786"
             ],
             [
              0.5555555555555556,
              "#d8576b"
             ],
             [
              0.6666666666666666,
              "#ed7953"
             ],
             [
              0.7777777777777778,
              "#fb9f3a"
             ],
             [
              0.8888888888888888,
              "#fdca26"
             ],
             [
              1,
              "#f0f921"
             ]
            ],
            "type": "contour"
           }
          ],
          "contourcarpet": [
           {
            "colorbar": {
             "outlinewidth": 0,
             "ticks": ""
            },
            "type": "contourcarpet"
           }
          ],
          "heatmap": [
           {
            "colorbar": {
             "outlinewidth": 0,
             "ticks": ""
            },
            "colorscale": [
             [
              0,
              "#0d0887"
             ],
             [
              0.1111111111111111,
              "#46039f"
             ],
             [
              0.2222222222222222,
              "#7201a8"
             ],
             [
              0.3333333333333333,
              "#9c179e"
             ],
             [
              0.4444444444444444,
              "#bd3786"
             ],
             [
              0.5555555555555556,
              "#d8576b"
             ],
             [
              0.6666666666666666,
              "#ed7953"
             ],
             [
              0.7777777777777778,
              "#fb9f3a"
             ],
             [
              0.8888888888888888,
              "#fdca26"
             ],
             [
              1,
              "#f0f921"
             ]
            ],
            "type": "heatmap"
           }
          ],
          "heatmapgl": [
           {
            "colorbar": {
             "outlinewidth": 0,
             "ticks": ""
            },
            "colorscale": [
             [
              0,
              "#0d0887"
             ],
             [
              0.1111111111111111,
              "#46039f"
             ],
             [
              0.2222222222222222,
              "#7201a8"
             ],
             [
              0.3333333333333333,
              "#9c179e"
             ],
             [
              0.4444444444444444,
              "#bd3786"
             ],
             [
              0.5555555555555556,
              "#d8576b"
             ],
             [
              0.6666666666666666,
              "#ed7953"
             ],
             [
              0.7777777777777778,
              "#fb9f3a"
             ],
             [
              0.8888888888888888,
              "#fdca26"
             ],
             [
              1,
              "#f0f921"
             ]
            ],
            "type": "heatmapgl"
           }
          ],
          "histogram": [
           {
            "marker": {
             "pattern": {
              "fillmode": "overlay",
              "size": 10,
              "solidity": 0.2
             }
            },
            "type": "histogram"
           }
          ],
          "histogram2d": [
           {
            "colorbar": {
             "outlinewidth": 0,
             "ticks": ""
            },
            "colorscale": [
             [
              0,
              "#0d0887"
             ],
             [
              0.1111111111111111,
              "#46039f"
             ],
             [
              0.2222222222222222,
              "#7201a8"
             ],
             [
              0.3333333333333333,
              "#9c179e"
             ],
             [
              0.4444444444444444,
              "#bd3786"
             ],
             [
              0.5555555555555556,
              "#d8576b"
             ],
             [
              0.6666666666666666,
              "#ed7953"
             ],
             [
              0.7777777777777778,
              "#fb9f3a"
             ],
             [
              0.8888888888888888,
              "#fdca26"
             ],
             [
              1,
              "#f0f921"
             ]
            ],
            "type": "histogram2d"
           }
          ],
          "histogram2dcontour": [
           {
            "colorbar": {
             "outlinewidth": 0,
             "ticks": ""
            },
            "colorscale": [
             [
              0,
              "#0d0887"
             ],
             [
              0.1111111111111111,
              "#46039f"
             ],
             [
              0.2222222222222222,
              "#7201a8"
             ],
             [
              0.3333333333333333,
              "#9c179e"
             ],
             [
              0.4444444444444444,
              "#bd3786"
             ],
             [
              0.5555555555555556,
              "#d8576b"
             ],
             [
              0.6666666666666666,
              "#ed7953"
             ],
             [
              0.7777777777777778,
              "#fb9f3a"
             ],
             [
              0.8888888888888888,
              "#fdca26"
             ],
             [
              1,
              "#f0f921"
             ]
            ],
            "type": "histogram2dcontour"
           }
          ],
          "mesh3d": [
           {
            "colorbar": {
             "outlinewidth": 0,
             "ticks": ""
            },
            "type": "mesh3d"
           }
          ],
          "parcoords": [
           {
            "line": {
             "colorbar": {
              "outlinewidth": 0,
              "ticks": ""
             }
            },
            "type": "parcoords"
           }
          ],
          "pie": [
           {
            "automargin": true,
            "type": "pie"
           }
          ],
          "scatter": [
           {
            "marker": {
             "colorbar": {
              "outlinewidth": 0,
              "ticks": ""
             }
            },
            "type": "scatter"
           }
          ],
          "scatter3d": [
           {
            "line": {
             "colorbar": {
              "outlinewidth": 0,
              "ticks": ""
             }
            },
            "marker": {
             "colorbar": {
              "outlinewidth": 0,
              "ticks": ""
             }
            },
            "type": "scatter3d"
           }
          ],
          "scattercarpet": [
           {
            "marker": {
             "colorbar": {
              "outlinewidth": 0,
              "ticks": ""
             }
            },
            "type": "scattercarpet"
           }
          ],
          "scattergeo": [
           {
            "marker": {
             "colorbar": {
              "outlinewidth": 0,
              "ticks": ""
             }
            },
            "type": "scattergeo"
           }
          ],
          "scattergl": [
           {
            "marker": {
             "colorbar": {
              "outlinewidth": 0,
              "ticks": ""
             }
            },
            "type": "scattergl"
           }
          ],
          "scattermapbox": [
           {
            "marker": {
             "colorbar": {
              "outlinewidth": 0,
              "ticks": ""
             }
            },
            "type": "scattermapbox"
           }
          ],
          "scatterpolar": [
           {
            "marker": {
             "colorbar": {
              "outlinewidth": 0,
              "ticks": ""
             }
            },
            "type": "scatterpolar"
           }
          ],
          "scatterpolargl": [
           {
            "marker": {
             "colorbar": {
              "outlinewidth": 0,
              "ticks": ""
             }
            },
            "type": "scatterpolargl"
           }
          ],
          "scatterternary": [
           {
            "marker": {
             "colorbar": {
              "outlinewidth": 0,
              "ticks": ""
             }
            },
            "type": "scatterternary"
           }
          ],
          "surface": [
           {
            "colorbar": {
             "outlinewidth": 0,
             "ticks": ""
            },
            "colorscale": [
             [
              0,
              "#0d0887"
             ],
             [
              0.1111111111111111,
              "#46039f"
             ],
             [
              0.2222222222222222,
              "#7201a8"
             ],
             [
              0.3333333333333333,
              "#9c179e"
             ],
             [
              0.4444444444444444,
              "#bd3786"
             ],
             [
              0.5555555555555556,
              "#d8576b"
             ],
             [
              0.6666666666666666,
              "#ed7953"
             ],
             [
              0.7777777777777778,
              "#fb9f3a"
             ],
             [
              0.8888888888888888,
              "#fdca26"
             ],
             [
              1,
              "#f0f921"
             ]
            ],
            "type": "surface"
           }
          ],
          "table": [
           {
            "cells": {
             "fill": {
              "color": "#EBF0F8"
             },
             "line": {
              "color": "white"
             }
            },
            "header": {
             "fill": {
              "color": "#C8D4E3"
             },
             "line": {
              "color": "white"
             }
            },
            "type": "table"
           }
          ]
         },
         "layout": {
          "annotationdefaults": {
           "arrowcolor": "#2a3f5f",
           "arrowhead": 0,
           "arrowwidth": 1
          },
          "autotypenumbers": "strict",
          "coloraxis": {
           "colorbar": {
            "outlinewidth": 0,
            "ticks": ""
           }
          },
          "colorscale": {
           "diverging": [
            [
             0,
             "#8e0152"
            ],
            [
             0.1,
             "#c51b7d"
            ],
            [
             0.2,
             "#de77ae"
            ],
            [
             0.3,
             "#f1b6da"
            ],
            [
             0.4,
             "#fde0ef"
            ],
            [
             0.5,
             "#f7f7f7"
            ],
            [
             0.6,
             "#e6f5d0"
            ],
            [
             0.7,
             "#b8e186"
            ],
            [
             0.8,
             "#7fbc41"
            ],
            [
             0.9,
             "#4d9221"
            ],
            [
             1,
             "#276419"
            ]
           ],
           "sequential": [
            [
             0,
             "#0d0887"
            ],
            [
             0.1111111111111111,
             "#46039f"
            ],
            [
             0.2222222222222222,
             "#7201a8"
            ],
            [
             0.3333333333333333,
             "#9c179e"
            ],
            [
             0.4444444444444444,
             "#bd3786"
            ],
            [
             0.5555555555555556,
             "#d8576b"
            ],
            [
             0.6666666666666666,
             "#ed7953"
            ],
            [
             0.7777777777777778,
             "#fb9f3a"
            ],
            [
             0.8888888888888888,
             "#fdca26"
            ],
            [
             1,
             "#f0f921"
            ]
           ],
           "sequentialminus": [
            [
             0,
             "#0d0887"
            ],
            [
             0.1111111111111111,
             "#46039f"
            ],
            [
             0.2222222222222222,
             "#7201a8"
            ],
            [
             0.3333333333333333,
             "#9c179e"
            ],
            [
             0.4444444444444444,
             "#bd3786"
            ],
            [
             0.5555555555555556,
             "#d8576b"
            ],
            [
             0.6666666666666666,
             "#ed7953"
            ],
            [
             0.7777777777777778,
             "#fb9f3a"
            ],
            [
             0.8888888888888888,
             "#fdca26"
            ],
            [
             1,
             "#f0f921"
            ]
           ]
          },
          "colorway": [
           "#636efa",
           "#EF553B",
           "#00cc96",
           "#ab63fa",
           "#FFA15A",
           "#19d3f3",
           "#FF6692",
           "#B6E880",
           "#FF97FF",
           "#FECB52"
          ],
          "font": {
           "color": "#2a3f5f"
          },
          "geo": {
           "bgcolor": "white",
           "lakecolor": "white",
           "landcolor": "#E5ECF6",
           "showlakes": true,
           "showland": true,
           "subunitcolor": "white"
          },
          "hoverlabel": {
           "align": "left"
          },
          "hovermode": "closest",
          "mapbox": {
           "style": "light"
          },
          "paper_bgcolor": "white",
          "plot_bgcolor": "#E5ECF6",
          "polar": {
           "angularaxis": {
            "gridcolor": "white",
            "linecolor": "white",
            "ticks": ""
           },
           "bgcolor": "#E5ECF6",
           "radialaxis": {
            "gridcolor": "white",
            "linecolor": "white",
            "ticks": ""
           }
          },
          "scene": {
           "xaxis": {
            "backgroundcolor": "#E5ECF6",
            "gridcolor": "white",
            "gridwidth": 2,
            "linecolor": "white",
            "showbackground": true,
            "ticks": "",
            "zerolinecolor": "white"
           },
           "yaxis": {
            "backgroundcolor": "#E5ECF6",
            "gridcolor": "white",
            "gridwidth": 2,
            "linecolor": "white",
            "showbackground": true,
            "ticks": "",
            "zerolinecolor": "white"
           },
           "zaxis": {
            "backgroundcolor": "#E5ECF6",
            "gridcolor": "white",
            "gridwidth": 2,
            "linecolor": "white",
            "showbackground": true,
            "ticks": "",
            "zerolinecolor": "white"
           }
          },
          "shapedefaults": {
           "line": {
            "color": "#2a3f5f"
           }
          },
          "ternary": {
           "aaxis": {
            "gridcolor": "white",
            "linecolor": "white",
            "ticks": ""
           },
           "baxis": {
            "gridcolor": "white",
            "linecolor": "white",
            "ticks": ""
           },
           "bgcolor": "#E5ECF6",
           "caxis": {
            "gridcolor": "white",
            "linecolor": "white",
            "ticks": ""
           }
          },
          "title": {
           "x": 0.05
          },
          "xaxis": {
           "automargin": true,
           "gridcolor": "white",
           "linecolor": "white",
           "ticks": "",
           "title": {
            "standoff": 15
           },
           "zerolinecolor": "white",
           "zerolinewidth": 2
          },
          "yaxis": {
           "automargin": true,
           "gridcolor": "white",
           "linecolor": "white",
           "ticks": "",
           "title": {
            "standoff": 15
           },
           "zerolinecolor": "white",
           "zerolinewidth": 2
          }
         }
        },
        "title": {
         "font": {
          "color": "#9ed900",
          "size": 25
         },
         "text": "模型迭代前后对比f1"
        },
        "xaxis": {
         "ticktext": [
          122,
          140,
          141,
          142,
          144,
          227,
          390,
          396,
          420,
          435
         ],
         "tickvals": [
          1,
          2,
          3,
          4,
          5,
          6,
          7,
          8,
          9,
          10
         ]
        }
       }
      },
      "text/html": [
       "<div>                            <div id=\"f3c59d93-3bc6-4c60-910a-f5aee5743433\" class=\"plotly-graph-div\" style=\"height:525px; width:100%;\"></div>            <script type=\"text/javascript\">                require([\"plotly\"], function(Plotly) {                    window.PLOTLYENV=window.PLOTLYENV || {};                                    if (document.getElementById(\"f3c59d93-3bc6-4c60-910a-f5aee5743433\")) {                    Plotly.newPlot(                        \"f3c59d93-3bc6-4c60-910a-f5aee5743433\",                        [{\"mode\":\"lines+markers\",\"name\":\"updated_client\",\"x\":[1,2,3,4,5,6,7,8,9,10],\"y\":[0.6331877729257642,0.782608695652174,0.6738351254480287,0.7159763313609467,0.7044025157232705,0.631578947368421,0.7491166077738516,0.7552447552447552,0.7475490196078431,0.7070063694267515],\"type\":\"scatter\"},{\"mode\":\"lines+markers\",\"name\":\"fuse_dag\",\"x\":[1,2,3,4,5,6,7,8,9,10],\"y\":[0.623015873015873,0.6717557251908397,0.6738351254480287,0.6912928759894459,0.6309523809523809,0.6338028169014085,0.7467532467532467,0.7006369426751592,0.7439024390243901,0.6941176470588234],\"type\":\"scatter\"},{\"mode\":\"lines+markers\",\"name\":\"init_client\",\"x\":[1,2,3,4,5,6,7,8,9,10],\"y\":[0.6331877729257642,0.782608695652174,0.6594202898550725,0.7159763313609467,0.7044025157232705,0.5444444444444444,0.7491166077738516,0.7552447552447552,0.7480719794344473,0.7070063694267515],\"type\":\"scatter\"}],                        {\"template\":{\"data\":{\"barpolar\":[{\"marker\":{\"line\":{\"color\":\"#E5ECF6\",\"width\":0.5},\"pattern\":{\"fillmode\":\"overlay\",\"size\":10,\"solidity\":0.2}},\"type\":\"barpolar\"}],\"bar\":[{\"error_x\":{\"color\":\"#2a3f5f\"},\"error_y\":{\"color\":\"#2a3f5f\"},\"marker\":{\"line\":{\"color\":\"#E5ECF6\",\"width\":0.5},\"pattern\":{\"fillmode\":\"overlay\",\"size\":10,\"solidity\":0.2}},\"type\":\"bar\"}],\"carpet\":[{\"aaxis\":{\"endlinecolor\":\"#2a3f5f\",\"gridcolor\":\"white\",\"linecolor\":\"white\",\"minorgridcolor\":\"white\",\"startlinecolor\":\"#2a3f5f\"},\"baxis\":{\"endlinecolor\":\"#2a3f5f\",\"gridcolor\":\"white\",\"linecolor\":\"white\",\"minorgridcolor\":\"white\",\"startlinecolor\":\"#2a3f5f\"},\"type\":\"carpet\"}],\"choropleth\":[{\"colorbar\":{\"outlinewidth\":0,\"ticks\":\"\"},\"type\":\"choropleth\"}],\"contourcarpet\":[{\"colorbar\":{\"outlinewidth\":0,\"ticks\":\"\"},\"type\":\"contourcarpet\"}],\"contour\":[{\"colorbar\":{\"outlinewidth\":0,\"ticks\":\"\"},\"colorscale\":[[0.0,\"#0d0887\"],[0.1111111111111111,\"#46039f\"],[0.2222222222222222,\"#7201a8\"],[0.3333333333333333,\"#9c179e\"],[0.4444444444444444,\"#bd3786\"],[0.5555555555555556,\"#d8576b\"],[0.6666666666666666,\"#ed7953\"],[0.7777777777777778,\"#fb9f3a\"],[0.8888888888888888,\"#fdca26\"],[1.0,\"#f0f921\"]],\"type\":\"contour\"}],\"heatmapgl\":[{\"colorbar\":{\"outlinewidth\":0,\"ticks\":\"\"},\"colorscale\":[[0.0,\"#0d0887\"],[0.1111111111111111,\"#46039f\"],[0.2222222222222222,\"#7201a8\"],[0.3333333333333333,\"#9c179e\"],[0.4444444444444444,\"#bd3786\"],[0.5555555555555556,\"#d8576b\"],[0.6666666666666666,\"#ed7953\"],[0.7777777777777778,\"#fb9f3a\"],[0.8888888888888888,\"#fdca26\"],[1.0,\"#f0f921\"]],\"type\":\"heatmapgl\"}],\"heatmap\":[{\"colorbar\":{\"outlinewidth\":0,\"ticks\":\"\"},\"colorscale\":[[0.0,\"#0d0887\"],[0.1111111111111111,\"#46039f\"],[0.2222222222222222,\"#7201a8\"],[0.3333333333333333,\"#9c179e\"],[0.4444444444444444,\"#bd3786\"],[0.5555555555555556,\"#d8576b\"],[0.6666666666666666,\"#ed7953\"],[0.7777777777777778,\"#fb9f3a\"],[0.8888888888888888,\"#fdca26\"],[1.0,\"#f0f921\"]],\"type\":\"heatmap\"}],\"histogram2dcontour\":[{\"colorbar\":{\"outlinewidth\":0,\"ticks\":\"\"},\"colorscale\":[[0.0,\"#0d0887\"],[0.1111111111111111,\"#46039f\"],[0.2222222222222222,\"#7201a8\"],[0.3333333333333333,\"#9c179e\"],[0.4444444444444444,\"#bd3786\"],[0.5555555555555556,\"#d8576b\"],[0.6666666666666666,\"#ed7953\"],[0.7777777777777778,\"#fb9f3a\"],[0.8888888888888888,\"#fdca26\"],[1.0,\"#f0f921\"]],\"type\":\"histogram2dcontour\"}],\"histogram2d\":[{\"colorbar\":{\"outlinewidth\":0,\"ticks\":\"\"},\"colorscale\":[[0.0,\"#0d0887\"],[0.1111111111111111,\"#46039f\"],[0.2222222222222222,\"#7201a8\"],[0.3333333333333333,\"#9c179e\"],[0.4444444444444444,\"#bd3786\"],[0.5555555555555556,\"#d8576b\"],[0.6666666666666666,\"#ed7953\"],[0.7777777777777778,\"#fb9f3a\"],[0.8888888888888888,\"#fdca26\"],[1.0,\"#f0f921\"]],\"type\":\"histogram2d\"}],\"histogram\":[{\"marker\":{\"pattern\":{\"fillmode\":\"overlay\",\"size\":10,\"solidity\":0.2}},\"type\":\"histogram\"}],\"mesh3d\":[{\"colorbar\":{\"outlinewidth\":0,\"ticks\":\"\"},\"type\":\"mesh3d\"}],\"parcoords\":[{\"line\":{\"colorbar\":{\"outlinewidth\":0,\"ticks\":\"\"}},\"type\":\"parcoords\"}],\"pie\":[{\"automargin\":true,\"type\":\"pie\"}],\"scatter3d\":[{\"line\":{\"colorbar\":{\"outlinewidth\":0,\"ticks\":\"\"}},\"marker\":{\"colorbar\":{\"outlinewidth\":0,\"ticks\":\"\"}},\"type\":\"scatter3d\"}],\"scattercarpet\":[{\"marker\":{\"colorbar\":{\"outlinewidth\":0,\"ticks\":\"\"}},\"type\":\"scattercarpet\"}],\"scattergeo\":[{\"marker\":{\"colorbar\":{\"outlinewidth\":0,\"ticks\":\"\"}},\"type\":\"scattergeo\"}],\"scattergl\":[{\"marker\":{\"colorbar\":{\"outlinewidth\":0,\"ticks\":\"\"}},\"type\":\"scattergl\"}],\"scattermapbox\":[{\"marker\":{\"colorbar\":{\"outlinewidth\":0,\"ticks\":\"\"}},\"type\":\"scattermapbox\"}],\"scatterpolargl\":[{\"marker\":{\"colorbar\":{\"outlinewidth\":0,\"ticks\":\"\"}},\"type\":\"scatterpolargl\"}],\"scatterpolar\":[{\"marker\":{\"colorbar\":{\"outlinewidth\":0,\"ticks\":\"\"}},\"type\":\"scatterpolar\"}],\"scatter\":[{\"marker\":{\"colorbar\":{\"outlinewidth\":0,\"ticks\":\"\"}},\"type\":\"scatter\"}],\"scatterternary\":[{\"marker\":{\"colorbar\":{\"outlinewidth\":0,\"ticks\":\"\"}},\"type\":\"scatterternary\"}],\"surface\":[{\"colorbar\":{\"outlinewidth\":0,\"ticks\":\"\"},\"colorscale\":[[0.0,\"#0d0887\"],[0.1111111111111111,\"#46039f\"],[0.2222222222222222,\"#7201a8\"],[0.3333333333333333,\"#9c179e\"],[0.4444444444444444,\"#bd3786\"],[0.5555555555555556,\"#d8576b\"],[0.6666666666666666,\"#ed7953\"],[0.7777777777777778,\"#fb9f3a\"],[0.8888888888888888,\"#fdca26\"],[1.0,\"#f0f921\"]],\"type\":\"surface\"}],\"table\":[{\"cells\":{\"fill\":{\"color\":\"#EBF0F8\"},\"line\":{\"color\":\"white\"}},\"header\":{\"fill\":{\"color\":\"#C8D4E3\"},\"line\":{\"color\":\"white\"}},\"type\":\"table\"}]},\"layout\":{\"annotationdefaults\":{\"arrowcolor\":\"#2a3f5f\",\"arrowhead\":0,\"arrowwidth\":1},\"autotypenumbers\":\"strict\",\"coloraxis\":{\"colorbar\":{\"outlinewidth\":0,\"ticks\":\"\"}},\"colorscale\":{\"diverging\":[[0,\"#8e0152\"],[0.1,\"#c51b7d\"],[0.2,\"#de77ae\"],[0.3,\"#f1b6da\"],[0.4,\"#fde0ef\"],[0.5,\"#f7f7f7\"],[0.6,\"#e6f5d0\"],[0.7,\"#b8e186\"],[0.8,\"#7fbc41\"],[0.9,\"#4d9221\"],[1,\"#276419\"]],\"sequential\":[[0.0,\"#0d0887\"],[0.1111111111111111,\"#46039f\"],[0.2222222222222222,\"#7201a8\"],[0.3333333333333333,\"#9c179e\"],[0.4444444444444444,\"#bd3786\"],[0.5555555555555556,\"#d8576b\"],[0.6666666666666666,\"#ed7953\"],[0.7777777777777778,\"#fb9f3a\"],[0.8888888888888888,\"#fdca26\"],[1.0,\"#f0f921\"]],\"sequentialminus\":[[0.0,\"#0d0887\"],[0.1111111111111111,\"#46039f\"],[0.2222222222222222,\"#7201a8\"],[0.3333333333333333,\"#9c179e\"],[0.4444444444444444,\"#bd3786\"],[0.5555555555555556,\"#d8576b\"],[0.6666666666666666,\"#ed7953\"],[0.7777777777777778,\"#fb9f3a\"],[0.8888888888888888,\"#fdca26\"],[1.0,\"#f0f921\"]]},\"colorway\":[\"#636efa\",\"#EF553B\",\"#00cc96\",\"#ab63fa\",\"#FFA15A\",\"#19d3f3\",\"#FF6692\",\"#B6E880\",\"#FF97FF\",\"#FECB52\"],\"font\":{\"color\":\"#2a3f5f\"},\"geo\":{\"bgcolor\":\"white\",\"lakecolor\":\"white\",\"landcolor\":\"#E5ECF6\",\"showlakes\":true,\"showland\":true,\"subunitcolor\":\"white\"},\"hoverlabel\":{\"align\":\"left\"},\"hovermode\":\"closest\",\"mapbox\":{\"style\":\"light\"},\"paper_bgcolor\":\"white\",\"plot_bgcolor\":\"#E5ECF6\",\"polar\":{\"angularaxis\":{\"gridcolor\":\"white\",\"linecolor\":\"white\",\"ticks\":\"\"},\"bgcolor\":\"#E5ECF6\",\"radialaxis\":{\"gridcolor\":\"white\",\"linecolor\":\"white\",\"ticks\":\"\"}},\"scene\":{\"xaxis\":{\"backgroundcolor\":\"#E5ECF6\",\"gridcolor\":\"white\",\"gridwidth\":2,\"linecolor\":\"white\",\"showbackground\":true,\"ticks\":\"\",\"zerolinecolor\":\"white\"},\"yaxis\":{\"backgroundcolor\":\"#E5ECF6\",\"gridcolor\":\"white\",\"gridwidth\":2,\"linecolor\":\"white\",\"showbackground\":true,\"ticks\":\"\",\"zerolinecolor\":\"white\"},\"zaxis\":{\"backgroundcolor\":\"#E5ECF6\",\"gridcolor\":\"white\",\"gridwidth\":2,\"linecolor\":\"white\",\"showbackground\":true,\"ticks\":\"\",\"zerolinecolor\":\"white\"}},\"shapedefaults\":{\"line\":{\"color\":\"#2a3f5f\"}},\"ternary\":{\"aaxis\":{\"gridcolor\":\"white\",\"linecolor\":\"white\",\"ticks\":\"\"},\"baxis\":{\"gridcolor\":\"white\",\"linecolor\":\"white\",\"ticks\":\"\"},\"bgcolor\":\"#E5ECF6\",\"caxis\":{\"gridcolor\":\"white\",\"linecolor\":\"white\",\"ticks\":\"\"}},\"title\":{\"x\":0.05},\"xaxis\":{\"automargin\":true,\"gridcolor\":\"white\",\"linecolor\":\"white\",\"ticks\":\"\",\"title\":{\"standoff\":15},\"zerolinecolor\":\"white\",\"zerolinewidth\":2},\"yaxis\":{\"automargin\":true,\"gridcolor\":\"white\",\"linecolor\":\"white\",\"ticks\":\"\",\"title\":{\"standoff\":15},\"zerolinecolor\":\"white\",\"zerolinewidth\":2}}},\"title\":{\"font\":{\"color\":\"#9ed900\",\"size\":25},\"text\":\"\\u6a21\\u578b\\u8fed\\u4ee3\\u524d\\u540e\\u5bf9\\u6bd4f1\"},\"xaxis\":{\"ticktext\":[122,140,141,142,144,227,390,396,420,435],\"tickvals\":[1,2,3,4,5,6,7,8,9,10]}},                        {\"responsive\": true}                    ).then(function(){\n",
       "                            \n",
       "var gd = document.getElementById('f3c59d93-3bc6-4c60-910a-f5aee5743433');\n",
       "var x = new MutationObserver(function (mutations, observer) {{\n",
       "        var display = window.getComputedStyle(gd).display;\n",
       "        if (!display || display === 'none') {{\n",
       "            console.log([gd, 'removed!']);\n",
       "            Plotly.purge(gd);\n",
       "            observer.disconnect();\n",
       "        }}\n",
       "}});\n",
       "\n",
       "// Listen for the removal of the full notebook cells\n",
       "var notebookContainer = gd.closest('#notebook-container');\n",
       "if (notebookContainer) {{\n",
       "    x.observe(notebookContainer, {childList: true});\n",
       "}}\n",
       "\n",
       "// Listen for the clearing of the current output cell\n",
       "var outputEl = gd.closest('.output');\n",
       "if (outputEl) {{\n",
       "    x.observe(outputEl, {childList: true});\n",
       "}}\n",
       "\n",
       "                        })                };                });            </script>        </div>"
      ]
     },
     "metadata": {},
     "output_type": "display_data"
    }
   ],
   "source": [
    "updated_auc = go.Scatter(\n",
    "    x = [1,2,3,4,5,6,7,8,9,10],\n",
    "    y =np.array(fuse_score_all.iloc[3,:]),\n",
    "    name = 'updated_client',\n",
    "    mode = \"lines+markers\")\n",
    "fuse_auc = go.Scatter(\n",
    "    x = [1,2,3,4,5,6,7,8,9,10],\n",
    "    y =np.array(fuse_score.iloc[3,:]),\n",
    "    name = 'fuse_dag',\n",
    "    mode = \"lines+markers\")\n",
    "init_auc = go.Scatter(\n",
    "    x = [1,2,3,4,5,6,7,8,9,10],\n",
    "    y =np.array(all_score_init[0].iloc[3,:]),\n",
    "    name = 'init_client',\n",
    "    mode = \"lines+markers\")\n",
    "\n",
    "\n",
    "layout = go.Layout(\n",
    "    xaxis=dict(\n",
    "            tickvals = [1,2,3,4,5,6,7,8,9,10],\n",
    "            ticktext=hos_id),\n",
    "    title='模型迭代前后对比'+\"f1\",\n",
    "        titlefont={\n",
    "        'size':25,\n",
    "        'color':'#9ed900'\n",
    "        })\n",
    "data=[updated_auc,fuse_auc,init_auc]\n",
    "fig = go.Figure(data=data,layout=layout)\n",
    "iplot(fig)"
   ]
  },
  {
   "cell_type": "code",
   "execution_count": 99,
   "id": "2a76b552",
   "metadata": {},
   "outputs": [
    {
     "data": {
      "application/vnd.plotly.v1+json": {
       "config": {
        "linkText": "Export to plot.ly",
        "plotlyServerURL": "https://plot.ly",
        "showLink": false
       },
       "data": [
        {
         "mode": "lines+markers",
         "name": "updated_client",
         "type": "scatter",
         "x": [
          1,
          2,
          3,
          4,
          5,
          6,
          7,
          8,
          9,
          10
         ],
         "y": [
          0.6872037914691943,
          0.8333333333333334,
          0.8392857142857143,
          0.7289156626506024,
          0.9032258064516129,
          0.8411214953271028,
          0.803030303030303,
          0.9310344827586207,
          0.7741116751269036,
          0.8345864661654135
         ]
        },
        {
         "mode": "lines+markers",
         "name": "fuse_dag",
         "type": "scatter",
         "x": [
          1,
          2,
          3,
          4,
          5,
          6,
          7,
          8,
          9,
          10
         ],
         "y": [
          0.7440758293838863,
          0.8148148148148148,
          0.8392857142857143,
          0.7891566265060241,
          0.8548387096774194,
          0.8411214953271028,
          0.8712121212121212,
          0.9482758620689655,
          0.7741116751269036,
          0.8872180451127819
         ]
        },
        {
         "mode": "lines+markers",
         "name": "init_client",
         "type": "scatter",
         "x": [
          1,
          2,
          3,
          4,
          5,
          6,
          7,
          8,
          9,
          10
         ],
         "y": [
          0.6872037914691943,
          0.8333333333333334,
          0.8125,
          0.7289156626506024,
          0.9032258064516129,
          0.45794392523364486,
          0.803030303030303,
          0.9310344827586207,
          0.7385786802030457,
          0.8345864661654135
         ]
        }
       ],
       "layout": {
        "template": {
         "data": {
          "bar": [
           {
            "error_x": {
             "color": "#2a3f5f"
            },
            "error_y": {
             "color": "#2a3f5f"
            },
            "marker": {
             "line": {
              "color": "#E5ECF6",
              "width": 0.5
             },
             "pattern": {
              "fillmode": "overlay",
              "size": 10,
              "solidity": 0.2
             }
            },
            "type": "bar"
           }
          ],
          "barpolar": [
           {
            "marker": {
             "line": {
              "color": "#E5ECF6",
              "width": 0.5
             },
             "pattern": {
              "fillmode": "overlay",
              "size": 10,
              "solidity": 0.2
             }
            },
            "type": "barpolar"
           }
          ],
          "carpet": [
           {
            "aaxis": {
             "endlinecolor": "#2a3f5f",
             "gridcolor": "white",
             "linecolor": "white",
             "minorgridcolor": "white",
             "startlinecolor": "#2a3f5f"
            },
            "baxis": {
             "endlinecolor": "#2a3f5f",
             "gridcolor": "white",
             "linecolor": "white",
             "minorgridcolor": "white",
             "startlinecolor": "#2a3f5f"
            },
            "type": "carpet"
           }
          ],
          "choropleth": [
           {
            "colorbar": {
             "outlinewidth": 0,
             "ticks": ""
            },
            "type": "choropleth"
           }
          ],
          "contour": [
           {
            "colorbar": {
             "outlinewidth": 0,
             "ticks": ""
            },
            "colorscale": [
             [
              0,
              "#0d0887"
             ],
             [
              0.1111111111111111,
              "#46039f"
             ],
             [
              0.2222222222222222,
              "#7201a8"
             ],
             [
              0.3333333333333333,
              "#9c179e"
             ],
             [
              0.4444444444444444,
              "#bd3786"
             ],
             [
              0.5555555555555556,
              "#d8576b"
             ],
             [
              0.6666666666666666,
              "#ed7953"
             ],
             [
              0.7777777777777778,
              "#fb9f3a"
             ],
             [
              0.8888888888888888,
              "#fdca26"
             ],
             [
              1,
              "#f0f921"
             ]
            ],
            "type": "contour"
           }
          ],
          "contourcarpet": [
           {
            "colorbar": {
             "outlinewidth": 0,
             "ticks": ""
            },
            "type": "contourcarpet"
           }
          ],
          "heatmap": [
           {
            "colorbar": {
             "outlinewidth": 0,
             "ticks": ""
            },
            "colorscale": [
             [
              0,
              "#0d0887"
             ],
             [
              0.1111111111111111,
              "#46039f"
             ],
             [
              0.2222222222222222,
              "#7201a8"
             ],
             [
              0.3333333333333333,
              "#9c179e"
             ],
             [
              0.4444444444444444,
              "#bd3786"
             ],
             [
              0.5555555555555556,
              "#d8576b"
             ],
             [
              0.6666666666666666,
              "#ed7953"
             ],
             [
              0.7777777777777778,
              "#fb9f3a"
             ],
             [
              0.8888888888888888,
              "#fdca26"
             ],
             [
              1,
              "#f0f921"
             ]
            ],
            "type": "heatmap"
           }
          ],
          "heatmapgl": [
           {
            "colorbar": {
             "outlinewidth": 0,
             "ticks": ""
            },
            "colorscale": [
             [
              0,
              "#0d0887"
             ],
             [
              0.1111111111111111,
              "#46039f"
             ],
             [
              0.2222222222222222,
              "#7201a8"
             ],
             [
              0.3333333333333333,
              "#9c179e"
             ],
             [
              0.4444444444444444,
              "#bd3786"
             ],
             [
              0.5555555555555556,
              "#d8576b"
             ],
             [
              0.6666666666666666,
              "#ed7953"
             ],
             [
              0.7777777777777778,
              "#fb9f3a"
             ],
             [
              0.8888888888888888,
              "#fdca26"
             ],
             [
              1,
              "#f0f921"
             ]
            ],
            "type": "heatmapgl"
           }
          ],
          "histogram": [
           {
            "marker": {
             "pattern": {
              "fillmode": "overlay",
              "size": 10,
              "solidity": 0.2
             }
            },
            "type": "histogram"
           }
          ],
          "histogram2d": [
           {
            "colorbar": {
             "outlinewidth": 0,
             "ticks": ""
            },
            "colorscale": [
             [
              0,
              "#0d0887"
             ],
             [
              0.1111111111111111,
              "#46039f"
             ],
             [
              0.2222222222222222,
              "#7201a8"
             ],
             [
              0.3333333333333333,
              "#9c179e"
             ],
             [
              0.4444444444444444,
              "#bd3786"
             ],
             [
              0.5555555555555556,
              "#d8576b"
             ],
             [
              0.6666666666666666,
              "#ed7953"
             ],
             [
              0.7777777777777778,
              "#fb9f3a"
             ],
             [
              0.8888888888888888,
              "#fdca26"
             ],
             [
              1,
              "#f0f921"
             ]
            ],
            "type": "histogram2d"
           }
          ],
          "histogram2dcontour": [
           {
            "colorbar": {
             "outlinewidth": 0,
             "ticks": ""
            },
            "colorscale": [
             [
              0,
              "#0d0887"
             ],
             [
              0.1111111111111111,
              "#46039f"
             ],
             [
              0.2222222222222222,
              "#7201a8"
             ],
             [
              0.3333333333333333,
              "#9c179e"
             ],
             [
              0.4444444444444444,
              "#bd3786"
             ],
             [
              0.5555555555555556,
              "#d8576b"
             ],
             [
              0.6666666666666666,
              "#ed7953"
             ],
             [
              0.7777777777777778,
              "#fb9f3a"
             ],
             [
              0.8888888888888888,
              "#fdca26"
             ],
             [
              1,
              "#f0f921"
             ]
            ],
            "type": "histogram2dcontour"
           }
          ],
          "mesh3d": [
           {
            "colorbar": {
             "outlinewidth": 0,
             "ticks": ""
            },
            "type": "mesh3d"
           }
          ],
          "parcoords": [
           {
            "line": {
             "colorbar": {
              "outlinewidth": 0,
              "ticks": ""
             }
            },
            "type": "parcoords"
           }
          ],
          "pie": [
           {
            "automargin": true,
            "type": "pie"
           }
          ],
          "scatter": [
           {
            "marker": {
             "colorbar": {
              "outlinewidth": 0,
              "ticks": ""
             }
            },
            "type": "scatter"
           }
          ],
          "scatter3d": [
           {
            "line": {
             "colorbar": {
              "outlinewidth": 0,
              "ticks": ""
             }
            },
            "marker": {
             "colorbar": {
              "outlinewidth": 0,
              "ticks": ""
             }
            },
            "type": "scatter3d"
           }
          ],
          "scattercarpet": [
           {
            "marker": {
             "colorbar": {
              "outlinewidth": 0,
              "ticks": ""
             }
            },
            "type": "scattercarpet"
           }
          ],
          "scattergeo": [
           {
            "marker": {
             "colorbar": {
              "outlinewidth": 0,
              "ticks": ""
             }
            },
            "type": "scattergeo"
           }
          ],
          "scattergl": [
           {
            "marker": {
             "colorbar": {
              "outlinewidth": 0,
              "ticks": ""
             }
            },
            "type": "scattergl"
           }
          ],
          "scattermapbox": [
           {
            "marker": {
             "colorbar": {
              "outlinewidth": 0,
              "ticks": ""
             }
            },
            "type": "scattermapbox"
           }
          ],
          "scatterpolar": [
           {
            "marker": {
             "colorbar": {
              "outlinewidth": 0,
              "ticks": ""
             }
            },
            "type": "scatterpolar"
           }
          ],
          "scatterpolargl": [
           {
            "marker": {
             "colorbar": {
              "outlinewidth": 0,
              "ticks": ""
             }
            },
            "type": "scatterpolargl"
           }
          ],
          "scatterternary": [
           {
            "marker": {
             "colorbar": {
              "outlinewidth": 0,
              "ticks": ""
             }
            },
            "type": "scatterternary"
           }
          ],
          "surface": [
           {
            "colorbar": {
             "outlinewidth": 0,
             "ticks": ""
            },
            "colorscale": [
             [
              0,
              "#0d0887"
             ],
             [
              0.1111111111111111,
              "#46039f"
             ],
             [
              0.2222222222222222,
              "#7201a8"
             ],
             [
              0.3333333333333333,
              "#9c179e"
             ],
             [
              0.4444444444444444,
              "#bd3786"
             ],
             [
              0.5555555555555556,
              "#d8576b"
             ],
             [
              0.6666666666666666,
              "#ed7953"
             ],
             [
              0.7777777777777778,
              "#fb9f3a"
             ],
             [
              0.8888888888888888,
              "#fdca26"
             ],
             [
              1,
              "#f0f921"
             ]
            ],
            "type": "surface"
           }
          ],
          "table": [
           {
            "cells": {
             "fill": {
              "color": "#EBF0F8"
             },
             "line": {
              "color": "white"
             }
            },
            "header": {
             "fill": {
              "color": "#C8D4E3"
             },
             "line": {
              "color": "white"
             }
            },
            "type": "table"
           }
          ]
         },
         "layout": {
          "annotationdefaults": {
           "arrowcolor": "#2a3f5f",
           "arrowhead": 0,
           "arrowwidth": 1
          },
          "autotypenumbers": "strict",
          "coloraxis": {
           "colorbar": {
            "outlinewidth": 0,
            "ticks": ""
           }
          },
          "colorscale": {
           "diverging": [
            [
             0,
             "#8e0152"
            ],
            [
             0.1,
             "#c51b7d"
            ],
            [
             0.2,
             "#de77ae"
            ],
            [
             0.3,
             "#f1b6da"
            ],
            [
             0.4,
             "#fde0ef"
            ],
            [
             0.5,
             "#f7f7f7"
            ],
            [
             0.6,
             "#e6f5d0"
            ],
            [
             0.7,
             "#b8e186"
            ],
            [
             0.8,
             "#7fbc41"
            ],
            [
             0.9,
             "#4d9221"
            ],
            [
             1,
             "#276419"
            ]
           ],
           "sequential": [
            [
             0,
             "#0d0887"
            ],
            [
             0.1111111111111111,
             "#46039f"
            ],
            [
             0.2222222222222222,
             "#7201a8"
            ],
            [
             0.3333333333333333,
             "#9c179e"
            ],
            [
             0.4444444444444444,
             "#bd3786"
            ],
            [
             0.5555555555555556,
             "#d8576b"
            ],
            [
             0.6666666666666666,
             "#ed7953"
            ],
            [
             0.7777777777777778,
             "#fb9f3a"
            ],
            [
             0.8888888888888888,
             "#fdca26"
            ],
            [
             1,
             "#f0f921"
            ]
           ],
           "sequentialminus": [
            [
             0,
             "#0d0887"
            ],
            [
             0.1111111111111111,
             "#46039f"
            ],
            [
             0.2222222222222222,
             "#7201a8"
            ],
            [
             0.3333333333333333,
             "#9c179e"
            ],
            [
             0.4444444444444444,
             "#bd3786"
            ],
            [
             0.5555555555555556,
             "#d8576b"
            ],
            [
             0.6666666666666666,
             "#ed7953"
            ],
            [
             0.7777777777777778,
             "#fb9f3a"
            ],
            [
             0.8888888888888888,
             "#fdca26"
            ],
            [
             1,
             "#f0f921"
            ]
           ]
          },
          "colorway": [
           "#636efa",
           "#EF553B",
           "#00cc96",
           "#ab63fa",
           "#FFA15A",
           "#19d3f3",
           "#FF6692",
           "#B6E880",
           "#FF97FF",
           "#FECB52"
          ],
          "font": {
           "color": "#2a3f5f"
          },
          "geo": {
           "bgcolor": "white",
           "lakecolor": "white",
           "landcolor": "#E5ECF6",
           "showlakes": true,
           "showland": true,
           "subunitcolor": "white"
          },
          "hoverlabel": {
           "align": "left"
          },
          "hovermode": "closest",
          "mapbox": {
           "style": "light"
          },
          "paper_bgcolor": "white",
          "plot_bgcolor": "#E5ECF6",
          "polar": {
           "angularaxis": {
            "gridcolor": "white",
            "linecolor": "white",
            "ticks": ""
           },
           "bgcolor": "#E5ECF6",
           "radialaxis": {
            "gridcolor": "white",
            "linecolor": "white",
            "ticks": ""
           }
          },
          "scene": {
           "xaxis": {
            "backgroundcolor": "#E5ECF6",
            "gridcolor": "white",
            "gridwidth": 2,
            "linecolor": "white",
            "showbackground": true,
            "ticks": "",
            "zerolinecolor": "white"
           },
           "yaxis": {
            "backgroundcolor": "#E5ECF6",
            "gridcolor": "white",
            "gridwidth": 2,
            "linecolor": "white",
            "showbackground": true,
            "ticks": "",
            "zerolinecolor": "white"
           },
           "zaxis": {
            "backgroundcolor": "#E5ECF6",
            "gridcolor": "white",
            "gridwidth": 2,
            "linecolor": "white",
            "showbackground": true,
            "ticks": "",
            "zerolinecolor": "white"
           }
          },
          "shapedefaults": {
           "line": {
            "color": "#2a3f5f"
           }
          },
          "ternary": {
           "aaxis": {
            "gridcolor": "white",
            "linecolor": "white",
            "ticks": ""
           },
           "baxis": {
            "gridcolor": "white",
            "linecolor": "white",
            "ticks": ""
           },
           "bgcolor": "#E5ECF6",
           "caxis": {
            "gridcolor": "white",
            "linecolor": "white",
            "ticks": ""
           }
          },
          "title": {
           "x": 0.05
          },
          "xaxis": {
           "automargin": true,
           "gridcolor": "white",
           "linecolor": "white",
           "ticks": "",
           "title": {
            "standoff": 15
           },
           "zerolinecolor": "white",
           "zerolinewidth": 2
          },
          "yaxis": {
           "automargin": true,
           "gridcolor": "white",
           "linecolor": "white",
           "ticks": "",
           "title": {
            "standoff": 15
           },
           "zerolinecolor": "white",
           "zerolinewidth": 2
          }
         }
        },
        "title": {
         "font": {
          "color": "#9ed900",
          "size": 25
         },
         "text": "模型迭代前后对比recall"
        },
        "xaxis": {
         "ticktext": [
          122,
          140,
          141,
          142,
          144,
          227,
          390,
          396,
          420,
          435
         ],
         "tickvals": [
          1,
          2,
          3,
          4,
          5,
          6,
          7,
          8,
          9,
          10
         ]
        }
       }
      },
      "text/html": [
       "<div>                            <div id=\"3c362d30-caad-4392-9ecf-2e8d35a988f2\" class=\"plotly-graph-div\" style=\"height:525px; width:100%;\"></div>            <script type=\"text/javascript\">                require([\"plotly\"], function(Plotly) {                    window.PLOTLYENV=window.PLOTLYENV || {};                                    if (document.getElementById(\"3c362d30-caad-4392-9ecf-2e8d35a988f2\")) {                    Plotly.newPlot(                        \"3c362d30-caad-4392-9ecf-2e8d35a988f2\",                        [{\"mode\":\"lines+markers\",\"name\":\"updated_client\",\"x\":[1,2,3,4,5,6,7,8,9,10],\"y\":[0.6872037914691943,0.8333333333333334,0.8392857142857143,0.7289156626506024,0.9032258064516129,0.8411214953271028,0.803030303030303,0.9310344827586207,0.7741116751269036,0.8345864661654135],\"type\":\"scatter\"},{\"mode\":\"lines+markers\",\"name\":\"fuse_dag\",\"x\":[1,2,3,4,5,6,7,8,9,10],\"y\":[0.7440758293838863,0.8148148148148148,0.8392857142857143,0.7891566265060241,0.8548387096774194,0.8411214953271028,0.8712121212121212,0.9482758620689655,0.7741116751269036,0.8872180451127819],\"type\":\"scatter\"},{\"mode\":\"lines+markers\",\"name\":\"init_client\",\"x\":[1,2,3,4,5,6,7,8,9,10],\"y\":[0.6872037914691943,0.8333333333333334,0.8125,0.7289156626506024,0.9032258064516129,0.45794392523364486,0.803030303030303,0.9310344827586207,0.7385786802030457,0.8345864661654135],\"type\":\"scatter\"}],                        {\"template\":{\"data\":{\"barpolar\":[{\"marker\":{\"line\":{\"color\":\"#E5ECF6\",\"width\":0.5},\"pattern\":{\"fillmode\":\"overlay\",\"size\":10,\"solidity\":0.2}},\"type\":\"barpolar\"}],\"bar\":[{\"error_x\":{\"color\":\"#2a3f5f\"},\"error_y\":{\"color\":\"#2a3f5f\"},\"marker\":{\"line\":{\"color\":\"#E5ECF6\",\"width\":0.5},\"pattern\":{\"fillmode\":\"overlay\",\"size\":10,\"solidity\":0.2}},\"type\":\"bar\"}],\"carpet\":[{\"aaxis\":{\"endlinecolor\":\"#2a3f5f\",\"gridcolor\":\"white\",\"linecolor\":\"white\",\"minorgridcolor\":\"white\",\"startlinecolor\":\"#2a3f5f\"},\"baxis\":{\"endlinecolor\":\"#2a3f5f\",\"gridcolor\":\"white\",\"linecolor\":\"white\",\"minorgridcolor\":\"white\",\"startlinecolor\":\"#2a3f5f\"},\"type\":\"carpet\"}],\"choropleth\":[{\"colorbar\":{\"outlinewidth\":0,\"ticks\":\"\"},\"type\":\"choropleth\"}],\"contourcarpet\":[{\"colorbar\":{\"outlinewidth\":0,\"ticks\":\"\"},\"type\":\"contourcarpet\"}],\"contour\":[{\"colorbar\":{\"outlinewidth\":0,\"ticks\":\"\"},\"colorscale\":[[0.0,\"#0d0887\"],[0.1111111111111111,\"#46039f\"],[0.2222222222222222,\"#7201a8\"],[0.3333333333333333,\"#9c179e\"],[0.4444444444444444,\"#bd3786\"],[0.5555555555555556,\"#d8576b\"],[0.6666666666666666,\"#ed7953\"],[0.7777777777777778,\"#fb9f3a\"],[0.8888888888888888,\"#fdca26\"],[1.0,\"#f0f921\"]],\"type\":\"contour\"}],\"heatmapgl\":[{\"colorbar\":{\"outlinewidth\":0,\"ticks\":\"\"},\"colorscale\":[[0.0,\"#0d0887\"],[0.1111111111111111,\"#46039f\"],[0.2222222222222222,\"#7201a8\"],[0.3333333333333333,\"#9c179e\"],[0.4444444444444444,\"#bd3786\"],[0.5555555555555556,\"#d8576b\"],[0.6666666666666666,\"#ed7953\"],[0.7777777777777778,\"#fb9f3a\"],[0.8888888888888888,\"#fdca26\"],[1.0,\"#f0f921\"]],\"type\":\"heatmapgl\"}],\"heatmap\":[{\"colorbar\":{\"outlinewidth\":0,\"ticks\":\"\"},\"colorscale\":[[0.0,\"#0d0887\"],[0.1111111111111111,\"#46039f\"],[0.2222222222222222,\"#7201a8\"],[0.3333333333333333,\"#9c179e\"],[0.4444444444444444,\"#bd3786\"],[0.5555555555555556,\"#d8576b\"],[0.6666666666666666,\"#ed7953\"],[0.7777777777777778,\"#fb9f3a\"],[0.8888888888888888,\"#fdca26\"],[1.0,\"#f0f921\"]],\"type\":\"heatmap\"}],\"histogram2dcontour\":[{\"colorbar\":{\"outlinewidth\":0,\"ticks\":\"\"},\"colorscale\":[[0.0,\"#0d0887\"],[0.1111111111111111,\"#46039f\"],[0.2222222222222222,\"#7201a8\"],[0.3333333333333333,\"#9c179e\"],[0.4444444444444444,\"#bd3786\"],[0.5555555555555556,\"#d8576b\"],[0.6666666666666666,\"#ed7953\"],[0.7777777777777778,\"#fb9f3a\"],[0.8888888888888888,\"#fdca26\"],[1.0,\"#f0f921\"]],\"type\":\"histogram2dcontour\"}],\"histogram2d\":[{\"colorbar\":{\"outlinewidth\":0,\"ticks\":\"\"},\"colorscale\":[[0.0,\"#0d0887\"],[0.1111111111111111,\"#46039f\"],[0.2222222222222222,\"#7201a8\"],[0.3333333333333333,\"#9c179e\"],[0.4444444444444444,\"#bd3786\"],[0.5555555555555556,\"#d8576b\"],[0.6666666666666666,\"#ed7953\"],[0.7777777777777778,\"#fb9f3a\"],[0.8888888888888888,\"#fdca26\"],[1.0,\"#f0f921\"]],\"type\":\"histogram2d\"}],\"histogram\":[{\"marker\":{\"pattern\":{\"fillmode\":\"overlay\",\"size\":10,\"solidity\":0.2}},\"type\":\"histogram\"}],\"mesh3d\":[{\"colorbar\":{\"outlinewidth\":0,\"ticks\":\"\"},\"type\":\"mesh3d\"}],\"parcoords\":[{\"line\":{\"colorbar\":{\"outlinewidth\":0,\"ticks\":\"\"}},\"type\":\"parcoords\"}],\"pie\":[{\"automargin\":true,\"type\":\"pie\"}],\"scatter3d\":[{\"line\":{\"colorbar\":{\"outlinewidth\":0,\"ticks\":\"\"}},\"marker\":{\"colorbar\":{\"outlinewidth\":0,\"ticks\":\"\"}},\"type\":\"scatter3d\"}],\"scattercarpet\":[{\"marker\":{\"colorbar\":{\"outlinewidth\":0,\"ticks\":\"\"}},\"type\":\"scattercarpet\"}],\"scattergeo\":[{\"marker\":{\"colorbar\":{\"outlinewidth\":0,\"ticks\":\"\"}},\"type\":\"scattergeo\"}],\"scattergl\":[{\"marker\":{\"colorbar\":{\"outlinewidth\":0,\"ticks\":\"\"}},\"type\":\"scattergl\"}],\"scattermapbox\":[{\"marker\":{\"colorbar\":{\"outlinewidth\":0,\"ticks\":\"\"}},\"type\":\"scattermapbox\"}],\"scatterpolargl\":[{\"marker\":{\"colorbar\":{\"outlinewidth\":0,\"ticks\":\"\"}},\"type\":\"scatterpolargl\"}],\"scatterpolar\":[{\"marker\":{\"colorbar\":{\"outlinewidth\":0,\"ticks\":\"\"}},\"type\":\"scatterpolar\"}],\"scatter\":[{\"marker\":{\"colorbar\":{\"outlinewidth\":0,\"ticks\":\"\"}},\"type\":\"scatter\"}],\"scatterternary\":[{\"marker\":{\"colorbar\":{\"outlinewidth\":0,\"ticks\":\"\"}},\"type\":\"scatterternary\"}],\"surface\":[{\"colorbar\":{\"outlinewidth\":0,\"ticks\":\"\"},\"colorscale\":[[0.0,\"#0d0887\"],[0.1111111111111111,\"#46039f\"],[0.2222222222222222,\"#7201a8\"],[0.3333333333333333,\"#9c179e\"],[0.4444444444444444,\"#bd3786\"],[0.5555555555555556,\"#d8576b\"],[0.6666666666666666,\"#ed7953\"],[0.7777777777777778,\"#fb9f3a\"],[0.8888888888888888,\"#fdca26\"],[1.0,\"#f0f921\"]],\"type\":\"surface\"}],\"table\":[{\"cells\":{\"fill\":{\"color\":\"#EBF0F8\"},\"line\":{\"color\":\"white\"}},\"header\":{\"fill\":{\"color\":\"#C8D4E3\"},\"line\":{\"color\":\"white\"}},\"type\":\"table\"}]},\"layout\":{\"annotationdefaults\":{\"arrowcolor\":\"#2a3f5f\",\"arrowhead\":0,\"arrowwidth\":1},\"autotypenumbers\":\"strict\",\"coloraxis\":{\"colorbar\":{\"outlinewidth\":0,\"ticks\":\"\"}},\"colorscale\":{\"diverging\":[[0,\"#8e0152\"],[0.1,\"#c51b7d\"],[0.2,\"#de77ae\"],[0.3,\"#f1b6da\"],[0.4,\"#fde0ef\"],[0.5,\"#f7f7f7\"],[0.6,\"#e6f5d0\"],[0.7,\"#b8e186\"],[0.8,\"#7fbc41\"],[0.9,\"#4d9221\"],[1,\"#276419\"]],\"sequential\":[[0.0,\"#0d0887\"],[0.1111111111111111,\"#46039f\"],[0.2222222222222222,\"#7201a8\"],[0.3333333333333333,\"#9c179e\"],[0.4444444444444444,\"#bd3786\"],[0.5555555555555556,\"#d8576b\"],[0.6666666666666666,\"#ed7953\"],[0.7777777777777778,\"#fb9f3a\"],[0.8888888888888888,\"#fdca26\"],[1.0,\"#f0f921\"]],\"sequentialminus\":[[0.0,\"#0d0887\"],[0.1111111111111111,\"#46039f\"],[0.2222222222222222,\"#7201a8\"],[0.3333333333333333,\"#9c179e\"],[0.4444444444444444,\"#bd3786\"],[0.5555555555555556,\"#d8576b\"],[0.6666666666666666,\"#ed7953\"],[0.7777777777777778,\"#fb9f3a\"],[0.8888888888888888,\"#fdca26\"],[1.0,\"#f0f921\"]]},\"colorway\":[\"#636efa\",\"#EF553B\",\"#00cc96\",\"#ab63fa\",\"#FFA15A\",\"#19d3f3\",\"#FF6692\",\"#B6E880\",\"#FF97FF\",\"#FECB52\"],\"font\":{\"color\":\"#2a3f5f\"},\"geo\":{\"bgcolor\":\"white\",\"lakecolor\":\"white\",\"landcolor\":\"#E5ECF6\",\"showlakes\":true,\"showland\":true,\"subunitcolor\":\"white\"},\"hoverlabel\":{\"align\":\"left\"},\"hovermode\":\"closest\",\"mapbox\":{\"style\":\"light\"},\"paper_bgcolor\":\"white\",\"plot_bgcolor\":\"#E5ECF6\",\"polar\":{\"angularaxis\":{\"gridcolor\":\"white\",\"linecolor\":\"white\",\"ticks\":\"\"},\"bgcolor\":\"#E5ECF6\",\"radialaxis\":{\"gridcolor\":\"white\",\"linecolor\":\"white\",\"ticks\":\"\"}},\"scene\":{\"xaxis\":{\"backgroundcolor\":\"#E5ECF6\",\"gridcolor\":\"white\",\"gridwidth\":2,\"linecolor\":\"white\",\"showbackground\":true,\"ticks\":\"\",\"zerolinecolor\":\"white\"},\"yaxis\":{\"backgroundcolor\":\"#E5ECF6\",\"gridcolor\":\"white\",\"gridwidth\":2,\"linecolor\":\"white\",\"showbackground\":true,\"ticks\":\"\",\"zerolinecolor\":\"white\"},\"zaxis\":{\"backgroundcolor\":\"#E5ECF6\",\"gridcolor\":\"white\",\"gridwidth\":2,\"linecolor\":\"white\",\"showbackground\":true,\"ticks\":\"\",\"zerolinecolor\":\"white\"}},\"shapedefaults\":{\"line\":{\"color\":\"#2a3f5f\"}},\"ternary\":{\"aaxis\":{\"gridcolor\":\"white\",\"linecolor\":\"white\",\"ticks\":\"\"},\"baxis\":{\"gridcolor\":\"white\",\"linecolor\":\"white\",\"ticks\":\"\"},\"bgcolor\":\"#E5ECF6\",\"caxis\":{\"gridcolor\":\"white\",\"linecolor\":\"white\",\"ticks\":\"\"}},\"title\":{\"x\":0.05},\"xaxis\":{\"automargin\":true,\"gridcolor\":\"white\",\"linecolor\":\"white\",\"ticks\":\"\",\"title\":{\"standoff\":15},\"zerolinecolor\":\"white\",\"zerolinewidth\":2},\"yaxis\":{\"automargin\":true,\"gridcolor\":\"white\",\"linecolor\":\"white\",\"ticks\":\"\",\"title\":{\"standoff\":15},\"zerolinecolor\":\"white\",\"zerolinewidth\":2}}},\"title\":{\"font\":{\"color\":\"#9ed900\",\"size\":25},\"text\":\"\\u6a21\\u578b\\u8fed\\u4ee3\\u524d\\u540e\\u5bf9\\u6bd4recall\"},\"xaxis\":{\"ticktext\":[122,140,141,142,144,227,390,396,420,435],\"tickvals\":[1,2,3,4,5,6,7,8,9,10]}},                        {\"responsive\": true}                    ).then(function(){\n",
       "                            \n",
       "var gd = document.getElementById('3c362d30-caad-4392-9ecf-2e8d35a988f2');\n",
       "var x = new MutationObserver(function (mutations, observer) {{\n",
       "        var display = window.getComputedStyle(gd).display;\n",
       "        if (!display || display === 'none') {{\n",
       "            console.log([gd, 'removed!']);\n",
       "            Plotly.purge(gd);\n",
       "            observer.disconnect();\n",
       "        }}\n",
       "}});\n",
       "\n",
       "// Listen for the removal of the full notebook cells\n",
       "var notebookContainer = gd.closest('#notebook-container');\n",
       "if (notebookContainer) {{\n",
       "    x.observe(notebookContainer, {childList: true});\n",
       "}}\n",
       "\n",
       "// Listen for the clearing of the current output cell\n",
       "var outputEl = gd.closest('.output');\n",
       "if (outputEl) {{\n",
       "    x.observe(outputEl, {childList: true});\n",
       "}}\n",
       "\n",
       "                        })                };                });            </script>        </div>"
      ]
     },
     "metadata": {},
     "output_type": "display_data"
    }
   ],
   "source": [
    "updated_auc = go.Scatter(\n",
    "    x = [1,2,3,4,5,6,7,8,9,10],\n",
    "    y =np.array(fuse_score_all.iloc[1,:]),\n",
    "    name = 'updated_client',\n",
    "    mode = \"lines+markers\")\n",
    "fuse_auc = go.Scatter(\n",
    "    x = [1,2,3,4,5,6,7,8,9,10],\n",
    "    y =np.array(fuse_score.iloc[1,:]),\n",
    "    name = 'fuse_dag',\n",
    "    mode = \"lines+markers\")\n",
    "init_auc = go.Scatter(\n",
    "    x = [1,2,3,4,5,6,7,8,9,10],\n",
    "    y =np.array(all_score_init[0].iloc[1,:]),\n",
    "    name = 'init_client',\n",
    "    mode = \"lines+markers\")\n",
    "\n",
    "\n",
    "layout = go.Layout(\n",
    "    xaxis=dict(\n",
    "            tickvals = [1,2,3,4,5,6,7,8,9,10],\n",
    "            ticktext=hos_id),\n",
    "    title='模型迭代前后对比'+\"recall\",\n",
    "        titlefont={\n",
    "        'size':25,\n",
    "        'color':'#9ed900'\n",
    "        })\n",
    "data=[updated_auc,fuse_auc,init_auc]\n",
    "fig = go.Figure(data=data,layout=layout)\n",
    "iplot(fig)"
   ]
  },
  {
   "cell_type": "code",
   "execution_count": 101,
   "id": "b06c0371",
   "metadata": {},
   "outputs": [
    {
     "data": {
      "application/vnd.plotly.v1+json": {
       "config": {
        "linkText": "Export to plot.ly",
        "plotlyServerURL": "https://plot.ly",
        "showLink": false
       },
       "data": [
        {
         "mode": "lines+markers",
         "name": "updated_client",
         "type": "scatter",
         "x": [
          1,
          2,
          3,
          4,
          5,
          6,
          7,
          8,
          9,
          10
         ],
         "y": [
          0.7738896366083445,
          0.8397435897435898,
          0.7868852459016393,
          0.803680981595092,
          0.7965367965367965,
          0.7451456310679612,
          0.7936046511627907,
          0.7839506172839507,
          0.839563862928349,
          0.764102564102564
         ]
        },
        {
         "mode": "lines+markers",
         "name": "fuse_dag",
         "type": "scatter",
         "x": [
          1,
          2,
          3,
          4,
          5,
          6,
          7,
          8,
          9,
          10
         ],
         "y": [
          0.7442799461641992,
          0.7243589743589743,
          0.7868852459016393,
          0.7607361963190185,
          0.7316017316017316,
          0.7475728155339806,
          0.7732558139534884,
          0.7098765432098766,
          0.8364485981308412,
          0.7333333333333333
         ]
        },
        {
         "mode": "lines+markers",
         "name": "init_client",
         "type": "scatter",
         "x": [
          1,
          2,
          3,
          4,
          5,
          6,
          7,
          8,
          9,
          10
         ],
         "y": [
          0.7738896366083445,
          0.8397435897435898,
          0.7798594847775175,
          0.803680981595092,
          0.7965367965367965,
          0.8009708737864077,
          0.7936046511627907,
          0.7839506172839507,
          0.8473520249221184,
          0.764102564102564
         ]
        }
       ],
       "layout": {
        "template": {
         "data": {
          "bar": [
           {
            "error_x": {
             "color": "#2a3f5f"
            },
            "error_y": {
             "color": "#2a3f5f"
            },
            "marker": {
             "line": {
              "color": "#E5ECF6",
              "width": 0.5
             },
             "pattern": {
              "fillmode": "overlay",
              "size": 10,
              "solidity": 0.2
             }
            },
            "type": "bar"
           }
          ],
          "barpolar": [
           {
            "marker": {
             "line": {
              "color": "#E5ECF6",
              "width": 0.5
             },
             "pattern": {
              "fillmode": "overlay",
              "size": 10,
              "solidity": 0.2
             }
            },
            "type": "barpolar"
           }
          ],
          "carpet": [
           {
            "aaxis": {
             "endlinecolor": "#2a3f5f",
             "gridcolor": "white",
             "linecolor": "white",
             "minorgridcolor": "white",
             "startlinecolor": "#2a3f5f"
            },
            "baxis": {
             "endlinecolor": "#2a3f5f",
             "gridcolor": "white",
             "linecolor": "white",
             "minorgridcolor": "white",
             "startlinecolor": "#2a3f5f"
            },
            "type": "carpet"
           }
          ],
          "choropleth": [
           {
            "colorbar": {
             "outlinewidth": 0,
             "ticks": ""
            },
            "type": "choropleth"
           }
          ],
          "contour": [
           {
            "colorbar": {
             "outlinewidth": 0,
             "ticks": ""
            },
            "colorscale": [
             [
              0,
              "#0d0887"
             ],
             [
              0.1111111111111111,
              "#46039f"
             ],
             [
              0.2222222222222222,
              "#7201a8"
             ],
             [
              0.3333333333333333,
              "#9c179e"
             ],
             [
              0.4444444444444444,
              "#bd3786"
             ],
             [
              0.5555555555555556,
              "#d8576b"
             ],
             [
              0.6666666666666666,
              "#ed7953"
             ],
             [
              0.7777777777777778,
              "#fb9f3a"
             ],
             [
              0.8888888888888888,
              "#fdca26"
             ],
             [
              1,
              "#f0f921"
             ]
            ],
            "type": "contour"
           }
          ],
          "contourcarpet": [
           {
            "colorbar": {
             "outlinewidth": 0,
             "ticks": ""
            },
            "type": "contourcarpet"
           }
          ],
          "heatmap": [
           {
            "colorbar": {
             "outlinewidth": 0,
             "ticks": ""
            },
            "colorscale": [
             [
              0,
              "#0d0887"
             ],
             [
              0.1111111111111111,
              "#46039f"
             ],
             [
              0.2222222222222222,
              "#7201a8"
             ],
             [
              0.3333333333333333,
              "#9c179e"
             ],
             [
              0.4444444444444444,
              "#bd3786"
             ],
             [
              0.5555555555555556,
              "#d8576b"
             ],
             [
              0.6666666666666666,
              "#ed7953"
             ],
             [
              0.7777777777777778,
              "#fb9f3a"
             ],
             [
              0.8888888888888888,
              "#fdca26"
             ],
             [
              1,
              "#f0f921"
             ]
            ],
            "type": "heatmap"
           }
          ],
          "heatmapgl": [
           {
            "colorbar": {
             "outlinewidth": 0,
             "ticks": ""
            },
            "colorscale": [
             [
              0,
              "#0d0887"
             ],
             [
              0.1111111111111111,
              "#46039f"
             ],
             [
              0.2222222222222222,
              "#7201a8"
             ],
             [
              0.3333333333333333,
              "#9c179e"
             ],
             [
              0.4444444444444444,
              "#bd3786"
             ],
             [
              0.5555555555555556,
              "#d8576b"
             ],
             [
              0.6666666666666666,
              "#ed7953"
             ],
             [
              0.7777777777777778,
              "#fb9f3a"
             ],
             [
              0.8888888888888888,
              "#fdca26"
             ],
             [
              1,
              "#f0f921"
             ]
            ],
            "type": "heatmapgl"
           }
          ],
          "histogram": [
           {
            "marker": {
             "pattern": {
              "fillmode": "overlay",
              "size": 10,
              "solidity": 0.2
             }
            },
            "type": "histogram"
           }
          ],
          "histogram2d": [
           {
            "colorbar": {
             "outlinewidth": 0,
             "ticks": ""
            },
            "colorscale": [
             [
              0,
              "#0d0887"
             ],
             [
              0.1111111111111111,
              "#46039f"
             ],
             [
              0.2222222222222222,
              "#7201a8"
             ],
             [
              0.3333333333333333,
              "#9c179e"
             ],
             [
              0.4444444444444444,
              "#bd3786"
             ],
             [
              0.5555555555555556,
              "#d8576b"
             ],
             [
              0.6666666666666666,
              "#ed7953"
             ],
             [
              0.7777777777777778,
              "#fb9f3a"
             ],
             [
              0.8888888888888888,
              "#fdca26"
             ],
             [
              1,
              "#f0f921"
             ]
            ],
            "type": "histogram2d"
           }
          ],
          "histogram2dcontour": [
           {
            "colorbar": {
             "outlinewidth": 0,
             "ticks": ""
            },
            "colorscale": [
             [
              0,
              "#0d0887"
             ],
             [
              0.1111111111111111,
              "#46039f"
             ],
             [
              0.2222222222222222,
              "#7201a8"
             ],
             [
              0.3333333333333333,
              "#9c179e"
             ],
             [
              0.4444444444444444,
              "#bd3786"
             ],
             [
              0.5555555555555556,
              "#d8576b"
             ],
             [
              0.6666666666666666,
              "#ed7953"
             ],
             [
              0.7777777777777778,
              "#fb9f3a"
             ],
             [
              0.8888888888888888,
              "#fdca26"
             ],
             [
              1,
              "#f0f921"
             ]
            ],
            "type": "histogram2dcontour"
           }
          ],
          "mesh3d": [
           {
            "colorbar": {
             "outlinewidth": 0,
             "ticks": ""
            },
            "type": "mesh3d"
           }
          ],
          "parcoords": [
           {
            "line": {
             "colorbar": {
              "outlinewidth": 0,
              "ticks": ""
             }
            },
            "type": "parcoords"
           }
          ],
          "pie": [
           {
            "automargin": true,
            "type": "pie"
           }
          ],
          "scatter": [
           {
            "marker": {
             "colorbar": {
              "outlinewidth": 0,
              "ticks": ""
             }
            },
            "type": "scatter"
           }
          ],
          "scatter3d": [
           {
            "line": {
             "colorbar": {
              "outlinewidth": 0,
              "ticks": ""
             }
            },
            "marker": {
             "colorbar": {
              "outlinewidth": 0,
              "ticks": ""
             }
            },
            "type": "scatter3d"
           }
          ],
          "scattercarpet": [
           {
            "marker": {
             "colorbar": {
              "outlinewidth": 0,
              "ticks": ""
             }
            },
            "type": "scattercarpet"
           }
          ],
          "scattergeo": [
           {
            "marker": {
             "colorbar": {
              "outlinewidth": 0,
              "ticks": ""
             }
            },
            "type": "scattergeo"
           }
          ],
          "scattergl": [
           {
            "marker": {
             "colorbar": {
              "outlinewidth": 0,
              "ticks": ""
             }
            },
            "type": "scattergl"
           }
          ],
          "scattermapbox": [
           {
            "marker": {
             "colorbar": {
              "outlinewidth": 0,
              "ticks": ""
             }
            },
            "type": "scattermapbox"
           }
          ],
          "scatterpolar": [
           {
            "marker": {
             "colorbar": {
              "outlinewidth": 0,
              "ticks": ""
             }
            },
            "type": "scatterpolar"
           }
          ],
          "scatterpolargl": [
           {
            "marker": {
             "colorbar": {
              "outlinewidth": 0,
              "ticks": ""
             }
            },
            "type": "scatterpolargl"
           }
          ],
          "scatterternary": [
           {
            "marker": {
             "colorbar": {
              "outlinewidth": 0,
              "ticks": ""
             }
            },
            "type": "scatterternary"
           }
          ],
          "surface": [
           {
            "colorbar": {
             "outlinewidth": 0,
             "ticks": ""
            },
            "colorscale": [
             [
              0,
              "#0d0887"
             ],
             [
              0.1111111111111111,
              "#46039f"
             ],
             [
              0.2222222222222222,
              "#7201a8"
             ],
             [
              0.3333333333333333,
              "#9c179e"
             ],
             [
              0.4444444444444444,
              "#bd3786"
             ],
             [
              0.5555555555555556,
              "#d8576b"
             ],
             [
              0.6666666666666666,
              "#ed7953"
             ],
             [
              0.7777777777777778,
              "#fb9f3a"
             ],
             [
              0.8888888888888888,
              "#fdca26"
             ],
             [
              1,
              "#f0f921"
             ]
            ],
            "type": "surface"
           }
          ],
          "table": [
           {
            "cells": {
             "fill": {
              "color": "#EBF0F8"
             },
             "line": {
              "color": "white"
             }
            },
            "header": {
             "fill": {
              "color": "#C8D4E3"
             },
             "line": {
              "color": "white"
             }
            },
            "type": "table"
           }
          ]
         },
         "layout": {
          "annotationdefaults": {
           "arrowcolor": "#2a3f5f",
           "arrowhead": 0,
           "arrowwidth": 1
          },
          "autotypenumbers": "strict",
          "coloraxis": {
           "colorbar": {
            "outlinewidth": 0,
            "ticks": ""
           }
          },
          "colorscale": {
           "diverging": [
            [
             0,
             "#8e0152"
            ],
            [
             0.1,
             "#c51b7d"
            ],
            [
             0.2,
             "#de77ae"
            ],
            [
             0.3,
             "#f1b6da"
            ],
            [
             0.4,
             "#fde0ef"
            ],
            [
             0.5,
             "#f7f7f7"
            ],
            [
             0.6,
             "#e6f5d0"
            ],
            [
             0.7,
             "#b8e186"
            ],
            [
             0.8,
             "#7fbc41"
            ],
            [
             0.9,
             "#4d9221"
            ],
            [
             1,
             "#276419"
            ]
           ],
           "sequential": [
            [
             0,
             "#0d0887"
            ],
            [
             0.1111111111111111,
             "#46039f"
            ],
            [
             0.2222222222222222,
             "#7201a8"
            ],
            [
             0.3333333333333333,
             "#9c179e"
            ],
            [
             0.4444444444444444,
             "#bd3786"
            ],
            [
             0.5555555555555556,
             "#d8576b"
            ],
            [
             0.6666666666666666,
             "#ed7953"
            ],
            [
             0.7777777777777778,
             "#fb9f3a"
            ],
            [
             0.8888888888888888,
             "#fdca26"
            ],
            [
             1,
             "#f0f921"
            ]
           ],
           "sequentialminus": [
            [
             0,
             "#0d0887"
            ],
            [
             0.1111111111111111,
             "#46039f"
            ],
            [
             0.2222222222222222,
             "#7201a8"
            ],
            [
             0.3333333333333333,
             "#9c179e"
            ],
            [
             0.4444444444444444,
             "#bd3786"
            ],
            [
             0.5555555555555556,
             "#d8576b"
            ],
            [
             0.6666666666666666,
             "#ed7953"
            ],
            [
             0.7777777777777778,
             "#fb9f3a"
            ],
            [
             0.8888888888888888,
             "#fdca26"
            ],
            [
             1,
             "#f0f921"
            ]
           ]
          },
          "colorway": [
           "#636efa",
           "#EF553B",
           "#00cc96",
           "#ab63fa",
           "#FFA15A",
           "#19d3f3",
           "#FF6692",
           "#B6E880",
           "#FF97FF",
           "#FECB52"
          ],
          "font": {
           "color": "#2a3f5f"
          },
          "geo": {
           "bgcolor": "white",
           "lakecolor": "white",
           "landcolor": "#E5ECF6",
           "showlakes": true,
           "showland": true,
           "subunitcolor": "white"
          },
          "hoverlabel": {
           "align": "left"
          },
          "hovermode": "closest",
          "mapbox": {
           "style": "light"
          },
          "paper_bgcolor": "white",
          "plot_bgcolor": "#E5ECF6",
          "polar": {
           "angularaxis": {
            "gridcolor": "white",
            "linecolor": "white",
            "ticks": ""
           },
           "bgcolor": "#E5ECF6",
           "radialaxis": {
            "gridcolor": "white",
            "linecolor": "white",
            "ticks": ""
           }
          },
          "scene": {
           "xaxis": {
            "backgroundcolor": "#E5ECF6",
            "gridcolor": "white",
            "gridwidth": 2,
            "linecolor": "white",
            "showbackground": true,
            "ticks": "",
            "zerolinecolor": "white"
           },
           "yaxis": {
            "backgroundcolor": "#E5ECF6",
            "gridcolor": "white",
            "gridwidth": 2,
            "linecolor": "white",
            "showbackground": true,
            "ticks": "",
            "zerolinecolor": "white"
           },
           "zaxis": {
            "backgroundcolor": "#E5ECF6",
            "gridcolor": "white",
            "gridwidth": 2,
            "linecolor": "white",
            "showbackground": true,
            "ticks": "",
            "zerolinecolor": "white"
           }
          },
          "shapedefaults": {
           "line": {
            "color": "#2a3f5f"
           }
          },
          "ternary": {
           "aaxis": {
            "gridcolor": "white",
            "linecolor": "white",
            "ticks": ""
           },
           "baxis": {
            "gridcolor": "white",
            "linecolor": "white",
            "ticks": ""
           },
           "bgcolor": "#E5ECF6",
           "caxis": {
            "gridcolor": "white",
            "linecolor": "white",
            "ticks": ""
           }
          },
          "title": {
           "x": 0.05
          },
          "xaxis": {
           "automargin": true,
           "gridcolor": "white",
           "linecolor": "white",
           "ticks": "",
           "title": {
            "standoff": 15
           },
           "zerolinecolor": "white",
           "zerolinewidth": 2
          },
          "yaxis": {
           "automargin": true,
           "gridcolor": "white",
           "linecolor": "white",
           "ticks": "",
           "title": {
            "standoff": 15
           },
           "zerolinecolor": "white",
           "zerolinewidth": 2
          }
         }
        },
        "title": {
         "font": {
          "color": "#9ed900",
          "size": 25
         },
         "text": "模型迭代前后对比acc"
        },
        "xaxis": {
         "ticktext": [
          122,
          140,
          141,
          142,
          144,
          227,
          390,
          396,
          420,
          435
         ],
         "tickvals": [
          1,
          2,
          3,
          4,
          5,
          6,
          7,
          8,
          9,
          10
         ]
        }
       }
      },
      "text/html": [
       "<div>                            <div id=\"f166f9c5-7707-4785-98b6-eb54f31d0677\" class=\"plotly-graph-div\" style=\"height:525px; width:100%;\"></div>            <script type=\"text/javascript\">                require([\"plotly\"], function(Plotly) {                    window.PLOTLYENV=window.PLOTLYENV || {};                                    if (document.getElementById(\"f166f9c5-7707-4785-98b6-eb54f31d0677\")) {                    Plotly.newPlot(                        \"f166f9c5-7707-4785-98b6-eb54f31d0677\",                        [{\"mode\":\"lines+markers\",\"name\":\"updated_client\",\"x\":[1,2,3,4,5,6,7,8,9,10],\"y\":[0.7738896366083445,0.8397435897435898,0.7868852459016393,0.803680981595092,0.7965367965367965,0.7451456310679612,0.7936046511627907,0.7839506172839507,0.839563862928349,0.764102564102564],\"type\":\"scatter\"},{\"mode\":\"lines+markers\",\"name\":\"fuse_dag\",\"x\":[1,2,3,4,5,6,7,8,9,10],\"y\":[0.7442799461641992,0.7243589743589743,0.7868852459016393,0.7607361963190185,0.7316017316017316,0.7475728155339806,0.7732558139534884,0.7098765432098766,0.8364485981308412,0.7333333333333333],\"type\":\"scatter\"},{\"mode\":\"lines+markers\",\"name\":\"init_client\",\"x\":[1,2,3,4,5,6,7,8,9,10],\"y\":[0.7738896366083445,0.8397435897435898,0.7798594847775175,0.803680981595092,0.7965367965367965,0.8009708737864077,0.7936046511627907,0.7839506172839507,0.8473520249221184,0.764102564102564],\"type\":\"scatter\"}],                        {\"template\":{\"data\":{\"barpolar\":[{\"marker\":{\"line\":{\"color\":\"#E5ECF6\",\"width\":0.5},\"pattern\":{\"fillmode\":\"overlay\",\"size\":10,\"solidity\":0.2}},\"type\":\"barpolar\"}],\"bar\":[{\"error_x\":{\"color\":\"#2a3f5f\"},\"error_y\":{\"color\":\"#2a3f5f\"},\"marker\":{\"line\":{\"color\":\"#E5ECF6\",\"width\":0.5},\"pattern\":{\"fillmode\":\"overlay\",\"size\":10,\"solidity\":0.2}},\"type\":\"bar\"}],\"carpet\":[{\"aaxis\":{\"endlinecolor\":\"#2a3f5f\",\"gridcolor\":\"white\",\"linecolor\":\"white\",\"minorgridcolor\":\"white\",\"startlinecolor\":\"#2a3f5f\"},\"baxis\":{\"endlinecolor\":\"#2a3f5f\",\"gridcolor\":\"white\",\"linecolor\":\"white\",\"minorgridcolor\":\"white\",\"startlinecolor\":\"#2a3f5f\"},\"type\":\"carpet\"}],\"choropleth\":[{\"colorbar\":{\"outlinewidth\":0,\"ticks\":\"\"},\"type\":\"choropleth\"}],\"contourcarpet\":[{\"colorbar\":{\"outlinewidth\":0,\"ticks\":\"\"},\"type\":\"contourcarpet\"}],\"contour\":[{\"colorbar\":{\"outlinewidth\":0,\"ticks\":\"\"},\"colorscale\":[[0.0,\"#0d0887\"],[0.1111111111111111,\"#46039f\"],[0.2222222222222222,\"#7201a8\"],[0.3333333333333333,\"#9c179e\"],[0.4444444444444444,\"#bd3786\"],[0.5555555555555556,\"#d8576b\"],[0.6666666666666666,\"#ed7953\"],[0.7777777777777778,\"#fb9f3a\"],[0.8888888888888888,\"#fdca26\"],[1.0,\"#f0f921\"]],\"type\":\"contour\"}],\"heatmapgl\":[{\"colorbar\":{\"outlinewidth\":0,\"ticks\":\"\"},\"colorscale\":[[0.0,\"#0d0887\"],[0.1111111111111111,\"#46039f\"],[0.2222222222222222,\"#7201a8\"],[0.3333333333333333,\"#9c179e\"],[0.4444444444444444,\"#bd3786\"],[0.5555555555555556,\"#d8576b\"],[0.6666666666666666,\"#ed7953\"],[0.7777777777777778,\"#fb9f3a\"],[0.8888888888888888,\"#fdca26\"],[1.0,\"#f0f921\"]],\"type\":\"heatmapgl\"}],\"heatmap\":[{\"colorbar\":{\"outlinewidth\":0,\"ticks\":\"\"},\"colorscale\":[[0.0,\"#0d0887\"],[0.1111111111111111,\"#46039f\"],[0.2222222222222222,\"#7201a8\"],[0.3333333333333333,\"#9c179e\"],[0.4444444444444444,\"#bd3786\"],[0.5555555555555556,\"#d8576b\"],[0.6666666666666666,\"#ed7953\"],[0.7777777777777778,\"#fb9f3a\"],[0.8888888888888888,\"#fdca26\"],[1.0,\"#f0f921\"]],\"type\":\"heatmap\"}],\"histogram2dcontour\":[{\"colorbar\":{\"outlinewidth\":0,\"ticks\":\"\"},\"colorscale\":[[0.0,\"#0d0887\"],[0.1111111111111111,\"#46039f\"],[0.2222222222222222,\"#7201a8\"],[0.3333333333333333,\"#9c179e\"],[0.4444444444444444,\"#bd3786\"],[0.5555555555555556,\"#d8576b\"],[0.6666666666666666,\"#ed7953\"],[0.7777777777777778,\"#fb9f3a\"],[0.8888888888888888,\"#fdca26\"],[1.0,\"#f0f921\"]],\"type\":\"histogram2dcontour\"}],\"histogram2d\":[{\"colorbar\":{\"outlinewidth\":0,\"ticks\":\"\"},\"colorscale\":[[0.0,\"#0d0887\"],[0.1111111111111111,\"#46039f\"],[0.2222222222222222,\"#7201a8\"],[0.3333333333333333,\"#9c179e\"],[0.4444444444444444,\"#bd3786\"],[0.5555555555555556,\"#d8576b\"],[0.6666666666666666,\"#ed7953\"],[0.7777777777777778,\"#fb9f3a\"],[0.8888888888888888,\"#fdca26\"],[1.0,\"#f0f921\"]],\"type\":\"histogram2d\"}],\"histogram\":[{\"marker\":{\"pattern\":{\"fillmode\":\"overlay\",\"size\":10,\"solidity\":0.2}},\"type\":\"histogram\"}],\"mesh3d\":[{\"colorbar\":{\"outlinewidth\":0,\"ticks\":\"\"},\"type\":\"mesh3d\"}],\"parcoords\":[{\"line\":{\"colorbar\":{\"outlinewidth\":0,\"ticks\":\"\"}},\"type\":\"parcoords\"}],\"pie\":[{\"automargin\":true,\"type\":\"pie\"}],\"scatter3d\":[{\"line\":{\"colorbar\":{\"outlinewidth\":0,\"ticks\":\"\"}},\"marker\":{\"colorbar\":{\"outlinewidth\":0,\"ticks\":\"\"}},\"type\":\"scatter3d\"}],\"scattercarpet\":[{\"marker\":{\"colorbar\":{\"outlinewidth\":0,\"ticks\":\"\"}},\"type\":\"scattercarpet\"}],\"scattergeo\":[{\"marker\":{\"colorbar\":{\"outlinewidth\":0,\"ticks\":\"\"}},\"type\":\"scattergeo\"}],\"scattergl\":[{\"marker\":{\"colorbar\":{\"outlinewidth\":0,\"ticks\":\"\"}},\"type\":\"scattergl\"}],\"scattermapbox\":[{\"marker\":{\"colorbar\":{\"outlinewidth\":0,\"ticks\":\"\"}},\"type\":\"scattermapbox\"}],\"scatterpolargl\":[{\"marker\":{\"colorbar\":{\"outlinewidth\":0,\"ticks\":\"\"}},\"type\":\"scatterpolargl\"}],\"scatterpolar\":[{\"marker\":{\"colorbar\":{\"outlinewidth\":0,\"ticks\":\"\"}},\"type\":\"scatterpolar\"}],\"scatter\":[{\"marker\":{\"colorbar\":{\"outlinewidth\":0,\"ticks\":\"\"}},\"type\":\"scatter\"}],\"scatterternary\":[{\"marker\":{\"colorbar\":{\"outlinewidth\":0,\"ticks\":\"\"}},\"type\":\"scatterternary\"}],\"surface\":[{\"colorbar\":{\"outlinewidth\":0,\"ticks\":\"\"},\"colorscale\":[[0.0,\"#0d0887\"],[0.1111111111111111,\"#46039f\"],[0.2222222222222222,\"#7201a8\"],[0.3333333333333333,\"#9c179e\"],[0.4444444444444444,\"#bd3786\"],[0.5555555555555556,\"#d8576b\"],[0.6666666666666666,\"#ed7953\"],[0.7777777777777778,\"#fb9f3a\"],[0.8888888888888888,\"#fdca26\"],[1.0,\"#f0f921\"]],\"type\":\"surface\"}],\"table\":[{\"cells\":{\"fill\":{\"color\":\"#EBF0F8\"},\"line\":{\"color\":\"white\"}},\"header\":{\"fill\":{\"color\":\"#C8D4E3\"},\"line\":{\"color\":\"white\"}},\"type\":\"table\"}]},\"layout\":{\"annotationdefaults\":{\"arrowcolor\":\"#2a3f5f\",\"arrowhead\":0,\"arrowwidth\":1},\"autotypenumbers\":\"strict\",\"coloraxis\":{\"colorbar\":{\"outlinewidth\":0,\"ticks\":\"\"}},\"colorscale\":{\"diverging\":[[0,\"#8e0152\"],[0.1,\"#c51b7d\"],[0.2,\"#de77ae\"],[0.3,\"#f1b6da\"],[0.4,\"#fde0ef\"],[0.5,\"#f7f7f7\"],[0.6,\"#e6f5d0\"],[0.7,\"#b8e186\"],[0.8,\"#7fbc41\"],[0.9,\"#4d9221\"],[1,\"#276419\"]],\"sequential\":[[0.0,\"#0d0887\"],[0.1111111111111111,\"#46039f\"],[0.2222222222222222,\"#7201a8\"],[0.3333333333333333,\"#9c179e\"],[0.4444444444444444,\"#bd3786\"],[0.5555555555555556,\"#d8576b\"],[0.6666666666666666,\"#ed7953\"],[0.7777777777777778,\"#fb9f3a\"],[0.8888888888888888,\"#fdca26\"],[1.0,\"#f0f921\"]],\"sequentialminus\":[[0.0,\"#0d0887\"],[0.1111111111111111,\"#46039f\"],[0.2222222222222222,\"#7201a8\"],[0.3333333333333333,\"#9c179e\"],[0.4444444444444444,\"#bd3786\"],[0.5555555555555556,\"#d8576b\"],[0.6666666666666666,\"#ed7953\"],[0.7777777777777778,\"#fb9f3a\"],[0.8888888888888888,\"#fdca26\"],[1.0,\"#f0f921\"]]},\"colorway\":[\"#636efa\",\"#EF553B\",\"#00cc96\",\"#ab63fa\",\"#FFA15A\",\"#19d3f3\",\"#FF6692\",\"#B6E880\",\"#FF97FF\",\"#FECB52\"],\"font\":{\"color\":\"#2a3f5f\"},\"geo\":{\"bgcolor\":\"white\",\"lakecolor\":\"white\",\"landcolor\":\"#E5ECF6\",\"showlakes\":true,\"showland\":true,\"subunitcolor\":\"white\"},\"hoverlabel\":{\"align\":\"left\"},\"hovermode\":\"closest\",\"mapbox\":{\"style\":\"light\"},\"paper_bgcolor\":\"white\",\"plot_bgcolor\":\"#E5ECF6\",\"polar\":{\"angularaxis\":{\"gridcolor\":\"white\",\"linecolor\":\"white\",\"ticks\":\"\"},\"bgcolor\":\"#E5ECF6\",\"radialaxis\":{\"gridcolor\":\"white\",\"linecolor\":\"white\",\"ticks\":\"\"}},\"scene\":{\"xaxis\":{\"backgroundcolor\":\"#E5ECF6\",\"gridcolor\":\"white\",\"gridwidth\":2,\"linecolor\":\"white\",\"showbackground\":true,\"ticks\":\"\",\"zerolinecolor\":\"white\"},\"yaxis\":{\"backgroundcolor\":\"#E5ECF6\",\"gridcolor\":\"white\",\"gridwidth\":2,\"linecolor\":\"white\",\"showbackground\":true,\"ticks\":\"\",\"zerolinecolor\":\"white\"},\"zaxis\":{\"backgroundcolor\":\"#E5ECF6\",\"gridcolor\":\"white\",\"gridwidth\":2,\"linecolor\":\"white\",\"showbackground\":true,\"ticks\":\"\",\"zerolinecolor\":\"white\"}},\"shapedefaults\":{\"line\":{\"color\":\"#2a3f5f\"}},\"ternary\":{\"aaxis\":{\"gridcolor\":\"white\",\"linecolor\":\"white\",\"ticks\":\"\"},\"baxis\":{\"gridcolor\":\"white\",\"linecolor\":\"white\",\"ticks\":\"\"},\"bgcolor\":\"#E5ECF6\",\"caxis\":{\"gridcolor\":\"white\",\"linecolor\":\"white\",\"ticks\":\"\"}},\"title\":{\"x\":0.05},\"xaxis\":{\"automargin\":true,\"gridcolor\":\"white\",\"linecolor\":\"white\",\"ticks\":\"\",\"title\":{\"standoff\":15},\"zerolinecolor\":\"white\",\"zerolinewidth\":2},\"yaxis\":{\"automargin\":true,\"gridcolor\":\"white\",\"linecolor\":\"white\",\"ticks\":\"\",\"title\":{\"standoff\":15},\"zerolinecolor\":\"white\",\"zerolinewidth\":2}}},\"title\":{\"font\":{\"color\":\"#9ed900\",\"size\":25},\"text\":\"\\u6a21\\u578b\\u8fed\\u4ee3\\u524d\\u540e\\u5bf9\\u6bd4acc\"},\"xaxis\":{\"ticktext\":[122,140,141,142,144,227,390,396,420,435],\"tickvals\":[1,2,3,4,5,6,7,8,9,10]}},                        {\"responsive\": true}                    ).then(function(){\n",
       "                            \n",
       "var gd = document.getElementById('f166f9c5-7707-4785-98b6-eb54f31d0677');\n",
       "var x = new MutationObserver(function (mutations, observer) {{\n",
       "        var display = window.getComputedStyle(gd).display;\n",
       "        if (!display || display === 'none') {{\n",
       "            console.log([gd, 'removed!']);\n",
       "            Plotly.purge(gd);\n",
       "            observer.disconnect();\n",
       "        }}\n",
       "}});\n",
       "\n",
       "// Listen for the removal of the full notebook cells\n",
       "var notebookContainer = gd.closest('#notebook-container');\n",
       "if (notebookContainer) {{\n",
       "    x.observe(notebookContainer, {childList: true});\n",
       "}}\n",
       "\n",
       "// Listen for the clearing of the current output cell\n",
       "var outputEl = gd.closest('.output');\n",
       "if (outputEl) {{\n",
       "    x.observe(outputEl, {childList: true});\n",
       "}}\n",
       "\n",
       "                        })                };                });            </script>        </div>"
      ]
     },
     "metadata": {},
     "output_type": "display_data"
    }
   ],
   "source": [
    "updated_auc = go.Scatter(\n",
    "    x = [1,2,3,4,5,6,7,8,9,10],\n",
    "    y =np.array(fuse_score_all.iloc[0,:]),\n",
    "    name = 'updated_client',\n",
    "    mode = \"lines+markers\")\n",
    "fuse_auc = go.Scatter(\n",
    "    x = [1,2,3,4,5,6,7,8,9,10],\n",
    "    y =np.array(fuse_score.iloc[0,:]),\n",
    "    name = 'fuse_dag',\n",
    "    mode = \"lines+markers\")\n",
    "init_auc = go.Scatter(\n",
    "    x = [1,2,3,4,5,6,7,8,9,10],\n",
    "    y =np.array(all_score_init[0].iloc[0,:]),\n",
    "    name = 'init_client',\n",
    "    mode = \"lines+markers\")\n",
    "\n",
    "\n",
    "layout = go.Layout(\n",
    "    xaxis=dict(\n",
    "            tickvals = [1,2,3,4,5,6,7,8,9,10],\n",
    "            ticktext=hos_id),\n",
    "    title='模型迭代前后对比'+\"acc\",\n",
    "        titlefont={\n",
    "        'size':25,\n",
    "        'color':'#9ed900'\n",
    "        })\n",
    "data=[updated_auc,fuse_auc,init_auc]\n",
    "fig = go.Figure(data=data,layout=layout)\n",
    "iplot(fig)"
   ]
  },
  {
   "cell_type": "code",
   "execution_count": null,
   "id": "10fac0f7",
   "metadata": {},
   "outputs": [],
   "source": []
  }
 ],
 "metadata": {
  "kernelspec": {
   "display_name": "Python 3 (ipykernel)",
   "language": "python",
   "name": "python3"
  },
  "language_info": {
   "codemirror_mode": {
    "name": "ipython",
    "version": 3
   },
   "file_extension": ".py",
   "mimetype": "text/x-python",
   "name": "python",
   "nbconvert_exporter": "python",
   "pygments_lexer": "ipython3",
   "version": "3.9.12"
  }
 },
 "nbformat": 4,
 "nbformat_minor": 5
}
