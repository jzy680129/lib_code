{
 "cells": [
  {
   "cell_type": "code",
   "execution_count": 1,
   "id": "b452a51e",
   "metadata": {},
   "outputs": [],
   "source": [
    "import pandas as pd\n",
    "import numpy as np\n",
    "from xgboost.sklearn import XGBClassifier\n",
    "from pgmpy.estimators import HillClimbSearch\n",
    "from pgmpy.models import BayesianNetwork\n",
    "from pgmpy.estimators import BicScore\n",
    "from pgmpy.base import DAG\n",
    "from sklearn.ensemble import RandomForestRegressor\n",
    "from sklearn.ensemble import RandomForestClassifier\n",
    "from sklearn.impute import SimpleImputer\n",
    "from sklearn import metrics\n",
    "from pgmpy.base import DAG\n",
    "from rpy2.robjects import r\n",
    "from rpy2.robjects import pandas2ri\n",
    "from rpy2.robjects import globalenv\n",
    "from rpy2.robjects.packages import importr\n",
    "from pgmpy.estimators import K2Score\n",
    "from rpy2.robjects import conversion, default_converter, pandas2ri\n",
    "from rpy2.robjects.conversion import localconverter\n",
    "from pgmpy.models import BayesianNetwork\n",
    "from sklearn.model_selection import cross_val_score\n",
    "from sklearn.model_selection import train_test_split\n",
    "from sklearn.metrics import auc\n",
    "from sklearn.metrics import roc_curve\n",
    "from sklearn.model_selection import cross_validate\n",
    "from sklearn.model_selection import cross_val_predict\n",
    "from sklearn.metrics import accuracy_score\n",
    "from sklearn.metrics import recall_score\n",
    "import rpy2.robjects as ro\n",
    "from pgmpy.estimators import ExpectationMaximization as EM\n",
    "from pgmpy.estimators import BayesianEstimator as BE\n",
    "from pgmpy.estimators import BDeuScore\n",
    "from pgmpy.estimators import BicScore\n",
    "from sklearn.metrics import mutual_info_score\n",
    "from sklearn.metrics import roc_auc_score\n",
    "pandas2ri.activate()\n",
    "from sklearn.metrics import f1_score"
   ]
  },
  {
   "cell_type": "code",
   "execution_count": 6,
   "id": "4b37bc16",
   "metadata": {},
   "outputs": [],
   "source": [
    "def to_matrix(edges_dag,columns):\n",
    "    #将图转换为矩阵\n",
    "    edges_matrix = pd.DataFrame(np.zeros((len(columns),len(columns))),index = columns,columns=columns).astype(int)\n",
    "    for edges in edges_dag:\n",
    "        edges_matrix.loc[edges[0],edges[1]]+=1\n",
    "    return edges_matrix\n",
    "\n",
    "def to_dag(edges_matrix):\n",
    "    edges_list = []\n",
    "    for index in edges_matrix.index:\n",
    "        for col in edges_matrix.columns:\n",
    "            if edges_matrix.loc[index,col]!=0:\n",
    "                edges_list.append((index,col))\n",
    "            \n",
    "    #将矩阵转换为图\n",
    "    return edges_list  \n",
    "def print_dag(dag,all_node=False):\n",
    "    if not all_node:\n",
    "        if dag.has_node(\"label\"):\n",
    "            for edges in dag.get_ancestral_graph(\"label\").edges:\n",
    "                print(edges[0],\"->\",edges[1],\";\")\n",
    "        else:\n",
    "            print(\"label have not ancestor\")\n",
    "            for edges in dag.edges:\n",
    "                print(edges[0],\"->\",edges[1],\";\")\n",
    "    else:\n",
    "         for edges in dag.edges:\n",
    "                print(edges[0],\"->\",edges[1],\";\")\n",
    "    return \n",
    "            \n",
    "def model_auc(prob,y_true):\n",
    "    y_prob = []\n",
    "    num = 0\n",
    "    for i in range(len(prob)):\n",
    "        y_prob.append(prob.iloc[i,y_true[i]])\n",
    "    if y_predic[i]==y_true[i]:\n",
    "        num+=1\n",
    "    fpr, tpr, thresholds = roc_curve(y_true,y_predic)\n",
    "    \n",
    "    return auc(fpr, tpr)\n",
    "def to_strength_list(edges_strength_martix):\n",
    "    str_list = []\n",
    "    for col in edges_strength_martix.columns:\n",
    "        for idx in edges_strength_matrix.columns:\n",
    "            #不等于才加\n",
    "            if edges_strength_matrix[col][idx]!=0:\n",
    "                str_list.append([idx,col,edges_strength_matrix[col][idx]])\n",
    "    return str_list\n",
    "\n",
    "#根据互信息的分数计算黑名单\n",
    "def caculate_hos_bl(data,bl):    \n",
    "    mi_bl = []\n",
    "    h_id = 6\n",
    "    for col in data.columns:\n",
    "        for index in data.columns:\n",
    "            mi_score = mutual_info_score(data.loc[:,index],data.loc[:,col])\n",
    "            if col==index:\n",
    "                continue\n",
    "            ##互信息分数，如果两个特征的互信息分数小雨0.02的话就将它加入黑名单\n",
    "            if mi_score<0.02:\n",
    "                mi_bl.append([index,col])\n",
    "    h_bl=pd.DataFrame(mi_bl,columns=[\"from\",\"to\"])\n",
    "    h_bl=pd.concat([h_bl,bl])\n",
    "   \n",
    "    return h_bl\n",
    "def cross_validation(ed,DB):\n",
    "    \n",
    "    #cid客户端号，寻找相应的训练数据\n",
    "    auc_score = []\n",
    "    recall = []\n",
    "    acc = []\n",
    "    f1 = []\n",
    "    for i in range(len(DB)): \n",
    "        \n",
    "        model_i= BayesianNetwork(ed.edges)\n",
    "        #创建边\n",
    "        data = DB[i]\n",
    "        \n",
    "        f_1 = model_i.nodes\n",
    "        \n",
    "        f_2 = data.columns\n",
    "        #所有mode有的节点\n",
    "        drop_name = []\n",
    "        for j in f_2:\n",
    "            if not j in f_1:\n",
    "                drop_name.append(j)        \n",
    "        data = data.drop(columns = drop_name,axis = 1)\n",
    "        \n",
    "        \n",
    "        #创建离散变量说明\n",
    "        this_dict = []\n",
    "\n",
    "        for key,value in zip(state_names.keys(),state_names.values()):\n",
    "            \n",
    "            if key in f_1:\n",
    "\n",
    "                this_dict.append((key,value))\n",
    "        this_dict = dict(this_dict)\n",
    "         #训练模型\n",
    "        \n",
    "        \n",
    "        train_data,test_data = train_test_split(data,test_size=0.3,random_state=2)\n",
    "        #得到y-true\n",
    "        y_true = test_data.iloc[:,0]\n",
    "        #测试集\n",
    "        model_i.fit(train_data,estimator=BE,complete_samples_only=True,state_names=this_dict)\n",
    "        \n",
    "        #丢弃label获得\n",
    "        \n",
    "        test_data.drop(columns=\"label\",axis =1,inplace=True)\n",
    "      \n",
    "        #将预测的值从df转换为list形式\n",
    "        \n",
    "        #在predict的时候不知道什么会影响结果\n",
    "        y_pred = list(model_i.predict(test_data).iloc[:,0])\n",
    "       \n",
    "       #模型预测\n",
    "        acc.append(accuracy_score(y_true,y_pred))\n",
    "        recall.append(recall_score(y_true, y_pred))\n",
    "        auc_score.append(roc_auc_score(y_true,y_pred))\n",
    "        f1.append(f1_score(y_true,y_pred))\n",
    "        \n",
    "    return acc,recall,auc_score,f1\n",
    "def dag_score(dag,DB):\n",
    "    score =  []\n",
    "    \n",
    "    for data in DB:\n",
    "        #判断在每个网路之间分数\n",
    "        \n",
    "#                 k2 = K2Score(data)\n",
    "#         score.append(k2.score(dag))\n",
    "        bic = BicScore(data)\n",
    "        score.append(bic.score(dag))\n",
    "    score = np.array(score)\n",
    "    return score\n",
    "def net_score(ed,data):\n",
    "    \n",
    "\n",
    "        \n",
    "    model_i= BayesianNetwork(ed.edges)\n",
    "\n",
    "        \n",
    "    f_1 = model_i.nodes\n",
    "        \n",
    "    f_2 = data.columns\n",
    "    #所有mode有的节点\n",
    "    drop_name = []\n",
    "    for j in f_2:\n",
    "        if not j in f_1:\n",
    "            drop_name.append(j)  \n",
    "   \n",
    "    data = data.drop(columns = drop_name,axis = 1)\n",
    "        \n",
    "    #创建离散变量说明\n",
    "    this_dict = []\n",
    "\n",
    "    for key,value in zip(state_names.keys(),state_names.values()):\n",
    "            \n",
    "        if key in f_1:\n",
    "\n",
    "            this_dict.append((key,value))\n",
    "    this_dict = dict(this_dict)\n",
    "        #训练模型\n",
    "        \n",
    "    train_data,test_data = train_test_split(data,test_size=0.3,random_state=2)\n",
    "    #得到y-true\n",
    "    \n",
    "    y_true = test_data.iloc[:,0]\n",
    "    \n",
    "    model_i.fit(train_data,estimator=BE,complete_samples_only=True,state_names=this_dict)\n",
    "        \n",
    "    #丢弃label获得,test_data\n",
    "    test_data.drop(columns=\"label\",axis =1,inplace=True)\n",
    "      \n",
    "    #将预测的值从df转换为list形式\n",
    "        \n",
    "    #在predict的时候不知道什么会影响结果\n",
    "    y_pred = list(model_i.predict(test_data).iloc[:,0])\n",
    "       \n",
    "    #模型预测\n",
    "    acc = accuracy_score(y_true,y_pred)\n",
    "    recall = recall_score(y_true, y_pred)\n",
    "    auc = roc_auc_score(y_true,y_pred)\n",
    "    f1 = f1_score(y_true,y_pred)\n",
    "    \n",
    "        \n",
    "    return acc,recall,auc,f1"
   ]
  },
  {
   "cell_type": "code",
   "execution_count": 7,
   "id": "845e2054",
   "metadata": {
    "scrolled": false
   },
   "outputs": [
    {
     "data": {
      "text/plain": [
       "<rpy2.robjects.functions.SignatureTranslatedFunction object at 0x0000024BAD822A80> [RTYPES.CLOSXP]\n",
       "R classes: ('function',)"
      ]
     },
     "execution_count": 7,
     "metadata": {},
     "output_type": "execute_result"
    }
   ],
   "source": [
    "#R函数定义部分\n",
    "ro.r(\"\"\"\n",
    "       r_sturct_study<-function(self_r_data,bl,wl){\n",
    "            library(bnlearn)\n",
    "            datacols = names(self_r_data)\n",
    "\n",
    "        \n",
    "            \n",
    "            for (i in 1:ncol(self_r_data)){\n",
    "                if(i>45)\n",
    "                {\n",
    "                    self_r_data[,datacols[i]] <- factor(self_r_data[,datacols[i]],levels = c(0,1))\n",
    "                }\n",
    "                else if(datacols[i]==\"race\")\n",
    "                {\n",
    "                    self_r_data[,\"race\"] <- factor(self_r_data[,\"race\"],levels = c(1,2,3,4,5))\n",
    "                }\n",
    "                else{\n",
    "                    self_r_data[,datacols[i]] <- factor(self_r_data[,datacols[i]])\n",
    "                 }\n",
    "            }\n",
    "      \n",
    "            dag = hc(self_r_data,score=scr,blacklist =bl,whitelist=wl)\n",
    "            ##dag = tabu(self_r_data,score=scr,blacklist =bl,whitelist=wl)\n",
    "          \n",
    "            arcs = arc.strength(dag,self_r_data)\n",
    "            return(arcs)\n",
    "        }\n",
    "\"\"\")\n",
    "\n",
    "#R函数定义部分\n",
    "ro.r(\"\"\"\n",
    "       r_sturct_study_fit<-function(self_r_data,bl,wl){\n",
    "            library(bnlearn)\n",
    "            datacols = names(self_r_data)\n",
    "\n",
    "        \n",
    "            \n",
    "            for (i in 1:ncol(self_r_data)){\n",
    "                if(i>45)\n",
    "                {\n",
    "                    self_r_data[,datacols[i]] <- factor(self_r_data[,datacols[i]],levels = c(0,1))\n",
    "                }\n",
    "                else if(datacols[i]==\"race\")\n",
    "                {\n",
    "                    self_r_data[,\"race\"] <- factor(self_r_data[,\"race\"],levels = c(1,2,3,4,5))\n",
    "                }\n",
    "                else{\n",
    "                    self_r_data[,datacols[i]] <- factor(self_r_data[,datacols[i]])\n",
    "                 }\n",
    "            }\n",
    "               \n",
    "            dag = hc(self_r_data,score=scr,blacklist=bl)\n",
    "            ##dag = tabu(self_r_data,score=scr,blacklist =bl)\n",
    "\n",
    "            arcs = arc.strength(dag,self_r_data)\n",
    "            return(arcs)\n",
    "        }\n",
    "\"\"\")"
   ]
  },
  {
   "cell_type": "code",
   "execution_count": 8,
   "id": "174fa9df",
   "metadata": {},
   "outputs": [],
   "source": [
    "class client():\n",
    "    \"\"\"\n",
    "    只改动模型训练部分\n",
    "    black和whitelist 的名单修改\n",
    "    \n",
    "    \"\"\"\n",
    "    def __init__(self,data,cid):\n",
    "        #black 用R语言的存储方式存储·\n",
    "        self.data = data\n",
    "        self.cid = cid\n",
    "        #初始化创建一个空的图\n",
    "        self.model = DAG()\n",
    "        feature = data.columns\n",
    "        self.edges_strength = pd.DataFrame(np.zeros((len(feature),len(feature))),index = feature,columns=feature).astype(np.int16)\n",
    "    def bl_update(self,bl):\n",
    "        #在实例化客户端之后，根据自己数据的互信息值创建黑名单\n",
    "        self.black_list = caculate_hos_bl(self.data,bl)\n",
    "    def get_model(self):\n",
    "        #获得本地客户端网络结构\n",
    "        return self.model\n",
    "    def fit(self):\n",
    "        #=\n",
    "        data,t_data = train_test_split(self.data,test_size=0.3,random_state=2)\n",
    "        self_r_data = ro.pandas2ri.py2rpy(data)\n",
    "        \n",
    "        self_r_black_list = ro.conversion.py2rpy(self.black_list)\n",
    "        \n",
    "        \n",
    "        arc_strength = ro.r['r_sturct_study_fit'](self_r_data,self_r_black_list)\n",
    "        arc_strength=ro.pandas2ri.rpy2py_dataframe(arc_strength)\n",
    "        self.arc_strength=  arc_strength\n",
    "        #创建新的模型，并添加结果\n",
    "        self.model = DAG()\n",
    "        print(\"客户端\",self.cid+1,\"开始fit\")\n",
    "        for i in range(len(arc_strength[\"from\"])):\n",
    "            \n",
    "            #汇集频数\n",
    "            self.model.add_edge(arc_strength[\"from\"][i],arc_strength[\"to\"][i])\n",
    "          \n",
    "            \n",
    "#            #汇集强度转换为矩阵\n",
    "            self.edges_strength.loc[[arc_strength[\"from\"][i]],[arc_strength[\"to\"][i]]]=arc_strength[\"strength\"][i]\n",
    "        #计算网路得分\n",
    "        bic = BicScore(self.data)\n",
    "        self.score=bic.score(self.model)\n",
    "        return 1\n",
    "    def set_parment(self):\n",
    "        #从服务器中心get到网络结构\n",
    "        #初始化model\n",
    "        model.edges\n",
    "    \n",
    "        return \n",
    "    def update_model(self,wl):\n",
    "        #代改动部分，每次也是创建一个新的贝叶斯网络实例进行白名单结构学习，并返回边模型，最好还是保持pgmpy的形式\n",
    "        data,t_data = train_test_split(self.data,test_size=0.3,random_state=2)\n",
    "        \n",
    "        self.model = DAG()\n",
    "        wl_r =ro.conversion.py2rpy(wl)\n",
    "        #客户端将自身的黑名单转换为R数据模式传进函数里\n",
    "        \n",
    "        self_r_black_list = ro.conversion.py2rpy(self.black_list)\n",
    "        self_r_data = ro.pandas2ri.py2rpy(data)\n",
    "        #调用R函数，并接收返回值\n",
    "        \n",
    "        arc_strength_r = ro.r['r_sturct_study'](self_r_data,self_r_black_list,wl_r)\n",
    "        \n",
    "        self.arc_strength=ro.pandas2ri.rpy2py_dataframe(arc_strength_r)\n",
    "        print(\"客户端\",self.cid,\"开始update\")\n",
    "\n",
    "        for i in range(len(self.arc_strength[\"from\"])):\n",
    "            #转换自己的网络\n",
    "            self.model.add_edge(self.arc_strength[\"from\"][i],self.arc_strength[\"to\"][i])\n",
    "            #生成新的强度列表\n",
    "            self.edges_strength.loc[[self.arc_strength[\"from\"][i]],[self.arc_strength[\"to\"][i]]]=self.arc_strength[\"strength\"][i]\n",
    "        \n",
    "        bic = BicScore(self.data)\n",
    "        self.score=bic.score(self.model)\n",
    "        \n",
    "class sever():\n",
    "    def __init__(self):\n",
    "        pass\n",
    "        \n",
    "    def Fd_caculate(self,edges_strength_matrix,round_num):\n",
    "        #聚合方法\n",
    "        #聚合的方式改为计算强度的阈值，并返回一个有无环图\n",
    "        \n",
    "        #变为list，并且设置为df格式\n",
    "        arc_ls = pd.DataFrame(to_strength_list(edges_strength_matrix.astype(np.float16)),columns=[\"from\",\"to\",\"strength\"])\n",
    "        #from和to的df格式并按大小排列\n",
    "        arc_ls = arc_ls.sort_values(by=\"strength\")\n",
    "        #1.按照10个选择，但是白名单的列表应该不断的成长，而不是固定的数值\n",
    "        #在每次讲融合DAG加入网络之后，先检验是否有这条边，如果有则跳过\n",
    "    \n",
    "        i = 0\n",
    "        index = 0\n",
    "\n",
    "        fuseDAG = DAG()\n",
    "        while i <round_num*6:\n",
    "            arc = (arc_ls.loc[i+index,\"from\"],arc_ls.loc[i+index,\"to\"])\n",
    "            ##防止图的有环结构\n",
    "            if fuseDAG.has_edge(arc[1],arc[0]):\n",
    "                i=i+1\n",
    "                continue\n",
    "            fuseDAG.add_edge(arc[0],arc[1])\n",
    "            \n",
    "         \n",
    "            i+=1\n",
    "        #检查边是否有环，并且破环\n",
    "        print(\"检查环\")\n",
    "        for root in fuseDAG.nodes():\n",
    "            node_list=fuseDAG.get_ancestral_graph(root).nodes()\n",
    "            for nd in node_list:\n",
    "                if fuseDAG.has_edge(root,nd):\n",
    "                    print(root,nd)\n",
    "                    fuseDAG.remove_edge(root,nd)\n",
    "        return  fuseDAG"
   ]
  },
  {
   "cell_type": "code",
   "execution_count": 9,
   "id": "4f850553",
   "metadata": {
    "scrolled": true
   },
   "outputs": [],
   "source": [
    "DB_1 = pd.read_csv(\"c:data/site_16topaucoutlinePmmImpData_dis.csv\").drop(columns=\"Unnamed: 0\",axis = 1)\n",
    "# DB_1 = pd.read_csv(\"D:/实验室/数据/eicu数据处理/tenSiteDTDisc.csv\").drop(columns=[\"Unnamed: 0\",\"creatinine\",\"patientunitstayid\"],axis = 1)\n",
    "\n",
    "DB_1[\"label\"].value_counts()\n",
    "DB_1 = DB_1.astype(np.int16)\n",
    "DB_1.fillna(1)\n",
    "# 数据分割\n",
    "# hos_id = [420,142,122,435,390,227,195,243,403,141]\n",
    "hos_id = [420,142,122,435,390,227,144,140,396,141]##性能最好\n",
    "# hos_id = [420,142,122,435,390,382,144,140,396,141]\n",
    "# hos_id = [420,142,122,384,390,227,144,140,396,141]\n",
    "# hos_id = [420,142,122,435,390,227,144,384,143,403]\n",
    "# hos_id = [420,142,122,435,384,143,403,195,382,243]##性能最后后六个是外部验证\n",
    "client_data = []\n",
    "for hosid in hos_id:\n",
    "    client_data.append(DB_1[DB_1[\"hospitalid\"]==hosid ].iloc[:,:].drop(columns = [\"hospitalid\"],axis = 1))\n",
    "    \n",
    "feature = client_data[0].columns\n",
    "\n",
    "#设置黑名单\n",
    "bl =[]\n",
    "for i in feature:\n",
    "    bl.append([\"label\",i])\n",
    "    bl.append([i,\"sex\"])\n",
    "    bl.append([i,\"race\"])\n",
    "    bl.append([i,\"bmi\"])\n",
    "    bl.append([i,\"age\"])\n",
    "bl = pd.DataFrame(bl,columns=[\"from\",\"to\"])\n",
    "# bl_r = ro.conversion.py2rpy(bl)\n",
    "# globalenv['bl_r'] = bl_r\n",
    "#计算样本量比重\n",
    "D = 19388\n",
    "D_W = []\n",
    "for i in range(10):\n",
    "    D_W.append(len(client_data[i])/D)\n",
    "D_W = np.float16(D_W)\n",
    "\n",
    "#将所有的离散状态记录下来，以字典的方式\n",
    "state_names  ={\n",
    "    \"lable\":[0,1],\n",
    "    \"age\":[1,2,3,4,5,6,7,8],\n",
    "    \"sex\":[1,2],\n",
    "    \"race\":[1,2,3,4,5],\n",
    "    \"bmi\":[1,2,3,4],\n",
    "    \"temperature\":[1,2,3],\n",
    "    \"heartrate\":[1,2,3],\n",
    "    \"respiration\":[1,2,3],\n",
    "    \"SBP\":[1,2,3,4,5],\n",
    "    \"DBP\":[1,2,3,4,5],\n",
    "    \"paSystolic\":[1,2,3],\n",
    "    \"paDiastolic\":[1,2,3],\n",
    "    \"paMean\":[1,2,3],\n",
    "}\n",
    "LAB_list = []\n",
    "for i in range(1,61):\n",
    "    LAB_list.append((\"LAB\"+str(i),[1,2,3]))\n",
    "COM_list = []\n",
    "for i in range(1,12):\n",
    "    COM_list.append((\"COM\"+str(i),[0,1]))\n",
    "PRO_list = []\n",
    "for i in range(1,10):\n",
    "    COM_list.append((\"PRO\"+str(i),[0,1]))\n",
    "MED_list = []\n",
    "for i in range(1,55):\n",
    "    MED_list.append((\"MED\"+str(i),[0,1]))\n",
    "state_names.update(LAB_list)\n",
    "state_names.update(COM_list)\n",
    "state_names.update(PRO_list)\n",
    "state_names.update(MED_list)\n",
    "BN_list = []\n",
    "for i in range(1,11):\n",
    "    BN_list.append(\"BN\"+str(i))"
   ]
  },
  {
   "cell_type": "code",
   "execution_count": 10,
   "id": "587fa54c",
   "metadata": {
    "scrolled": false
   },
   "outputs": [
    {
     "name": "stdout",
     "output_type": "stream",
     "text": [
      "计算每个网络的初始性能\n",
      "客户端 1 开始fit\n"
     ]
    },
    {
     "data": {
      "application/vnd.jupyter.widget-view+json": {
       "model_id": "ffd7da1c07914fa3a4b9b7216fbf8a5a",
       "version_major": 2,
       "version_minor": 0
      },
      "text/plain": [
       "  0%|          | 0/1284 [00:00<?, ?it/s]"
      ]
     },
     "metadata": {},
     "output_type": "display_data"
    },
    {
     "name": "stdout",
     "output_type": "stream",
     "text": [
      "客户端 2 开始fit\n"
     ]
    },
    {
     "data": {
      "application/vnd.jupyter.widget-view+json": {
       "model_id": "f53d994a2ee14a24a9746ddb05efa506",
       "version_major": 2,
       "version_minor": 0
      },
      "text/plain": [
       "  0%|          | 0/489 [00:00<?, ?it/s]"
      ]
     },
     "metadata": {},
     "output_type": "display_data"
    },
    {
     "name": "stdout",
     "output_type": "stream",
     "text": [
      "客户端 3 开始fit\n"
     ]
    },
    {
     "data": {
      "application/vnd.jupyter.widget-view+json": {
       "model_id": "ad61f597489b49a6beeb13cbc27eca30",
       "version_major": 2,
       "version_minor": 0
      },
      "text/plain": [
       "  0%|          | 0/744 [00:00<?, ?it/s]"
      ]
     },
     "metadata": {},
     "output_type": "display_data"
    },
    {
     "name": "stdout",
     "output_type": "stream",
     "text": [
      "客户端 4 开始fit\n"
     ]
    },
    {
     "data": {
      "application/vnd.jupyter.widget-view+json": {
       "model_id": "0d396d1150ec42ee8017449d9ba9a55f",
       "version_major": 2,
       "version_minor": 0
      },
      "text/plain": [
       "  0%|          | 0/391 [00:00<?, ?it/s]"
      ]
     },
     "metadata": {},
     "output_type": "display_data"
    },
    {
     "name": "stdout",
     "output_type": "stream",
     "text": [
      "客户端 5 开始fit\n"
     ]
    },
    {
     "data": {
      "application/vnd.jupyter.widget-view+json": {
       "model_id": "f117d3b9993d4447a2ed18389fbe603e",
       "version_major": 2,
       "version_minor": 0
      },
      "text/plain": [
       "  0%|          | 0/345 [00:00<?, ?it/s]"
      ]
     },
     "metadata": {},
     "output_type": "display_data"
    },
    {
     "name": "stdout",
     "output_type": "stream",
     "text": [
      "客户端 6 开始fit\n"
     ]
    },
    {
     "data": {
      "application/vnd.jupyter.widget-view+json": {
       "model_id": "d63e742062b74c949320917e25ab49fc",
       "version_major": 2,
       "version_minor": 0
      },
      "text/plain": [
       "  0%|          | 0/413 [00:00<?, ?it/s]"
      ]
     },
     "metadata": {},
     "output_type": "display_data"
    },
    {
     "name": "stdout",
     "output_type": "stream",
     "text": [
      "客户端 7 开始fit\n"
     ]
    },
    {
     "data": {
      "application/vnd.jupyter.widget-view+json": {
       "model_id": "61aba9df4d6e4346a9a9de0c2c7fa70d",
       "version_major": 2,
       "version_minor": 0
      },
      "text/plain": [
       "  0%|          | 0/231 [00:00<?, ?it/s]"
      ]
     },
     "metadata": {},
     "output_type": "display_data"
    },
    {
     "name": "stdout",
     "output_type": "stream",
     "text": [
      "客户端 8 开始fit\n"
     ]
    },
    {
     "data": {
      "application/vnd.jupyter.widget-view+json": {
       "model_id": "2a1cf7db1c5442139f9bed90184b95a0",
       "version_major": 2,
       "version_minor": 0
      },
      "text/plain": [
       "  0%|          | 0/157 [00:00<?, ?it/s]"
      ]
     },
     "metadata": {},
     "output_type": "display_data"
    },
    {
     "name": "stdout",
     "output_type": "stream",
     "text": [
      "客户端 9 开始fit\n"
     ]
    },
    {
     "data": {
      "application/vnd.jupyter.widget-view+json": {
       "model_id": "6a7883e2d6374b7f8ce328d7effdd401",
       "version_major": 2,
       "version_minor": 0
      },
      "text/plain": [
       "  0%|          | 0/163 [00:00<?, ?it/s]"
      ]
     },
     "metadata": {},
     "output_type": "display_data"
    },
    {
     "name": "stdout",
     "output_type": "stream",
     "text": [
      "客户端 10 开始fit\n"
     ]
    },
    {
     "data": {
      "application/vnd.jupyter.widget-view+json": {
       "model_id": "686f72b42d95472b894686ac9633cb37",
       "version_major": 2,
       "version_minor": 0
      },
      "text/plain": [
       "  0%|          | 0/428 [00:00<?, ?it/s]"
      ]
     },
     "metadata": {},
     "output_type": "display_data"
    },
    {
     "name": "stdout",
     "output_type": "stream",
     "text": [
      "开始训练\n",
      "转换\n",
      "输出未加权只是相加的强度\n",
      "检查环\n",
      "转换完毕\n",
      "age -> label ;\n",
      "LAB19 -> label ;\n",
      "COM1 -> label ;\n",
      "COM3 -> label ;\n",
      "COM4 -> label ;\n",
      "COM7 -> label ;\n",
      "第 2 次迭代\n",
      "传递客户端信息\n",
      "客户端 0 开始update\n",
      "客户端 1 开始update\n",
      "客户端 2 开始update\n",
      "客户端 3 开始update\n",
      "客户端 4 开始update\n",
      "客户端 5 开始update\n",
      "客户端 6 开始update\n",
      "客户端 7 开始update\n",
      "客户端 8 开始update\n",
      "客户端 9 开始update\n",
      "转换\n",
      "输出未加权只是相加的强度\n",
      "检查环\n",
      "转换完毕\n",
      "age -> label ;\n",
      "age -> heartrate ;\n",
      "age -> LAB3 ;\n",
      "LAB19 -> label ;\n",
      "COM1 -> label ;\n",
      "COM3 -> label ;\n",
      "COM4 -> label ;\n",
      "COM7 -> label ;\n",
      "COM8 -> label ;\n",
      "COM10 -> label ;\n",
      "COM11 -> label ;\n",
      "heartrate -> respiration ;\n",
      "第 3 次迭代\n",
      "传递客户端信息\n",
      "客户端 0 开始update\n",
      "客户端 1 开始update\n",
      "客户端 2 开始update\n",
      "客户端 3 开始update\n",
      "客户端 4 开始update\n",
      "客户端 5 开始update\n",
      "客户端 6 开始update\n",
      "客户端 7 开始update\n",
      "客户端 8 开始update\n",
      "客户端 9 开始update\n",
      "转换\n",
      "输出未加权只是相加的强度\n",
      "检查环\n",
      "转换完毕\n",
      "age -> label ;\n",
      "age -> heartrate ;\n",
      "age -> LAB3 ;\n",
      "LAB19 -> label ;\n",
      "COM1 -> label ;\n",
      "COM3 -> label ;\n",
      "COM4 -> label ;\n",
      "COM7 -> label ;\n",
      "COM8 -> label ;\n",
      "COM10 -> label ;\n",
      "COM11 -> label ;\n",
      "COM11 -> LAB3 ;\n",
      "heartrate -> respiration ;\n",
      "LAB24 -> LAB3 ;\n",
      "LAB38 -> LAB3 ;\n",
      "LAB14 -> LAB4 ;\n",
      "LAB15 -> LAB4 ;\n",
      "LAB18 -> LAB4 ;\n",
      "第 4 次迭代\n",
      "传递客户端信息\n",
      "客户端 0 开始update\n",
      "客户端 1 开始update\n",
      "客户端 2 开始update\n",
      "客户端 3 开始update\n",
      "客户端 4 开始update\n",
      "客户端 5 开始update\n",
      "客户端 6 开始update\n",
      "客户端 7 开始update\n",
      "客户端 8 开始update\n",
      "客户端 9 开始update\n",
      "转换\n",
      "输出未加权只是相加的强度\n",
      "检查环\n",
      "转换完毕\n",
      "age -> label ;\n",
      "age -> heartrate ;\n",
      "age -> LAB3 ;\n",
      "LAB19 -> label ;\n",
      "COM1 -> label ;\n",
      "COM3 -> label ;\n",
      "COM4 -> label ;\n",
      "COM7 -> label ;\n",
      "COM8 -> label ;\n",
      "COM10 -> label ;\n",
      "COM11 -> label ;\n",
      "COM11 -> LAB3 ;\n",
      "heartrate -> respiration ;\n",
      "LAB24 -> LAB3 ;\n",
      "LAB24 -> LAB4 ;\n",
      "LAB38 -> LAB3 ;\n",
      "LAB39 -> LAB3 ;\n",
      "LAB42 -> LAB3 ;\n",
      "LAB14 -> LAB4 ;\n",
      "LAB15 -> LAB4 ;\n",
      "LAB18 -> LAB4 ;\n",
      "LAB20 -> LAB4 ;\n",
      "LAB25 -> LAB4 ;\n",
      "LAB27 -> LAB5 ;\n",
      "第 5 次迭代\n",
      "传递客户端信息\n",
      "客户端 0 开始update\n",
      "客户端 1 开始update\n",
      "客户端 2 开始update\n",
      "客户端 3 开始update\n",
      "客户端 4 开始update\n",
      "客户端 5 开始update\n",
      "客户端 6 开始update\n",
      "客户端 7 开始update\n",
      "客户端 8 开始update\n",
      "客户端 9 开始update\n",
      "转换\n",
      "输出未加权只是相加的强度\n",
      "检查环\n",
      "转换完毕\n",
      "age -> label ;\n",
      "age -> heartrate ;\n",
      "age -> LAB3 ;\n",
      "age -> LAB6 ;\n",
      "LAB19 -> label ;\n",
      "COM1 -> label ;\n",
      "COM3 -> label ;\n",
      "COM4 -> label ;\n",
      "COM7 -> label ;\n",
      "COM8 -> label ;\n",
      "COM10 -> label ;\n",
      "COM11 -> label ;\n",
      "COM11 -> LAB3 ;\n",
      "heartrate -> respiration ;\n",
      "LAB24 -> LAB3 ;\n",
      "LAB24 -> LAB4 ;\n",
      "LAB38 -> LAB3 ;\n",
      "LAB39 -> LAB3 ;\n",
      "LAB42 -> LAB3 ;\n",
      "LAB14 -> LAB4 ;\n",
      "LAB15 -> LAB4 ;\n",
      "LAB18 -> LAB4 ;\n",
      "LAB20 -> LAB4 ;\n",
      "LAB25 -> LAB4 ;\n",
      "LAB34 -> LAB4 ;\n",
      "LAB27 -> LAB5 ;\n",
      "LAB56 -> LAB5 ;\n",
      "sex -> LAB6 ;\n",
      "LAB43 -> LAB6 ;\n",
      "LAB44 -> LAB6 ;\n",
      "第 6 次迭代\n",
      "传递客户端信息\n",
      "客户端 0 开始update\n",
      "客户端 1 开始update\n",
      "客户端 2 开始update\n",
      "客户端 3 开始update\n",
      "客户端 4 开始update\n",
      "客户端 5 开始update\n",
      "客户端 6 开始update\n",
      "客户端 7 开始update\n",
      "客户端 8 开始update\n",
      "客户端 9 开始update\n",
      "转换\n",
      "输出未加权只是相加的强度\n",
      "检查环\n",
      "转换完毕\n",
      "age -> label ;\n",
      "age -> heartrate ;\n",
      "age -> LAB3 ;\n",
      "age -> LAB6 ;\n",
      "LAB19 -> label ;\n",
      "COM1 -> label ;\n",
      "COM3 -> label ;\n",
      "COM4 -> label ;\n",
      "COM7 -> label ;\n",
      "COM8 -> label ;\n",
      "COM10 -> label ;\n",
      "COM11 -> label ;\n",
      "COM11 -> LAB3 ;\n",
      "heartrate -> respiration ;\n",
      "LAB24 -> LAB3 ;\n",
      "LAB24 -> LAB4 ;\n",
      "LAB38 -> LAB3 ;\n",
      "LAB39 -> LAB3 ;\n",
      "LAB42 -> LAB3 ;\n",
      "LAB14 -> LAB4 ;\n",
      "LAB15 -> LAB4 ;\n",
      "LAB18 -> LAB4 ;\n",
      "LAB20 -> LAB4 ;\n",
      "LAB25 -> LAB4 ;\n",
      "LAB34 -> LAB4 ;\n",
      "LAB27 -> LAB5 ;\n",
      "LAB56 -> LAB5 ;\n",
      "sex -> LAB6 ;\n",
      "LAB10 -> LAB6 ;\n",
      "LAB12 -> LAB6 ;\n",
      "LAB43 -> LAB6 ;\n",
      "LAB44 -> LAB6 ;\n",
      "LAB46 -> LAB6 ;\n",
      "LAB48 -> LAB6 ;\n",
      "LAB59 -> LAB6 ;\n",
      "LAB2 -> LAB10 ;\n",
      "第 7 次迭代\n",
      "传递客户端信息\n",
      "客户端 0 开始update\n",
      "客户端 1 开始update\n",
      "客户端 2 开始update\n",
      "客户端 3 开始update\n",
      "客户端 4 开始update\n",
      "客户端 5 开始update\n",
      "客户端 6 开始update\n",
      "客户端 7 开始update\n",
      "客户端 8 开始update\n",
      "客户端 9 开始update\n",
      "转换\n",
      "输出未加权只是相加的强度\n",
      "检查环\n",
      "转换完毕\n",
      "age -> label ;\n",
      "age -> heartrate ;\n",
      "age -> LAB3 ;\n",
      "age -> LAB6 ;\n",
      "LAB19 -> label ;\n",
      "COM1 -> label ;\n",
      "COM3 -> label ;\n",
      "COM4 -> label ;\n",
      "COM7 -> label ;\n",
      "COM8 -> label ;\n",
      "COM10 -> label ;\n",
      "COM11 -> label ;\n",
      "COM11 -> LAB3 ;\n",
      "heartrate -> respiration ;\n",
      "LAB24 -> LAB3 ;\n",
      "LAB24 -> LAB4 ;\n",
      "LAB38 -> LAB3 ;\n",
      "LAB39 -> LAB3 ;\n",
      "LAB39 -> LAB10 ;\n",
      "LAB42 -> LAB3 ;\n",
      "LAB42 -> LAB10 ;\n",
      "LAB14 -> LAB4 ;\n",
      "LAB15 -> LAB4 ;\n",
      "LAB18 -> LAB4 ;\n",
      "LAB18 -> LAB10 ;\n",
      "LAB20 -> LAB4 ;\n",
      "LAB25 -> LAB4 ;\n",
      "LAB34 -> LAB4 ;\n",
      "LAB27 -> LAB5 ;\n",
      "LAB56 -> LAB5 ;\n",
      "sex -> LAB6 ;\n",
      "LAB10 -> LAB6 ;\n",
      "LAB12 -> LAB6 ;\n",
      "LAB12 -> LAB10 ;\n",
      "LAB43 -> LAB6 ;\n",
      "LAB43 -> LAB10 ;\n",
      "LAB44 -> LAB6 ;\n",
      "LAB46 -> LAB6 ;\n",
      "LAB48 -> LAB6 ;\n",
      "LAB59 -> LAB6 ;\n",
      "LAB2 -> LAB10 ;\n",
      "第 8 次迭代\n",
      "传递客户端信息\n",
      "客户端 0 开始update\n",
      "客户端 1 开始update\n",
      "客户端 2 开始update\n",
      "客户端 3 开始update\n",
      "客户端 4 开始update\n",
      "客户端 5 开始update\n",
      "客户端 6 开始update\n",
      "客户端 7 开始update\n",
      "客户端 8 开始update\n",
      "客户端 9 开始update\n",
      "转换\n",
      "输出未加权只是相加的强度\n",
      "检查环\n",
      "转换完毕\n",
      "age -> label ;\n",
      "age -> heartrate ;\n",
      "age -> LAB3 ;\n",
      "age -> LAB6 ;\n",
      "LAB19 -> label ;\n",
      "COM1 -> label ;\n",
      "COM3 -> label ;\n",
      "COM4 -> label ;\n",
      "COM7 -> label ;\n",
      "COM8 -> label ;\n",
      "COM10 -> label ;\n",
      "COM11 -> label ;\n",
      "COM11 -> LAB3 ;\n",
      "heartrate -> respiration ;\n",
      "LAB24 -> LAB3 ;\n",
      "LAB24 -> LAB4 ;\n",
      "LAB38 -> LAB3 ;\n",
      "LAB39 -> LAB3 ;\n",
      "LAB39 -> LAB10 ;\n",
      "LAB42 -> LAB3 ;\n",
      "LAB42 -> LAB10 ;\n",
      "LAB14 -> LAB4 ;\n",
      "LAB15 -> LAB4 ;\n",
      "LAB18 -> LAB4 ;\n",
      "LAB18 -> LAB10 ;\n",
      "LAB20 -> LAB4 ;\n",
      "LAB25 -> LAB4 ;\n",
      "LAB34 -> LAB4 ;\n",
      "LAB27 -> LAB5 ;\n",
      "LAB56 -> LAB5 ;\n",
      "sex -> LAB6 ;\n",
      "LAB10 -> LAB6 ;\n",
      "LAB12 -> LAB6 ;\n",
      "LAB12 -> LAB10 ;\n",
      "LAB43 -> LAB6 ;\n",
      "LAB43 -> LAB10 ;\n",
      "LAB44 -> LAB6 ;\n",
      "LAB44 -> LAB10 ;\n",
      "LAB46 -> LAB6 ;\n",
      "LAB48 -> LAB6 ;\n",
      "LAB59 -> LAB6 ;\n",
      "LAB59 -> LAB10 ;\n",
      "LAB2 -> LAB10 ;\n",
      "LAB54 -> LAB10 ;\n",
      "PRO3 -> LAB10 ;\n",
      "LAB7 -> LAB11 ;\n",
      "第 9 次迭代\n",
      "传递客户端信息\n",
      "客户端 0 开始update\n",
      "客户端 1 开始update\n",
      "客户端 2 开始update\n",
      "客户端 3 开始update\n",
      "客户端 4 开始update\n",
      "客户端 5 开始update\n",
      "客户端 6 开始update\n",
      "客户端 7 开始update\n",
      "客户端 8 开始update\n",
      "客户端 9 开始update\n",
      "转换\n",
      "输出未加权只是相加的强度\n",
      "检查环\n",
      "转换完毕\n",
      "age -> label ;\n",
      "age -> heartrate ;\n",
      "age -> LAB3 ;\n",
      "age -> LAB6 ;\n",
      "LAB19 -> label ;\n",
      "COM1 -> label ;\n",
      "COM3 -> label ;\n",
      "COM4 -> label ;\n",
      "COM7 -> label ;\n",
      "COM8 -> label ;\n",
      "COM10 -> label ;\n",
      "COM11 -> label ;\n",
      "COM11 -> LAB3 ;\n",
      "heartrate -> respiration ;\n",
      "LAB24 -> LAB3 ;\n",
      "LAB24 -> LAB4 ;\n",
      "LAB38 -> LAB3 ;\n",
      "LAB39 -> LAB3 ;\n",
      "LAB39 -> LAB10 ;\n",
      "LAB42 -> LAB3 ;\n",
      "LAB42 -> LAB10 ;\n",
      "LAB14 -> LAB4 ;\n",
      "LAB15 -> LAB4 ;\n",
      "LAB15 -> LAB12 ;\n",
      "LAB18 -> LAB4 ;\n",
      "LAB18 -> LAB10 ;\n",
      "LAB20 -> LAB4 ;\n",
      "LAB25 -> LAB4 ;\n",
      "LAB34 -> LAB4 ;\n",
      "LAB27 -> LAB5 ;\n",
      "LAB56 -> LAB5 ;\n",
      "LAB56 -> LAB12 ;\n",
      "sex -> LAB6 ;\n",
      "LAB10 -> LAB6 ;\n",
      "LAB12 -> LAB6 ;\n",
      "LAB12 -> LAB10 ;\n",
      "LAB43 -> LAB6 ;\n",
      "LAB43 -> LAB10 ;\n",
      "LAB43 -> LAB12 ;\n",
      "LAB44 -> LAB6 ;\n",
      "LAB44 -> LAB10 ;\n",
      "LAB44 -> LAB12 ;\n",
      "LAB46 -> LAB6 ;\n",
      "LAB48 -> LAB6 ;\n",
      "LAB59 -> LAB6 ;\n",
      "LAB59 -> LAB10 ;\n",
      "LAB2 -> LAB10 ;\n",
      "LAB54 -> LAB10 ;\n",
      "LAB54 -> LAB12 ;\n",
      "PRO3 -> LAB10 ;\n",
      "LAB7 -> LAB11 ;\n",
      "第 10 次迭代\n",
      "传递客户端信息\n",
      "客户端 0 开始update\n",
      "客户端 1 开始update\n",
      "客户端 2 开始update\n",
      "客户端 3 开始update\n",
      "客户端 4 开始update\n",
      "客户端 5 开始update\n",
      "客户端 6 开始update\n",
      "客户端 7 开始update\n",
      "客户端 8 开始update\n",
      "客户端 9 开始update\n"
     ]
    },
    {
     "data": {
      "application/vnd.jupyter.widget-view+json": {
       "model_id": "3c27164e99e04032bb5844e17e9a7762",
       "version_major": 2,
       "version_minor": 0
      },
      "text/plain": [
       "  0%|          | 0/1284 [00:00<?, ?it/s]"
      ]
     },
     "metadata": {},
     "output_type": "display_data"
    },
    {
     "data": {
      "application/vnd.jupyter.widget-view+json": {
       "model_id": "5589f715028e4ea0b2b7c923379da0c9",
       "version_major": 2,
       "version_minor": 0
      },
      "text/plain": [
       "  0%|          | 0/489 [00:00<?, ?it/s]"
      ]
     },
     "metadata": {},
     "output_type": "display_data"
    },
    {
     "data": {
      "application/vnd.jupyter.widget-view+json": {
       "model_id": "eef73f41b6544405beea14fc5df9ec0f",
       "version_major": 2,
       "version_minor": 0
      },
      "text/plain": [
       "  0%|          | 0/744 [00:00<?, ?it/s]"
      ]
     },
     "metadata": {},
     "output_type": "display_data"
    },
    {
     "data": {
      "application/vnd.jupyter.widget-view+json": {
       "model_id": "93056c37e946435790790ac27ee57732",
       "version_major": 2,
       "version_minor": 0
      },
      "text/plain": [
       "  0%|          | 0/391 [00:00<?, ?it/s]"
      ]
     },
     "metadata": {},
     "output_type": "display_data"
    },
    {
     "data": {
      "application/vnd.jupyter.widget-view+json": {
       "model_id": "721a36cc04b5464cbd873d836fb4fe1a",
       "version_major": 2,
       "version_minor": 0
      },
      "text/plain": [
       "  0%|          | 0/345 [00:00<?, ?it/s]"
      ]
     },
     "metadata": {},
     "output_type": "display_data"
    },
    {
     "data": {
      "application/vnd.jupyter.widget-view+json": {
       "model_id": "687862a21825425da1177963788c1b87",
       "version_major": 2,
       "version_minor": 0
      },
      "text/plain": [
       "  0%|          | 0/413 [00:00<?, ?it/s]"
      ]
     },
     "metadata": {},
     "output_type": "display_data"
    },
    {
     "data": {
      "application/vnd.jupyter.widget-view+json": {
       "model_id": "426b82d2bad14d3591de9838f7e486e5",
       "version_major": 2,
       "version_minor": 0
      },
      "text/plain": [
       "  0%|          | 0/231 [00:00<?, ?it/s]"
      ]
     },
     "metadata": {},
     "output_type": "display_data"
    },
    {
     "data": {
      "application/vnd.jupyter.widget-view+json": {
       "model_id": "524f69961e9d456f969bd65ff78598e0",
       "version_major": 2,
       "version_minor": 0
      },
      "text/plain": [
       "  0%|          | 0/157 [00:00<?, ?it/s]"
      ]
     },
     "metadata": {},
     "output_type": "display_data"
    },
    {
     "data": {
      "application/vnd.jupyter.widget-view+json": {
       "model_id": "0d231df0ffe04188a5503c52a3f26af7",
       "version_major": 2,
       "version_minor": 0
      },
      "text/plain": [
       "  0%|          | 0/163 [00:00<?, ?it/s]"
      ]
     },
     "metadata": {},
     "output_type": "display_data"
    },
    {
     "data": {
      "application/vnd.jupyter.widget-view+json": {
       "model_id": "926dd31c55034829a4cb26a5d53b785e",
       "version_major": 2,
       "version_minor": 0
      },
      "text/plain": [
       "  0%|          | 0/428 [00:00<?, ?it/s]"
      ]
     },
     "metadata": {},
     "output_type": "display_data"
    }
   ],
   "source": [
    "all_score_init=[]\n",
    "all_score_list=[]\n",
    "fuse_dag_list = []\n",
    "dag_struct_init_list = []\n",
    "pandas2ri.activate()\n",
    "scr_l=['fnml','bdla','mbde','bds','bic','loglik','bde', 'mbde', 'k2', 'qnml']\n",
    "for scr in scr_l:\n",
    "    if scr!=\"loglik\":\n",
    "        continue\n",
    "    fuseDAG = DAG()\n",
    "    \n",
    "    globalenv['scr'] = scr\n",
    "\n",
    "  \n",
    "    # 结构训练\n",
    "    train_round = 10\n",
    "    round_num = 1\n",
    "    client_num = 10\n",
    "    clients = []\n",
    "\n",
    "    for i in range(10):\n",
    "    # 创建客户端，并且传入数据和结构学习模型\n",
    "        clients.append(client(client_data[i],i))\n",
    "    # 初始化服务器\n",
    "    sever_1 = sever()\n",
    "    #分别创建一个0/1矩阵和强度矩阵\n",
    "    edges_strength_matrix_list =[]\n",
    "    #记录边的频数\n",
    "    global_edges_matrix = pd.DataFrame(np.zeros((len(feature),len(feature))),index = feature,columns=feature).astype(np.int16)\n",
    "    #记录边的强度\n",
    "    edges_strength_matrix = pd.DataFrame(np.zeros((len(feature),len(feature))),index = feature,columns=feature).astype(np.int16)\n",
    "    \n",
    "    global_edges_strength_matrix = pd.DataFrame(np.zeros((len(feature),len(feature))),index = feature,columns=feature).astype(np.int16)\n",
    "\n",
    "    score_list = []\n",
    "\n",
    "    #先本地客户端建立初始模型,并且计算每个网络的初始性能\n",
    "    print(\"计算每个网络的初始性能\")\n",
    "    for i in range(client_num):\n",
    "        clients[i].bl_update(bl)\n",
    "        clients[i].fit()\n",
    "        dag_struct_init_list.append(clients[i].model)\n",
    "        score_list.append(net_score(clients[i].model,data=clients[i].data))\n",
    "    init_score = pd.DataFrame(score_list,index=BN_list,columns=[\"acc\",'recall','auc','f1']).T\n",
    "    all_score_init.append(init_score)\n",
    "    #正式循环\n",
    "    print(\"开始训练\")\n",
    "    while(round_num<train_round):\n",
    "        #重置矩阵,设置评分\n",
    "        global_edges_matrix.iloc[:,:] = 0\n",
    "        edges_strength_matrix.iloc[:,:] = 0\n",
    "        #get到每个客户端边强度的总和\n",
    "        arc_strength_list = []\n",
    "        arc_weight_list = []\n",
    "        dag_score_list= []\n",
    "        #开始聚集客户端边的信息\n",
    "\n",
    "        for i in range(client_num):\n",
    "            #将客户端最好的模型边信息转换为矩阵形式\n",
    "            global_edges_matrix+=to_matrix(clients[i].model.edges(),feature)\n",
    "            dag_score_list.append(clients[i].score)\n",
    "            #将矩阵转换为列表形式，并strength按列合并数据\n",
    "        #在这里计算边的强度\n",
    "        #进行分数的权重\n",
    "        dag_score_list=np.array(dag_score_list)\n",
    "        min_score = min(dag_score_list)\n",
    "#         #看下输出结构的分数\n",
    "#         for i in range(len(dag_score_list)):\n",
    "#             dag_score_list[i]=dag_score_list[i]-min_score+1\n",
    "#             for j in range(len(clients[i].arc_strength)):\n",
    "#                 print(clients[i].arc_strength.sort_values(by=\"strength\",ascending=False).iloc[j,:])\n",
    "\n",
    "    \n",
    "        #汇集带权重的边的信息\n",
    "        for i in range(client_num):\n",
    "            #边的强度*数据量权重*网络分数/遍的个数 \n",
    "    #         print(get_label_str(clients[i]))\n",
    "\n",
    "            global_edges_strength_matrix+=clients[i].edges_strength\n",
    "\n",
    "            edges_strength_matrix+=clients[i].edges_strength*D_W[i]*dag_score_list[i]/len(clients[i].model.edges())\n",
    "\n",
    "        print(\"转换\")\n",
    "        #将矩阵转换为，一个from->to + str 的表\n",
    "\n",
    "\n",
    "        global_edges_strength_matrix_list = to_strength_list(global_edges_strength_matrix)\n",
    "        print(\"输出未加权只是相加的强度\")\n",
    "\n",
    "\n",
    "        edges_strength_matrix_list.append(edges_strength_matrix)\n",
    "    #     print(\"\")\n",
    "    #     for i in range(len(edges_strength_matrix_list)):\n",
    "    #         print(edges_strength_matrix_list.iloc[i,:])\n",
    "\n",
    "        fuseDAG = sever_1.Fd_caculate(edges_strength_matrix,round_num)\n",
    "        \n",
    "        \n",
    "        print(\"转换完毕\")\n",
    "        #输出一下混合的结果\n",
    "        for j in fuseDAG.edges:\n",
    "            print(j[0],\"->\",j[1],\";\")\n",
    "\n",
    "\n",
    "\n",
    "        #得到fuseDAG之后，观察整个网络评分的变化\n",
    "\n",
    "        print(\"第\",round_num+1,\"次迭代\")\n",
    "        #跟新客户端\n",
    "\n",
    "        #设置白名单\n",
    "        wl = []\n",
    "        for edge in fuseDAG.edges():\n",
    "            wl.append([edge[0],edge[1]])\n",
    "\n",
    "        wl = pd.DataFrame(wl,columns=[\"from\",\"to\"])\n",
    "        print(\"传递客户端信息\")\n",
    "        for i in range(client_num):\n",
    "\n",
    "            clients[i]. update_model(wl)\n",
    "\n",
    "        round_num+=1\n",
    "    fuse_dag_list.append(fuseDAG)\n",
    "    fuse_score_list = cross_validation(fuseDAG,client_data)\n",
    "    fuse_score = pd.DataFrame(fuse_score_list,columns=BN_list,index=[\"acc\",'recall','auc','f1'])\n",
    "    all_score_list.append(fuse_score)\n",
    "\n",
    "    \n",
    "    \n",
    "    \n",
    "\n"
   ]
  },
  {
   "cell_type": "code",
   "execution_count": 1,
   "id": "92b29b1a",
   "metadata": {},
   "outputs": [
    {
     "ename": "NameError",
     "evalue": "name 'all_score_init' is not defined",
     "output_type": "error",
     "traceback": [
      "\u001b[1;31m---------------------------------------------------------------------------\u001b[0m",
      "\u001b[1;31mNameError\u001b[0m                                 Traceback (most recent call last)",
      "Input \u001b[1;32mIn [1]\u001b[0m, in \u001b[0;36m<cell line: 1>\u001b[1;34m()\u001b[0m\n\u001b[1;32m----> 1\u001b[0m \u001b[43mall_score_init\u001b[49m[\u001b[38;5;241m0\u001b[39m]\n",
      "\u001b[1;31mNameError\u001b[0m: name 'all_score_init' is not defined"
     ]
    }
   ],
   "source": [
    "all_score_init[0]"
   ]
  },
  {
   "cell_type": "code",
   "execution_count": 149,
   "id": "556fa0d2",
   "metadata": {
    "scrolled": false
   },
   "outputs": [
    {
     "name": "stdout",
     "output_type": "stream",
     "text": [
      "LAB42 -> COM8 ;\n",
      "LAB39 -> LAB42 ;\n",
      "LAB19 -> label ;\n",
      "LAB11 -> LAB42 ;\n",
      "LAB2 -> LAB39 ;\n",
      "LAB2 -> LAB42 ;\n",
      "COM11 -> label ;\n",
      "LAB3 -> COM11 ;\n",
      "LAB24 -> LAB39 ;\n",
      "age -> LAB19 ;\n",
      "COM7 -> COM3 ;\n",
      "COM7 -> COM10 ;\n",
      "COM3 -> COM10 ;\n",
      "COM8 -> label ;\n",
      "COM8 -> COM7 ;\n",
      "COM8 -> COM10 ;\n",
      "COM10 -> label ;\n",
      "COM10 -> COM11 ;\n"
     ]
    }
   ],
   "source": [
    "print_dag(dag_struct_init_list[2])"
   ]
  },
  {
   "cell_type": "code",
   "execution_count": 150,
   "id": "23b51470",
   "metadata": {
    "scrolled": false
   },
   "outputs": [
    {
     "name": "stdout",
     "output_type": "stream",
     "text": [
      "COM4 -> label ;\n",
      "LAB42 -> COM8 ;\n",
      "LAB7 -> LAB11 ;\n",
      "LAB39 -> LAB42 ;\n",
      "LAB19 -> label ;\n",
      "LAB2 -> LAB39 ;\n",
      "LAB2 -> LAB42 ;\n",
      "LAB11 -> LAB42 ;\n",
      "COM11 -> label ;\n",
      "LAB24 -> LAB39 ;\n",
      "COM1 -> label ;\n",
      "age -> label ;\n",
      "age -> COM1 ;\n",
      "age -> LAB19 ;\n",
      "COM7 -> label ;\n",
      "COM7 -> COM3 ;\n",
      "COM7 -> COM10 ;\n",
      "COM3 -> label ;\n",
      "COM3 -> COM10 ;\n",
      "COM8 -> label ;\n",
      "COM8 -> COM7 ;\n",
      "COM8 -> COM10 ;\n",
      "COM10 -> label ;\n",
      "COM10 -> COM11 ;\n"
     ]
    }
   ],
   "source": [
    "print_dag(clients[2].model)"
   ]
  },
  {
   "cell_type": "code",
   "execution_count": 13,
   "id": "ccb832aa",
   "metadata": {},
   "outputs": [],
   "source": [
    "def caculate_label_par(cl,cid):\n",
    "    dag = DAG()\n",
    "    for i in cl.get_parents(\"label\"):\n",
    "        dag.add_edge(i,\"label\")\n",
    "    out_data=client_data[cid]\n",
    "    for i in dag.edges():\n",
    "        print(i[0],\"->\",i[1],\";\")\n",
    "    return  net_score(dag,out_data),dag\n",
    "def caculate_label_ancsetor(cl,cid):\n",
    "\n",
    "    dag = cl.get_ancestral_graph(\"label\")\n",
    "       \n",
    "    for i in dag.edges():\n",
    "        print(i[0],\"->\",i[1],\";\")\n",
    "    out_data=client_data[cid]\n",
    "\n",
    "    return  net_score(dag,out_data),dag"
   ]
  },
  {
   "cell_type": "code",
   "execution_count": 19,
   "id": "d567634e",
   "metadata": {},
   "outputs": [],
   "source": [
    "c_id = 9"
   ]
  },
  {
   "cell_type": "code",
   "execution_count": 20,
   "id": "ce385a81",
   "metadata": {},
   "outputs": [
    {
     "name": "stdout",
     "output_type": "stream",
     "text": [
      "COM10 -> label ;\n",
      "COM8 -> label ;\n",
      "COM1 -> label ;\n"
     ]
    },
    {
     "data": {
      "application/vnd.jupyter.widget-view+json": {
       "model_id": "2bcbe171d10042a1b0e6fd1b72973cdf",
       "version_major": 2,
       "version_minor": 0
      },
      "text/plain": [
       "  0%|          | 0/8 [00:00<?, ?it/s]"
      ]
     },
     "metadata": {},
     "output_type": "display_data"
    },
    {
     "data": {
      "text/plain": [
       "((0.7733644859813084,\n",
       "  0.7815126050420168,\n",
       "  0.7758695711294226,\n",
       "  0.6572438162544169),\n",
       " <pgmpy.base.DAG.DAG at 0x24bad7c8f40>)"
      ]
     },
     "execution_count": 20,
     "metadata": {},
     "output_type": "execute_result"
    }
   ],
   "source": [
    "caculate_label_par(dag_struct_init_list[c_id ],c_id )"
   ]
  },
  {
   "cell_type": "code",
   "execution_count": 21,
   "id": "e54dfdde",
   "metadata": {
    "scrolled": true
   },
   "outputs": [
    {
     "name": "stdout",
     "output_type": "stream",
     "text": [
      "COM7 -> COM8 ;\n",
      "COM10 -> label ;\n",
      "age -> COM1 ;\n",
      "COM8 -> label ;\n",
      "COM1 -> label ;\n"
     ]
    },
    {
     "data": {
      "application/vnd.jupyter.widget-view+json": {
       "model_id": "02747372c8be47e0b1bd148dbea1dfe1",
       "version_major": 2,
       "version_minor": 0
      },
      "text/plain": [
       "  0%|          | 0/57 [00:00<?, ?it/s]"
      ]
     },
     "metadata": {},
     "output_type": "display_data"
    },
    {
     "data": {
      "text/plain": [
       "((0.7733644859813084,\n",
       "  0.7815126050420168,\n",
       "  0.7758695711294226,\n",
       "  0.6572438162544169),\n",
       " <pgmpy.base.DAG.DAG at 0x24bad7c8fa0>)"
      ]
     },
     "execution_count": 21,
     "metadata": {},
     "output_type": "execute_result"
    }
   ],
   "source": [
    "caculate_label_ancsetor(dag_struct_init_list[c_id ],c_id )"
   ]
  },
  {
   "cell_type": "code",
   "execution_count": 22,
   "id": "58100bcc",
   "metadata": {
    "scrolled": false
   },
   "outputs": [
    {
     "name": "stdout",
     "output_type": "stream",
     "text": [
      "COM7 -> label ;\n",
      "COM7 -> COM8 ;\n",
      "COM10 -> label ;\n",
      "COM10 -> COM11 ;\n",
      "age -> label ;\n",
      "age -> LAB19 ;\n",
      "age -> COM1 ;\n",
      "COM1 -> label ;\n",
      "COM4 -> label ;\n",
      "COM8 -> label ;\n",
      "COM11 -> label ;\n",
      "LAB8 -> LAB19 ;\n",
      "COM3 -> label ;\n",
      "LAB19 -> label ;\n"
     ]
    },
    {
     "data": {
      "application/vnd.jupyter.widget-view+json": {
       "model_id": "dd6f4e4f83624d82aa5ce9591b280d2f",
       "version_major": 2,
       "version_minor": 0
      },
      "text/plain": [
       "  0%|          | 0/233 [00:00<?, ?it/s]"
      ]
     },
     "metadata": {},
     "output_type": "display_data"
    },
    {
     "data": {
      "text/plain": [
       "((0.8200934579439252,\n",
       "  0.680672268907563,\n",
       "  0.7772293383372767,\n",
       "  0.6778242677824268),\n",
       " <pgmpy.base.DAG.DAG at 0x24bb07dad90>)"
      ]
     },
     "execution_count": 22,
     "metadata": {},
     "output_type": "execute_result"
    }
   ],
   "source": [
    "caculate_label_ancsetor(clients[c_id ].model,c_id )"
   ]
  },
  {
   "cell_type": "code",
   "execution_count": 23,
   "id": "3aa768c7",
   "metadata": {
    "scrolled": true
   },
   "outputs": [
    {
     "name": "stdout",
     "output_type": "stream",
     "text": [
      "age -> label ;\n",
      "LAB19 -> label ;\n",
      "COM1 -> label ;\n",
      "COM3 -> label ;\n",
      "COM4 -> label ;\n",
      "COM7 -> label ;\n",
      "COM8 -> label ;\n",
      "COM10 -> label ;\n",
      "COM11 -> label ;\n"
     ]
    },
    {
     "data": {
      "application/vnd.jupyter.widget-view+json": {
       "model_id": "ebc88f67136b438db784924141366fdf",
       "version_major": 2,
       "version_minor": 0
      },
      "text/plain": [
       "  0%|          | 0/179 [00:00<?, ?it/s]"
      ]
     },
     "metadata": {},
     "output_type": "display_data"
    },
    {
     "data": {
      "text/plain": [
       "((0.8200934579439252,\n",
       "  0.680672268907563,\n",
       "  0.7772293383372767,\n",
       "  0.6778242677824268),\n",
       " <pgmpy.base.DAG.DAG at 0x24bb44b4d00>)"
      ]
     },
     "execution_count": 23,
     "metadata": {},
     "output_type": "execute_result"
    }
   ],
   "source": [
    "caculate_label_par(clients[c_id ].model,c_id )"
   ]
  },
  {
   "cell_type": "code",
   "execution_count": 24,
   "id": "722c4baa",
   "metadata": {},
   "outputs": [],
   "source": [
    "hos_id = [420,142,122,435,390,227,144,140,396,141]"
   ]
  },
  {
   "cell_type": "code",
   "execution_count": 25,
   "id": "62c76009",
   "metadata": {
    "scrolled": false
   },
   "outputs": [
    {
     "ename": "NameError",
     "evalue": "name 'out_id' is not defined",
     "output_type": "error",
     "traceback": [
      "\u001b[1;31m---------------------------------------------------------------------------\u001b[0m",
      "\u001b[1;31mNameError\u001b[0m                                 Traceback (most recent call last)",
      "Input \u001b[1;32mIn [25]\u001b[0m, in \u001b[0;36m<cell line: 2>\u001b[1;34m()\u001b[0m\n\u001b[0;32m      1\u001b[0m out_data \u001b[38;5;241m=\u001b[39m[]\n\u001b[1;32m----> 2\u001b[0m \u001b[38;5;28;01mfor\u001b[39;00m i \u001b[38;5;129;01min\u001b[39;00m \u001b[43mout_id\u001b[49m:\n\u001b[0;32m      3\u001b[0m     out_data\u001b[38;5;241m.\u001b[39mappend(DB_1[DB_1[\u001b[38;5;124m\"\u001b[39m\u001b[38;5;124mhospitalid\u001b[39m\u001b[38;5;124m\"\u001b[39m]\u001b[38;5;241m==\u001b[39mi]\u001b[38;5;241m.\u001b[39mdrop(columns\u001b[38;5;241m=\u001b[39m\u001b[38;5;124m\"\u001b[39m\u001b[38;5;124mhospitalid\u001b[39m\u001b[38;5;124m\"\u001b[39m,axis\u001b[38;5;241m=\u001b[39m\u001b[38;5;241m1\u001b[39m))\n\u001b[0;32m      4\u001b[0m out_score \u001b[38;5;241m=\u001b[39m []\n",
      "\u001b[1;31mNameError\u001b[0m: name 'out_id' is not defined"
     ]
    }
   ],
   "source": [
    "out_data =[]\n",
    "for i in out_id:\n",
    "    out_data.append(DB_1[DB_1[\"hospitalid\"]==i].drop(columns=\"hospitalid\",axis=1))\n",
    "out_score = []\n",
    "for i in out_data:\n",
    "    out_score.append(net_score(fuseDAG,i))\n",
    "pd.DataFrame(out_score,index = [\"BN8\",\"BN9\",\"BN10\"],columns=[\"acc\",\"recall\",\"auc\",\"f1\"]).T    "
   ]
  },
  {
   "cell_type": "code",
   "execution_count": 162,
   "id": "93607f49",
   "metadata": {},
   "outputs": [],
   "source": [
    "def caculate_mi(data):    \n",
    "    mi_score_list = []\n",
    "    h_id = 6\n",
    "    for col in data.columns:\n",
    "        for index in data.columns:\n",
    "            if col==index:\n",
    "                continue\n",
    "            mi_score = mutual_info_score(data.loc[:,index],data.loc[:,col])\n",
    "            mi_score_list.append([index,col,mi_score])\n",
    "            \n",
    "            ##互信息分数，如果两个特征的互信息分数小雨0.02的话就将它加入黑名单\n",
    "   \n",
    "    return pd.DataFrame(mi_score_list,columns=[\"form\",\"to\",\"mi\"])"
   ]
  },
  {
   "cell_type": "code",
   "execution_count": 157,
   "id": "7692d8a4",
   "metadata": {},
   "outputs": [],
   "source": [
    "data_mi = caculate_mi(clients[2].data)\n",
    "data_mi = data_mi.sort_values(by=\"mi\",ascending=False)"
   ]
  },
  {
   "cell_type": "code",
   "execution_count": 222,
   "id": "1150b1eb",
   "metadata": {},
   "outputs": [
    {
     "data": {
      "text/html": [
       "<div>\n",
       "<style scoped>\n",
       "    .dataframe tbody tr th:only-of-type {\n",
       "        vertical-align: middle;\n",
       "    }\n",
       "\n",
       "    .dataframe tbody tr th {\n",
       "        vertical-align: top;\n",
       "    }\n",
       "\n",
       "    .dataframe thead th {\n",
       "        text-align: right;\n",
       "    }\n",
       "</style>\n",
       "<table border=\"1\" class=\"dataframe\">\n",
       "  <thead>\n",
       "    <tr style=\"text-align: right;\">\n",
       "      <th></th>\n",
       "      <th>form</th>\n",
       "      <th>sto</th>\n",
       "      <th>mi</th>\n",
       "    </tr>\n",
       "  </thead>\n",
       "  <tbody>\n",
       "    <tr>\n",
       "      <th>2145</th>\n",
       "      <td>LAB44</td>\n",
       "      <td>LAB43</td>\n",
       "      <td>2.843245e-01</td>\n",
       "    </tr>\n",
       "    <tr>\n",
       "      <th>2209</th>\n",
       "      <td>LAB43</td>\n",
       "      <td>LAB44</td>\n",
       "      <td>2.843245e-01</td>\n",
       "    </tr>\n",
       "    <tr>\n",
       "      <th>2276</th>\n",
       "      <td>LAB48</td>\n",
       "      <td>LAB46</td>\n",
       "      <td>2.410375e-01</td>\n",
       "    </tr>\n",
       "    <tr>\n",
       "      <th>2403</th>\n",
       "      <td>LAB46</td>\n",
       "      <td>LAB48</td>\n",
       "      <td>2.410375e-01</td>\n",
       "    </tr>\n",
       "    <tr>\n",
       "      <th>2535</th>\n",
       "      <td>LAB54</td>\n",
       "      <td>LAB53</td>\n",
       "      <td>2.387234e-01</td>\n",
       "    </tr>\n",
       "    <tr>\n",
       "      <th>...</th>\n",
       "      <td>...</td>\n",
       "      <td>...</td>\n",
       "      <td>...</td>\n",
       "    </tr>\n",
       "    <tr>\n",
       "      <th>3255</th>\n",
       "      <td>PRO1</td>\n",
       "      <td>COM6</td>\n",
       "      <td>3.654938e-08</td>\n",
       "    </tr>\n",
       "    <tr>\n",
       "      <th>3102</th>\n",
       "      <td>LAB38</td>\n",
       "      <td>COM4</td>\n",
       "      <td>5.002825e-09</td>\n",
       "    </tr>\n",
       "    <tr>\n",
       "      <th>1967</th>\n",
       "      <td>COM4</td>\n",
       "      <td>LAB38</td>\n",
       "      <td>5.002825e-09</td>\n",
       "    </tr>\n",
       "    <tr>\n",
       "      <th>2734</th>\n",
       "      <td>COM3</td>\n",
       "      <td>LAB56</td>\n",
       "      <td>2.346444e-09</td>\n",
       "    </tr>\n",
       "    <tr>\n",
       "      <th>3050</th>\n",
       "      <td>LAB56</td>\n",
       "      <td>COM3</td>\n",
       "      <td>2.346444e-09</td>\n",
       "    </tr>\n",
       "  </tbody>\n",
       "</table>\n",
       "<p>4160 rows × 3 columns</p>\n",
       "</div>"
      ],
      "text/plain": [
       "       form    sto            mi\n",
       "2145  LAB44  LAB43  2.843245e-01\n",
       "2209  LAB43  LAB44  2.843245e-01\n",
       "2276  LAB48  LAB46  2.410375e-01\n",
       "2403  LAB46  LAB48  2.410375e-01\n",
       "2535  LAB54  LAB53  2.387234e-01\n",
       "...     ...    ...           ...\n",
       "3255   PRO1   COM6  3.654938e-08\n",
       "3102  LAB38   COM4  5.002825e-09\n",
       "1967   COM4  LAB38  5.002825e-09\n",
       "2734   COM3  LAB56  2.346444e-09\n",
       "3050  LAB56   COM3  2.346444e-09\n",
       "\n",
       "[4160 rows x 3 columns]"
      ]
     },
     "execution_count": 222,
     "metadata": {},
     "output_type": "execute_result"
    }
   ],
   "source": [
    "data_mi"
   ]
  },
  {
   "cell_type": "code",
   "execution_count": 218,
   "id": "55949b82",
   "metadata": {},
   "outputs": [],
   "source": [
    "test_dag = DAG()\n",
    "for i in range(len(data_mi)):\n",
    "    if data_mi.iloc[i,1]==\"label\":\n",
    "#         print(data_mi.iloc[i,0],data_mi.iloc[i,1],data_mi.iloc[i,2])\n",
    "        if data_mi.iloc[i,2] > 0.015:\n",
    "            test_dag.add_edge(data_mi.iloc[i,0],data_mi.iloc[i,1])"
   ]
  },
  {
   "cell_type": "code",
   "execution_count": 219,
   "id": "6cccf76b",
   "metadata": {},
   "outputs": [],
   "source": [
    "# test_dag.remove_edge(\"COM1\",\"label\")"
   ]
  },
  {
   "cell_type": "code",
   "execution_count": 220,
   "id": "e1aa1c1e",
   "metadata": {},
   "outputs": [
    {
     "name": "stdout",
     "output_type": "stream",
     "text": [
      "COM10 -> label ;\n",
      "COM8 -> label ;\n",
      "COM11 -> label ;\n",
      "LAB19 -> label ;\n",
      "COM3 -> label ;\n"
     ]
    }
   ],
   "source": [
    "print_dag(test_dag)"
   ]
  },
  {
   "cell_type": "code",
   "execution_count": 221,
   "id": "c6a367f3",
   "metadata": {},
   "outputs": [
    {
     "data": {
      "application/vnd.jupyter.widget-view+json": {
       "model_id": "4083570e011c443aaf7faed7604a69d2",
       "version_major": 2,
       "version_minor": 0
      },
      "text/plain": [
       "  0%|          | 0/27 [00:00<?, ?it/s]"
      ]
     },
     "metadata": {},
     "output_type": "display_data"
    },
    {
     "data": {
      "text/plain": [
       "(0.7359307359307359,\n",
       " 0.38666666666666666,\n",
       " 0.6452564102564103,\n",
       " 0.48739495798319327)"
      ]
     },
     "execution_count": 221,
     "metadata": {},
     "output_type": "execute_result"
    }
   ],
   "source": [
    "net_score(test_dag,clients[6].data)"
   ]
  },
  {
   "cell_type": "code",
   "execution_count": null,
   "id": "0e869f19",
   "metadata": {
    "scrolled": true
   },
   "outputs": [],
   "source": [
    "['fnml','bdla','mbde','bds','bic','loglik','bde', 'mbde', 'k2', 'qnml']"
   ]
  },
  {
   "cell_type": "code",
   "execution_count": null,
   "id": "ca7e4cff",
   "metadata": {},
   "outputs": [],
   "source": []
  },
  {
   "cell_type": "code",
   "execution_count": 25,
   "id": "dd83e6d9",
   "metadata": {
    "scrolled": false
   },
   "outputs": [
    {
     "data": {
      "application/vnd.jupyter.widget-view+json": {
       "model_id": "64e929d5934e405fb28ab5c843724d7a",
       "version_major": 2,
       "version_minor": 0
      },
      "text/plain": [
       "  0%|          | 0/552 [00:00<?, ?it/s]"
      ]
     },
     "metadata": {},
     "output_type": "display_data"
    },
    {
     "data": {
      "application/vnd.jupyter.widget-view+json": {
       "model_id": "2bae277b128242679a0c69ad1b42d778",
       "version_major": 2,
       "version_minor": 0
      },
      "text/plain": [
       "  0%|          | 0/336 [00:00<?, ?it/s]"
      ]
     },
     "metadata": {},
     "output_type": "display_data"
    },
    {
     "data": {
      "application/vnd.jupyter.widget-view+json": {
       "model_id": "badb53d4e9824c2693ccfb542b82badd",
       "version_major": 2,
       "version_minor": 0
      },
      "text/plain": [
       "  0%|          | 0/414 [00:00<?, ?it/s]"
      ]
     },
     "metadata": {},
     "output_type": "display_data"
    },
    {
     "data": {
      "application/vnd.jupyter.widget-view+json": {
       "model_id": "41442cfad3c6419a8663cf029bd7234f",
       "version_major": 2,
       "version_minor": 0
      },
      "text/plain": [
       "  0%|          | 0/233 [00:00<?, ?it/s]"
      ]
     },
     "metadata": {},
     "output_type": "display_data"
    },
    {
     "data": {
      "application/vnd.jupyter.widget-view+json": {
       "model_id": "a83f8afd5eb0445789260d46aabdf9b5",
       "version_major": 2,
       "version_minor": 0
      },
      "text/plain": [
       "  0%|          | 0/193 [00:00<?, ?it/s]"
      ]
     },
     "metadata": {},
     "output_type": "display_data"
    },
    {
     "data": {
      "application/vnd.jupyter.widget-view+json": {
       "model_id": "f5494277bb8d4ead91a3d25d4f00c69f",
       "version_major": 2,
       "version_minor": 0
      },
      "text/plain": [
       "  0%|          | 0/272 [00:00<?, ?it/s]"
      ]
     },
     "metadata": {},
     "output_type": "display_data"
    },
    {
     "data": {
      "application/vnd.jupyter.widget-view+json": {
       "model_id": "17d91d0e833449d1ab3387eb06b28a07",
       "version_major": 2,
       "version_minor": 0
      },
      "text/plain": [
       "  0%|          | 0/180 [00:00<?, ?it/s]"
      ]
     },
     "metadata": {},
     "output_type": "display_data"
    },
    {
     "data": {
      "application/vnd.jupyter.widget-view+json": {
       "model_id": "a47bd7be23744ba99641a4bb8dd0382a",
       "version_major": 2,
       "version_minor": 0
      },
      "text/plain": [
       "  0%|          | 0/117 [00:00<?, ?it/s]"
      ]
     },
     "metadata": {},
     "output_type": "display_data"
    },
    {
     "data": {
      "application/vnd.jupyter.widget-view+json": {
       "model_id": "41bf157026b145f4861c788e83af7f59",
       "version_major": 2,
       "version_minor": 0
      },
      "text/plain": [
       "  0%|          | 0/124 [00:00<?, ?it/s]"
      ]
     },
     "metadata": {},
     "output_type": "display_data"
    },
    {
     "data": {
      "application/vnd.jupyter.widget-view+json": {
       "model_id": "d2206dfb5ef149ae8edd24f43de14a7a",
       "version_major": 2,
       "version_minor": 0
      },
      "text/plain": [
       "  0%|          | 0/289 [00:00<?, ?it/s]"
      ]
     },
     "metadata": {},
     "output_type": "display_data"
    },
    {
     "data": {
      "text/html": [
       "<div>\n",
       "<style scoped>\n",
       "    .dataframe tbody tr th:only-of-type {\n",
       "        vertical-align: middle;\n",
       "    }\n",
       "\n",
       "    .dataframe tbody tr th {\n",
       "        vertical-align: top;\n",
       "    }\n",
       "\n",
       "    .dataframe thead th {\n",
       "        text-align: right;\n",
       "    }\n",
       "</style>\n",
       "<table border=\"1\" class=\"dataframe\">\n",
       "  <thead>\n",
       "    <tr style=\"text-align: right;\">\n",
       "      <th></th>\n",
       "      <th>0</th>\n",
       "      <th>1</th>\n",
       "      <th>2</th>\n",
       "      <th>3</th>\n",
       "      <th>4</th>\n",
       "      <th>5</th>\n",
       "      <th>6</th>\n",
       "      <th>7</th>\n",
       "      <th>8</th>\n",
       "      <th>9</th>\n",
       "    </tr>\n",
       "  </thead>\n",
       "  <tbody>\n",
       "    <tr>\n",
       "      <th>acc</th>\n",
       "      <td>0.845794</td>\n",
       "      <td>0.797546</td>\n",
       "      <td>0.778226</td>\n",
       "      <td>0.782609</td>\n",
       "      <td>0.791304</td>\n",
       "      <td>0.811138</td>\n",
       "      <td>0.766234</td>\n",
       "      <td>0.815287</td>\n",
       "      <td>0.797546</td>\n",
       "      <td>0.806075</td>\n",
       "    </tr>\n",
       "    <tr>\n",
       "      <th>recall</th>\n",
       "      <td>0.691892</td>\n",
       "      <td>0.620915</td>\n",
       "      <td>0.531401</td>\n",
       "      <td>0.681416</td>\n",
       "      <td>0.721805</td>\n",
       "      <td>0.589286</td>\n",
       "      <td>0.506667</td>\n",
       "      <td>0.604167</td>\n",
       "      <td>0.577778</td>\n",
       "      <td>0.571429</td>\n",
       "    </tr>\n",
       "    <tr>\n",
       "      <th>auc</th>\n",
       "      <td>0.799994</td>\n",
       "      <td>0.749446</td>\n",
       "      <td>0.702386</td>\n",
       "      <td>0.752578</td>\n",
       "      <td>0.778355</td>\n",
       "      <td>0.741487</td>\n",
       "      <td>0.698846</td>\n",
       "      <td>0.756212</td>\n",
       "      <td>0.729567</td>\n",
       "      <td>0.733934</td>\n",
       "    </tr>\n",
       "    <tr>\n",
       "      <th>f1</th>\n",
       "      <td>0.721127</td>\n",
       "      <td>0.657439</td>\n",
       "      <td>0.571429</td>\n",
       "      <td>0.644351</td>\n",
       "      <td>0.727273</td>\n",
       "      <td>0.628571</td>\n",
       "      <td>0.584615</td>\n",
       "      <td>0.666667</td>\n",
       "      <td>0.611765</td>\n",
       "      <td>0.621005</td>\n",
       "    </tr>\n",
       "  </tbody>\n",
       "</table>\n",
       "</div>"
      ],
      "text/plain": [
       "               0         1         2         3         4         5         6  \\\n",
       "acc     0.845794  0.797546  0.778226  0.782609  0.791304  0.811138  0.766234   \n",
       "recall  0.691892  0.620915  0.531401  0.681416  0.721805  0.589286  0.506667   \n",
       "auc     0.799994  0.749446  0.702386  0.752578  0.778355  0.741487  0.698846   \n",
       "f1      0.721127  0.657439  0.571429  0.644351  0.727273  0.628571  0.584615   \n",
       "\n",
       "               7         8         9  \n",
       "acc     0.815287  0.797546  0.806075  \n",
       "recall  0.604167  0.577778  0.571429  \n",
       "auc     0.756212  0.729567  0.733934  \n",
       "f1      0.666667  0.611765  0.621005  "
      ]
     },
     "execution_count": 25,
     "metadata": {},
     "output_type": "execute_result"
    }
   ],
   "source": [
    "out_data =[]\n",
    "for i in hos_id:\n",
    "    out_data.append(DB_1[DB_1[\"hospitalid\"]==i].drop(columns=\"hospitalid\",axis=1))\n",
    "label_dag = DAG(fuseDAG.get_ancestral_graph(\"label\"))\n",
    "label_dag.add_edge(\"sex\",\"label\")\n",
    "label_dag.add_edge(\"race\",\"label\")\n",
    "out_score = []\n",
    "for i in out_data:\n",
    "    out_score.append(net_score(label_dag,i))\n",
    "pd.DataFrame(out_score,columns=[\"acc\",\"recall\",\"auc\",\"f1\"]).T"
   ]
  },
  {
   "cell_type": "code",
   "execution_count": 26,
   "id": "c04d2ed1",
   "metadata": {},
   "outputs": [
    {
     "data": {
      "text/html": [
       "<div>\n",
       "<style scoped>\n",
       "    .dataframe tbody tr th:only-of-type {\n",
       "        vertical-align: middle;\n",
       "    }\n",
       "\n",
       "    .dataframe tbody tr th {\n",
       "        vertical-align: top;\n",
       "    }\n",
       "\n",
       "    .dataframe thead th {\n",
       "        text-align: right;\n",
       "    }\n",
       "</style>\n",
       "<table border=\"1\" class=\"dataframe\">\n",
       "  <thead>\n",
       "    <tr style=\"text-align: right;\">\n",
       "      <th></th>\n",
       "      <th>BN1</th>\n",
       "      <th>BN2</th>\n",
       "      <th>BN3</th>\n",
       "      <th>BN4</th>\n",
       "      <th>BN5</th>\n",
       "      <th>BN6</th>\n",
       "      <th>BN7</th>\n",
       "      <th>BN8</th>\n",
       "      <th>BN9</th>\n",
       "      <th>BN10</th>\n",
       "    </tr>\n",
       "  </thead>\n",
       "  <tbody>\n",
       "    <tr>\n",
       "      <th>acc</th>\n",
       "      <td>0.845794</td>\n",
       "      <td>0.809816</td>\n",
       "      <td>0.811828</td>\n",
       "      <td>0.774936</td>\n",
       "      <td>0.802899</td>\n",
       "      <td>0.801453</td>\n",
       "      <td>0.774892</td>\n",
       "      <td>0.834395</td>\n",
       "      <td>0.834356</td>\n",
       "      <td>0.820093</td>\n",
       "    </tr>\n",
       "    <tr>\n",
       "      <th>recall</th>\n",
       "      <td>0.705405</td>\n",
       "      <td>0.660131</td>\n",
       "      <td>0.599034</td>\n",
       "      <td>0.681416</td>\n",
       "      <td>0.796992</td>\n",
       "      <td>0.544643</td>\n",
       "      <td>0.613333</td>\n",
       "      <td>0.812500</td>\n",
       "      <td>0.844444</td>\n",
       "      <td>0.680672</td>\n",
       "    </tr>\n",
       "    <tr>\n",
       "      <th>auc</th>\n",
       "      <td>0.804016</td>\n",
       "      <td>0.769053</td>\n",
       "      <td>0.746444</td>\n",
       "      <td>0.747183</td>\n",
       "      <td>0.801798</td>\n",
       "      <td>0.720826</td>\n",
       "      <td>0.732949</td>\n",
       "      <td>0.828268</td>\n",
       "      <td>0.837476</td>\n",
       "      <td>0.777229</td>\n",
       "    </tr>\n",
       "    <tr>\n",
       "      <th>f1</th>\n",
       "      <td>0.725000</td>\n",
       "      <td>0.684746</td>\n",
       "      <td>0.639175</td>\n",
       "      <td>0.636364</td>\n",
       "      <td>0.757143</td>\n",
       "      <td>0.598039</td>\n",
       "      <td>0.638889</td>\n",
       "      <td>0.750000</td>\n",
       "      <td>0.737864</td>\n",
       "      <td>0.677824</td>\n",
       "    </tr>\n",
       "  </tbody>\n",
       "</table>\n",
       "</div>"
      ],
      "text/plain": [
       "             BN1       BN2       BN3       BN4       BN5       BN6       BN7  \\\n",
       "acc     0.845794  0.809816  0.811828  0.774936  0.802899  0.801453  0.774892   \n",
       "recall  0.705405  0.660131  0.599034  0.681416  0.796992  0.544643  0.613333   \n",
       "auc     0.804016  0.769053  0.746444  0.747183  0.801798  0.720826  0.732949   \n",
       "f1      0.725000  0.684746  0.639175  0.636364  0.757143  0.598039  0.638889   \n",
       "\n",
       "             BN8       BN9      BN10  \n",
       "acc     0.834395  0.834356  0.820093  \n",
       "recall  0.812500  0.844444  0.680672  \n",
       "auc     0.828268  0.837476  0.777229  \n",
       "f1      0.750000  0.737864  0.677824  "
      ]
     },
     "execution_count": 26,
     "metadata": {},
     "output_type": "execute_result"
    }
   ],
   "source": [
    "all_score_list[0]"
   ]
  },
  {
   "cell_type": "code",
   "execution_count": null,
   "id": "ab8b2cb0",
   "metadata": {
    "scrolled": true
   },
   "outputs": [],
   "source": [
    "def get_label_str(cl,tag=1):\n",
    "    arc_str=cl.arc_strength.sort_values(by=\"strength\",ascending=False)\n",
    "    label_str = []\n",
    "    if tag:\n",
    "        for ed in cl.model.get_ancestral_graph(\"label\").edges():\n",
    "            s=arc_str[(arc_str[\"from\"]==ed[0])&(arc_str[\"to\"]==ed[1])][\"strength\"]\n",
    "            label_str.append([ed[0],ed[1],s[0]])\n",
    "        label_str=pd.DataFrame(label_str,columns=[\"from\",\"to\",\"strength\"])\n",
    "        return label_str\n",
    "    else:\n",
    "        for ed in cl.model.edges():\n",
    "            s=arc_str[(arc_str[\"from\"]==ed[0])&(arc_str[\"to\"]==ed[1])][\"strength\"]\n",
    "            label_str.append([ed[0],ed[1],s[0]])\n",
    "        label_str=pd.DataFrame(label_str,columns=[\"from\",\"to\",\"strength\"])\n",
    "    return label_str.sort_values(by=\"strength\",ascending=False)"
   ]
  },
  {
   "cell_type": "code",
   "execution_count": null,
   "id": "80587ce0",
   "metadata": {},
   "outputs": [],
   "source": [
    "ho_id=2\n",
    "get_label_str(clients[ho_id]).sort_values(by=\"strength\",ascending=False)"
   ]
  },
  {
   "cell_type": "code",
   "execution_count": null,
   "id": "2f6e7a16",
   "metadata": {},
   "outputs": [],
   "source": [
    "\n",
    "mi_df = []\n",
    "for ed in clients[ho_id].model.get_ancestral_graph(\"label\").edges():\n",
    "    mi_score = mutual_info_score(clients[ho_id].data.loc[:,ed[0]],clients[ho_id].data.loc[:,ed[1]])\n",
    "    mi_df.append([ed[0],ed[1],mi_score])\n",
    "mi_df=pd.DataFrame(mi_df,columns=[\"from\",\"to\",\"mi_score\"])\n",
    "mi_df.sort_values(by=\"mi_score\",ascending=False)"
   ]
  },
  {
   "cell_type": "code",
   "execution_count": null,
   "id": "abe1ab45",
   "metadata": {},
   "outputs": [],
   "source": [
    "for i in range(10):\n",
    "    print(set(clients[i].data[\"PRO5\"]))"
   ]
  },
  {
   "cell_type": "code",
   "execution_count": null,
   "id": "bf4f0cc3",
   "metadata": {
    "scrolled": true
   },
   "outputs": [],
   "source": [
    "auc_list = []\n",
    "recall_list = []\n",
    "acc_list = []\n",
    "#测试更新后的性能\n",
    "for i in range(10):\n",
    "#     print(\"各个客户端的初始性能\")\n",
    "    acc,recall,auc_score = cross_validation(clients[i].model,client_data,clients[i].cid)\n",
    "    auc_list.append(auc_score)\n",
    "    recall_list.append(recall)\n",
    "    acc_list.append(acc)\n",
    "#     print(i)\n",
    "#     print_dag(clients[i].model)\n",
    "# print(\"更新auc\",auc_list)\n",
    "# print(\"更新recall\",recall_list)\n",
    "# print(\"更新acc\",acc_list)\n",
    "\n",
    "    \n",
    "    "
   ]
  }
 ],
 "metadata": {
  "kernelspec": {
   "display_name": "Python 3 (ipykernel)",
   "language": "python",
   "name": "python3"
  },
  "language_info": {
   "codemirror_mode": {
    "name": "ipython",
    "version": 3
   },
   "file_extension": ".py",
   "mimetype": "text/x-python",
   "name": "python",
   "nbconvert_exporter": "python",
   "pygments_lexer": "ipython3",
   "version": "3.9.12"
  }
 },
 "nbformat": 4,
 "nbformat_minor": 5
}
