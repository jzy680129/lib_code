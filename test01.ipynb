{
 "cells": [
  {
   "cell_type": "code",
   "execution_count": 3,
   "id": "8562501a",
   "metadata": {},
   "outputs": [],
   "source": [
    "from xgboost.sklearn import XGBClassifier\n",
    "import pandas as pd\n",
    "from sklearn.model_selection import train_test_split\n",
    "import numpy as np\n",
    "from sklearn.model_selection import cross_val_score\n",
    "from sklearn.metrics import roc_auc_score\n",
    "from sklearn.model_selection import GridSearchCV"
   ]
  },
  {
   "cell_type": "code",
   "execution_count": 4,
   "id": "61bbe03c",
   "metadata": {
    "scrolled": true
   },
   "outputs": [],
   "source": [
    "df = pd.read_csv(\"C:/Users/Administrator/Desktop/代码/实验/fd/fd_data/data420.csv\")\n",
    "df = df.loc[:,[\"label\",\"COM8\",\"COM10\",\"COM11\"]]\n",
    "bdf = df.sample(frac=1)"
   ]
  },
  {
   "cell_type": "code",
   "execution_count": 6,
   "id": "11e35df4",
   "metadata": {},
   "outputs": [
    {
     "data": {
      "text/html": [
       "<div>\n",
       "<style scoped>\n",
       "    .dataframe tbody tr th:only-of-type {\n",
       "        vertical-align: middle;\n",
       "    }\n",
       "\n",
       "    .dataframe tbody tr th {\n",
       "        vertical-align: top;\n",
       "    }\n",
       "\n",
       "    .dataframe thead th {\n",
       "        text-align: right;\n",
       "    }\n",
       "</style>\n",
       "<table border=\"1\" class=\"dataframe\">\n",
       "  <thead>\n",
       "    <tr style=\"text-align: right;\">\n",
       "      <th></th>\n",
       "      <th>COM8</th>\n",
       "      <th>COM10</th>\n",
       "    </tr>\n",
       "  </thead>\n",
       "  <tbody>\n",
       "    <tr>\n",
       "      <th>636</th>\n",
       "      <td>1</td>\n",
       "      <td>1</td>\n",
       "    </tr>\n",
       "    <tr>\n",
       "      <th>556</th>\n",
       "      <td>0</td>\n",
       "      <td>0</td>\n",
       "    </tr>\n",
       "    <tr>\n",
       "      <th>1403</th>\n",
       "      <td>0</td>\n",
       "      <td>0</td>\n",
       "    </tr>\n",
       "    <tr>\n",
       "      <th>216</th>\n",
       "      <td>0</td>\n",
       "      <td>0</td>\n",
       "    </tr>\n",
       "    <tr>\n",
       "      <th>543</th>\n",
       "      <td>0</td>\n",
       "      <td>0</td>\n",
       "    </tr>\n",
       "    <tr>\n",
       "      <th>...</th>\n",
       "      <td>...</td>\n",
       "      <td>...</td>\n",
       "    </tr>\n",
       "    <tr>\n",
       "      <th>4068</th>\n",
       "      <td>1</td>\n",
       "      <td>1</td>\n",
       "    </tr>\n",
       "    <tr>\n",
       "      <th>2766</th>\n",
       "      <td>1</td>\n",
       "      <td>0</td>\n",
       "    </tr>\n",
       "    <tr>\n",
       "      <th>691</th>\n",
       "      <td>1</td>\n",
       "      <td>1</td>\n",
       "    </tr>\n",
       "    <tr>\n",
       "      <th>3001</th>\n",
       "      <td>1</td>\n",
       "      <td>1</td>\n",
       "    </tr>\n",
       "    <tr>\n",
       "      <th>1896</th>\n",
       "      <td>0</td>\n",
       "      <td>0</td>\n",
       "    </tr>\n",
       "  </tbody>\n",
       "</table>\n",
       "<p>4280 rows × 2 columns</p>\n",
       "</div>"
      ],
      "text/plain": [
       "      COM8  COM10\n",
       "636      1      1\n",
       "556      0      0\n",
       "1403     0      0\n",
       "216      0      0\n",
       "543      0      0\n",
       "...    ...    ...\n",
       "4068     1      1\n",
       "2766     1      0\n",
       "691      1      1\n",
       "3001     1      1\n",
       "1896     0      0\n",
       "\n",
       "[4280 rows x 2 columns]"
      ]
     },
     "execution_count": 6,
     "metadata": {},
     "output_type": "execute_result"
    }
   ],
   "source": [
    "df.loc[:,[\"COM8\",\"COM10\"]]"
   ]
  },
  {
   "cell_type": "code",
   "execution_count": 3,
   "id": "dab6e574",
   "metadata": {},
   "outputs": [],
   "source": [
    "x = df.iloc[:,1:]\n",
    "y = df[\"label\"]\n",
    "x_train,x_test,y_train,y_test = train_test_split(x,y,test_size = 0.3,random_state=40)"
   ]
  },
  {
   "cell_type": "code",
   "execution_count": 4,
   "id": "5a10b129",
   "metadata": {
    "scrolled": true
   },
   "outputs": [],
   "source": [
    "model = XGBClassifier(random_state=22)\n",
    "model_1 = model.fit(x_train,y_train)"
   ]
  },
  {
   "cell_type": "code",
   "execution_count": 5,
   "id": "e3cd3bda",
   "metadata": {
    "scrolled": true
   },
   "outputs": [
    {
     "data": {
      "text/plain": [
       "0.0004966025840157302"
      ]
     },
     "execution_count": 5,
     "metadata": {},
     "output_type": "execute_result"
    }
   ],
   "source": [
    "cross_val_score(XGBClassifier(random_state=22),x,y,cv=10,scoring=\"roc_auc\").var()"
   ]
  },
  {
   "cell_type": "code",
   "execution_count": 6,
   "id": "6afb03a1",
   "metadata": {
    "scrolled": true
   },
   "outputs": [
    {
     "data": {
      "text/plain": [
       "0.8387850467289719"
      ]
     },
     "execution_count": 6,
     "metadata": {},
     "output_type": "execute_result"
    }
   ],
   "source": [
    "model_1.score(x_test,y_test)"
   ]
  },
  {
   "cell_type": "code",
   "execution_count": 7,
   "id": "bad3ad23",
   "metadata": {},
   "outputs": [],
   "source": [
    "auc = cross_val_score(model_1,x,y,scoring = \"roc_auc\").mean()"
   ]
  },
  {
   "cell_type": "code",
   "execution_count": 8,
   "id": "160bbc8f",
   "metadata": {},
   "outputs": [],
   "source": [
    "y_pred = model.predict(x_test)"
   ]
  },
  {
   "cell_type": "code",
   "execution_count": 9,
   "id": "1e44c1f1",
   "metadata": {
    "scrolled": true
   },
   "outputs": [
    {
     "data": {
      "text/plain": [
       "0.8109867199271172"
      ]
     },
     "execution_count": 9,
     "metadata": {},
     "output_type": "execute_result"
    }
   ],
   "source": [
    "roc_auc_score(y_test,y_pred)"
   ]
  },
  {
   "cell_type": "code",
   "execution_count": 10,
   "id": "603c6f86",
   "metadata": {},
   "outputs": [],
   "source": [
    "param_grid = {\n",
    "        \"classifier__n_estimators\": [50,100,200,300],\n",
    "        \"classifier__eta\": [0.05, 0.1,0.3], \n",
    "        \"classifier__max_depth\": [3,4,7], \n",
    "        \"classifier__colsample_bytree\": [0.4,0.8,1], \n",
    "        \"classifier__min_child_weight\": [1,2,3,4] \n",
    "    }"
   ]
  },
  {
   "cell_type": "code",
   "execution_count": 11,
   "id": "78818400",
   "metadata": {},
   "outputs": [
    {
     "name": "stdout",
     "output_type": "stream",
     "text": [
      "[09:53:59] WARNING: C:/Users/Administrator/workspace/xgboost-win64_release_1.6.0/src/learner.cc:627: \n",
      "Parameters: { \"classifier__colsample_bytree\", \"classifier__eta\", \"classifier__max_depth\", \"classifier__min_child_weight\", \"classifier__n_estimators\" } might not be used.\n",
      "\n",
      "  This could be a false alarm, with some parameters getting used by language bindings but\n",
      "  then being mistakenly passed down to XGBoost core, or some parameter actually being used\n",
      "  but getting flagged wrongly here. Please open an issue if you find any such cases.\n",
      "\n",
      "\n"
     ]
    }
   ],
   "source": [
    "search = GridSearchCV(model, param_grid, n_jobs=2, scoring=\"roc_auc\", cv=5)\n",
    "best = search.fit(x,y)"
   ]
  },
  {
   "cell_type": "code",
   "execution_count": 12,
   "id": "01d23949",
   "metadata": {},
   "outputs": [],
   "source": [
    "xgb = best.best_estimator_"
   ]
  },
  {
   "cell_type": "code",
   "execution_count": 13,
   "id": "3c2622c9",
   "metadata": {},
   "outputs": [
    {
     "data": {
      "text/plain": [
       "XGBClassifier(base_score=0.5, booster='gbtree', callbacks=None,\n",
       "              classifier__colsample_bytree=0.4, classifier__eta=0.05,\n",
       "              classifier__max_depth=3, classifier__min_child_weight=1,\n",
       "              classifier__n_estimators=50, colsample_bylevel=1,\n",
       "              colsample_bynode=1, colsample_bytree=1,\n",
       "              early_stopping_rounds=None, enable_categorical=False,\n",
       "              eval_metric=None, gamma=0, gpu_id=-1, grow_policy='depthwise',\n",
       "              importance_type=None, interaction_constraints='',\n",
       "              learning_rate=0.300000012, max_bin=256, max_cat_to_onehot=4,\n",
       "              max_delta_step=0, max_depth=6, max_leaves=0, min_child_weight=1,\n",
       "              missing=nan, monotone_constraints='()', n_estimators=100,\n",
       "              n_jobs=0, ...)"
      ]
     },
     "execution_count": 13,
     "metadata": {},
     "output_type": "execute_result"
    }
   ],
   "source": [
    "xgb"
   ]
  },
  {
   "cell_type": "code",
   "execution_count": 36,
   "id": "8b5c2d3a",
   "metadata": {},
   "outputs": [],
   "source": []
  },
  {
   "cell_type": "code",
   "execution_count": 37,
   "id": "160e3897",
   "metadata": {},
   "outputs": [],
   "source": [
    "#将所有的离散状态记录下来，以字典的方式\n",
    "state_names  ={\n",
    "    \"lable\":[0,1],\n",
    "    \"age\":[1,2,3,4,5,6,7,8],\n",
    "    \"sex\":[0,1],\n",
    "    \"race\":[1,2,3,4,5],\n",
    "    \"bmi\":[1,2,3,4],\n",
    "    \"temperature\":[0,1],\n",
    "    \"heartrate\":[0,1],\n",
    "    \"respiration\":[0,1],\n",
    "    \"SBP\":[1,2,3,4,5],\n",
    "    \"DBP\":[1,2,3,4,5],\n",
    "    \"paSystolic\":[0,1],\n",
    "    \"paDiastolic\":[0,1],\n",
    "    \"paMean\":[0,1],\n",
    "}\n",
    "LAB_list = []\n",
    "for i in range(1,61):\n",
    "    LAB_list.append((\"LAB\"+str(i),[0,1]))\n",
    "COM_list = []\n",
    "for i in range(1,12):\n",
    "    COM_list.append((\"COM\"+str(i),[0,1]))\n",
    "PRO_list = []\n",
    "for i in range(1,10):\n",
    "    COM_list.append((\"PRO\"+str(i),[0,1]))\n",
    "MED_list = []\n",
    "for i in range(1,55):\n",
    "    MED_list.append((\"MED\"+str(i),[0,1]))\n",
    "state_names.update(LAB_list)\n",
    "state_names.update(COM_list)\n",
    "state_names.update(PRO_list)\n",
    "state_names.update(MED_list)      "
   ]
  },
  {
   "cell_type": "code",
   "execution_count": 65,
   "id": "7f323a8b",
   "metadata": {},
   "outputs": [
    {
     "name": "stdout",
     "output_type": "stream",
     "text": [
      "lable : [0, 1]\n",
      "age : [1, 2, 3, 4, 5, 6, 7, 8]\n",
      "sex : [0, 1]\n",
      "race : [1, 2, 3, 4, 5]\n",
      "bmi : [1, 2, 3, 4]\n",
      "temperature : [0, 1]\n",
      "heartrate : [0, 1]\n",
      "respiration : [0, 1]\n",
      "SBP : [1, 2, 3, 4, 5]\n",
      "DBP : [1, 2, 3, 4, 5]\n",
      "paSystolic : [0, 1]\n",
      "paDiastolic : [0, 1]\n",
      "paMean : [0, 1]\n",
      "LAB1 : [0, 1]\n",
      "LAB2 : [0, 1]\n",
      "LAB3 : [0, 1]\n",
      "LAB4 : [0, 1]\n",
      "LAB5 : [0, 1]\n",
      "LAB6 : [0, 1]\n",
      "LAB7 : [0, 1]\n",
      "LAB8 : [0, 1]\n",
      "LAB9 : [0, 1]\n",
      "LAB10 : [0, 1]\n",
      "LAB11 : [0, 1]\n",
      "LAB12 : [0, 1]\n",
      "LAB13 : [0, 1]\n",
      "LAB14 : [0, 1]\n",
      "LAB15 : [0, 1]\n",
      "LAB16 : [0, 1]\n",
      "LAB17 : [0, 1]\n",
      "LAB18 : [0, 1]\n",
      "LAB19 : [0, 1]\n",
      "LAB20 : [0, 1]\n",
      "LAB21 : [0, 1]\n",
      "LAB22 : [0, 1]\n",
      "LAB23 : [0, 1]\n",
      "LAB24 : [0, 1]\n",
      "LAB25 : [0, 1]\n",
      "LAB26 : [0, 1]\n",
      "LAB27 : [0, 1]\n",
      "LAB28 : [0, 1]\n",
      "LAB29 : [0, 1]\n",
      "LAB30 : [0, 1]\n",
      "LAB31 : [0, 1]\n",
      "LAB32 : [0, 1]\n",
      "LAB33 : [0, 1]\n",
      "LAB34 : [0, 1]\n",
      "LAB35 : [0, 1]\n",
      "LAB36 : [0, 1]\n",
      "LAB37 : [0, 1]\n",
      "LAB38 : [0, 1]\n",
      "LAB39 : [0, 1]\n",
      "LAB40 : [0, 1]\n",
      "LAB41 : [0, 1]\n",
      "LAB42 : [0, 1]\n",
      "LAB43 : [0, 1]\n",
      "LAB44 : [0, 1]\n",
      "LAB45 : [0, 1]\n",
      "LAB46 : [0, 1]\n",
      "LAB47 : [0, 1]\n",
      "LAB48 : [0, 1]\n",
      "LAB49 : [0, 1]\n",
      "LAB50 : [0, 1]\n",
      "LAB51 : [0, 1]\n",
      "LAB52 : [0, 1]\n",
      "LAB53 : [0, 1]\n",
      "LAB54 : [0, 1]\n",
      "LAB55 : [0, 1]\n",
      "LAB56 : [0, 1]\n",
      "LAB57 : [0, 1]\n",
      "LAB58 : [0, 1]\n",
      "LAB59 : [0, 1]\n",
      "LAB60 : [0, 1]\n",
      "COM1 : [0, 1]\n",
      "COM2 : [0, 1]\n",
      "COM3 : [0, 1]\n",
      "COM4 : [0, 1]\n",
      "COM5 : [0, 1]\n",
      "COM6 : [0, 1]\n",
      "COM7 : [0, 1]\n",
      "COM8 : [0, 1]\n",
      "COM9 : [0, 1]\n",
      "COM10 : [0, 1]\n",
      "COM11 : [0, 1]\n",
      "PRO1 : [0, 1]\n",
      "PRO2 : [0, 1]\n",
      "PRO3 : [0, 1]\n",
      "PRO4 : [0, 1]\n",
      "PRO5 : [0, 1]\n",
      "PRO6 : [0, 1]\n",
      "PRO7 : [0, 1]\n",
      "PRO8 : [0, 1]\n",
      "PRO9 : [0, 1]\n",
      "MED1 : [0, 1]\n",
      "MED2 : [0, 1]\n",
      "MED3 : [0, 1]\n",
      "MED4 : [0, 1]\n",
      "MED5 : [0, 1]\n",
      "MED6 : [0, 1]\n",
      "MED7 : [0, 1]\n",
      "MED8 : [0, 1]\n",
      "MED9 : [0, 1]\n",
      "MED10 : [0, 1]\n",
      "MED11 : [0, 1]\n",
      "MED12 : [0, 1]\n",
      "MED13 : [0, 1]\n",
      "MED14 : [0, 1]\n",
      "MED15 : [0, 1]\n",
      "MED16 : [0, 1]\n",
      "MED17 : [0, 1]\n",
      "MED18 : [0, 1]\n",
      "MED19 : [0, 1]\n",
      "MED20 : [0, 1]\n",
      "MED21 : [0, 1]\n",
      "MED22 : [0, 1]\n",
      "MED23 : [0, 1]\n",
      "MED24 : [0, 1]\n",
      "MED25 : [0, 1]\n",
      "MED26 : [0, 1]\n",
      "MED27 : [0, 1]\n",
      "MED28 : [0, 1]\n",
      "MED29 : [0, 1]\n",
      "MED30 : [0, 1]\n",
      "MED31 : [0, 1]\n",
      "MED32 : [0, 1]\n",
      "MED33 : [0, 1]\n",
      "MED34 : [0, 1]\n",
      "MED35 : [0, 1]\n",
      "MED36 : [0, 1]\n",
      "MED37 : [0, 1]\n",
      "MED38 : [0, 1]\n",
      "MED39 : [0, 1]\n",
      "MED40 : [0, 1]\n",
      "MED41 : [0, 1]\n",
      "MED42 : [0, 1]\n",
      "MED43 : [0, 1]\n",
      "MED44 : [0, 1]\n",
      "MED45 : [0, 1]\n",
      "MED46 : [0, 1]\n",
      "MED47 : [0, 1]\n",
      "MED48 : [0, 1]\n",
      "MED49 : [0, 1]\n",
      "MED50 : [0, 1]\n",
      "MED51 : [0, 1]\n",
      "MED52 : [0, 1]\n",
      "MED53 : [0, 1]\n",
      "MED54 : [0, 1]\n"
     ]
    }
   ],
   "source": [
    "this_dict = []\n",
    "\n",
    "for key,value in zip(state_names.keys(),state_names.values()):\n",
    "    print(key,\":\",value)\n",
    "    \n",
    "    this_dict.append((key,value))"
   ]
  },
  {
   "cell_type": "code",
   "execution_count": 3,
   "id": "7661056a",
   "metadata": {},
   "outputs": [],
   "source": [
    "obj = {\n",
    "    'acc':[1,2,3,4,5],\n",
    "    \"auc\":[2,3,4,4,4]\n",
    "}"
   ]
  },
  {
   "cell_type": "code",
   "execution_count": 6,
   "id": "24d5545a",
   "metadata": {},
   "outputs": [],
   "source": [
    "obj[\"acc\"].append(10)"
   ]
  },
  {
   "cell_type": "code",
   "execution_count": 8,
   "id": "3cb66105",
   "metadata": {},
   "outputs": [],
   "source": [
    "obj[\"recall\"] = [1,2,3,4,5,6,7,98]"
   ]
  },
  {
   "cell_type": "code",
   "execution_count": 9,
   "id": "cf539b47",
   "metadata": {},
   "outputs": [
    {
     "data": {
      "text/plain": [
       "{'acc': [1, 2, 3, 4, 5, 10],\n",
       " 'auc': [2, 3, 4, 4, 4],\n",
       " 'recall': [1, 2, 3, 4, 5, 6, 7, 98]}"
      ]
     },
     "execution_count": 9,
     "metadata": {},
     "output_type": "execute_result"
    }
   ],
   "source": [
    "obj"
   ]
  },
  {
   "cell_type": "code",
   "execution_count": 10,
   "id": "7f85839d",
   "metadata": {},
   "outputs": [],
   "source": [
    "obj[\"recall\"].append(20)"
   ]
  },
  {
   "cell_type": "code",
   "execution_count": 11,
   "id": "1e6fb57f",
   "metadata": {},
   "outputs": [
    {
     "data": {
      "text/plain": [
       "{'acc': [1, 2, 3, 4, 5, 10],\n",
       " 'auc': [2, 3, 4, 4, 4],\n",
       " 'recall': [1, 2, 3, 4, 5, 6, 7, 98, 20]}"
      ]
     },
     "execution_count": 11,
     "metadata": {},
     "output_type": "execute_result"
    }
   ],
   "source": [
    "obj"
   ]
  },
  {
   "cell_type": "code",
   "execution_count": 12,
   "id": "6ee4b45e",
   "metadata": {},
   "outputs": [],
   "source": [
    "obj = {}"
   ]
  },
  {
   "cell_type": "code",
   "execution_count": 13,
   "id": "5007986f",
   "metadata": {},
   "outputs": [],
   "source": [
    "obj[\"acc\"]=[1]"
   ]
  },
  {
   "cell_type": "code",
   "execution_count": 16,
   "id": "275176af",
   "metadata": {},
   "outputs": [],
   "source": [
    "obj[\"acc\"].append(2)"
   ]
  },
  {
   "cell_type": "code",
   "execution_count": 17,
   "id": "242b9b0a",
   "metadata": {},
   "outputs": [
    {
     "data": {
      "text/plain": [
       "{'acc': [1, 2]}"
      ]
     },
     "execution_count": 17,
     "metadata": {},
     "output_type": "execute_result"
    }
   ],
   "source": [
    "obj"
   ]
  },
  {
   "cell_type": "code",
   "execution_count": 1,
   "id": "265d9fce",
   "metadata": {},
   "outputs": [],
   "source": [
    "l1 = [1,2,3,4,5]\n",
    "l2 = [23,42,42,42,2]"
   ]
  },
  {
   "cell_type": "code",
   "execution_count": 2,
   "id": "cb1826c7",
   "metadata": {},
   "outputs": [
    {
     "data": {
      "text/plain": [
       "[1, 2, 3, 4, 5, 23, 42, 42, 42, 2]"
      ]
     },
     "execution_count": 2,
     "metadata": {},
     "output_type": "execute_result"
    }
   ],
   "source": [
    "l1+l2"
   ]
  },
  {
   "cell_type": "code",
   "execution_count": 4,
   "id": "7110cbf6",
   "metadata": {},
   "outputs": [],
   "source": [
    "l1 = [[1,2],[3,4],[4,5]]\n",
    "l2 = [[143,3],[232,32]]"
   ]
  },
  {
   "cell_type": "code",
   "execution_count": 5,
   "id": "4a078f4f",
   "metadata": {},
   "outputs": [
    {
     "data": {
      "text/plain": [
       "[[1, 2], [3, 4], [4, 5], [143, 3], [232, 32]]"
      ]
     },
     "execution_count": 5,
     "metadata": {},
     "output_type": "execute_result"
    }
   ],
   "source": [
    "l1+l2"
   ]
  },
  {
   "cell_type": "code",
   "execution_count": null,
   "id": "2a515943",
   "metadata": {},
   "outputs": [],
   "source": []
  }
 ],
 "metadata": {
  "kernelspec": {
   "display_name": "Python 3 (ipykernel)",
   "language": "python",
   "name": "python3"
  },
  "language_info": {
   "codemirror_mode": {
    "name": "ipython",
    "version": 3
   },
   "file_extension": ".py",
   "mimetype": "text/x-python",
   "name": "python",
   "nbconvert_exporter": "python",
   "pygments_lexer": "ipython3",
   "version": "3.9.12"
  }
 },
 "nbformat": 4,
 "nbformat_minor": 5
}
