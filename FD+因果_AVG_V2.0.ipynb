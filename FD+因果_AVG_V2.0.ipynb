{
 "cells": [
  {
   "cell_type": "code",
   "execution_count": 1,
   "id": "40ea3506",
   "metadata": {},
   "outputs": [],
   "source": [
    "import pandas as pd\n",
    "import numpy as np\n",
    "from xgboost.sklearn import XGBClassifier\n",
    "from sklearn.model_selection import cross_val_score\n",
    "from pgmpy.estimators import HillClimbSearch\n",
    "from pgmpy.models import BayesianNetwork\n",
    "from pgmpy.estimators import BicScore\n",
    "from pgmpy.base import DAG\n",
    "from sklearn.ensemble import RandomForestRegressor\n",
    "from sklearn.ensemble import RandomForestClassifier\n",
    "from sklearn.model_selection import cross_val_score\n",
    "from sklearn.impute import SimpleImputer\n",
    "from sklearn.model_selection import train_test_split\n",
    "from sklearn import metrics\n",
    "from sklearn.metrics import roc_auc_score\n",
    "from pgmpy.base import DAG\n",
    "from rpy2.robjects import r\n",
    "from rpy2.robjects import pandas2ri\n",
    "from rpy2.robjects import globalenv\n",
    "from rpy2.robjects.packages import importr"
   ]
  },
  {
   "cell_type": "code",
   "execution_count": 2,
   "id": "3553935a",
   "metadata": {},
   "outputs": [],
   "source": [
    "# DB = pd.read_csv(\"D:/实验室/数据/new_eicuDataV1.0.csv\").drop(columns=[\"st1\",\"creatinine\"],axis =1)\n",
    "DB = pd.read_csv(\"D:/实验室/数据/eicu数据处理/Imp6_cart.csv\")\n",
    "Feature_map = pd.read_excel(\"D:/实验室/数据/0909特征范围.xlsx\")\n",
    "Feature_map = Feature_map.drop(columns=\"no\",axis = 1)\n",
    "\n",
    "DB[\"sex\"] = DB[\"sex\"]-1"
   ]
  },
  {
   "cell_type": "code",
   "execution_count": 3,
   "id": "ff718c8e",
   "metadata": {
    "scrolled": false
   },
   "outputs": [],
   "source": [
    "#删除-1的label,age和sex的特征的样本\n",
    "DB = DB[DB[\"label\"]>=0]\n",
    "DB = DB.drop(DB[(DB[\"sex\"].isna())+(DB[\"sex\"]==\"Other\")+(DB[\"sex\"]==\"Unknown\")].index)\n",
    "DB = DB.drop(index = DB[DB[\"age\"]<18].index,axis = 1)\n",
    "DB = DB.drop(index = DB[DB[\"age\"].isna()].index)\n",
    "#处理race将other什么的转换为nan\n",
    "DB.loc[DB[\"race\"]==\"Other/Unknown\",\"race\"]=np.nan\n",
    "#性别转换\n",
    "DB.loc[DB[\"sex\"]==\"Female\",\"sex\"]=0\n",
    "DB.loc[DB[\"sex\"]==\"Male\",\"sex\"]=1\n",
    "#种族转换\n",
    "DB.loc[DB[\"race\"]==\"Caucasian\",\"race\"]=1\n",
    "DB.loc[DB[\"race\"]==\"African American\",\"race\"]=2\n",
    "DB.loc[DB[\"race\"]==\"Hispanic\",\"race\"]=3\n",
    "DB.loc[DB[\"race\"]==\"Asian\",\"race\"]=4\n",
    "DB.loc[DB[\"race\"]==\"Native American\",\"race\"]=5\n",
    "#年龄处理\n",
    "DB.loc[DB[\"age\"]==\"> 89\",\"age\"]=90\n",
    "DB.loc[~DB[\"age\"].isnull(),\"age\" ]= DB[~DB[\"age\"].isnull()][\"age\"].astype(int)\n",
    "\n",
    "#将数据全部转化为浮点型\n",
    "DB = DB.astype(np.float16)\n",
    "#3sigma原则处理异常值\n",
    "def three_sigma(ser):\n",
    " \n",
    "    bool_id = ~((ser.mean() - 3 * ser.std()) <= ser)  &   (ser <= (ser.mean() + 3 * ser.std()))\n",
    "    \n",
    "    \n",
    "    return bool_id\n",
    "sigma_list = list(DB.columns)[5:77]\n",
    "# for col in sigma_list:\n",
    "#     DB.loc[three_sigma(DB[col]),col]=np.nan\n",
    "    \n",
    "    \n",
    "DB_1 = DB.copy(deep = True)    \n",
    "Discrete_name = [\"age\",\"bmi\",\"SBP\",\"DBP\"]\n",
    "Discrete_name = [\"age\",\"bmi\",\"SBP\",\"DBP\"]\n",
    " \n",
    "Discrete_index = [[16,25,35,45,55,65,75],[18.5,25,30],[120,140,150,160,180],[80,90,100,110]]\n",
    "for Discrete,col in zip(Discrete_index,Discrete_name):\n",
    "    Discrete_len = len(Discrete)+1\n",
    "    if col in DB_1.columns:\n",
    "        for i in range(Discrete_len):\n",
    "            if i==0:\n",
    "                DB_1.loc[DB[col]<Discrete[i],col]=i+1\n",
    "            elif i<Discrete_len-1:\n",
    "                DB_1.loc[(DB[col]>=Discrete[i-1])&(DB[col]<Discrete[i]),col]=i+1\n",
    "            elif i==Discrete_len-1:\n",
    "                DB_1.loc[DB[col]>=Discrete[i-1],col]=i+1\n",
    "       \n",
    "# Discrete_name_MF = [\"rbc\",\"ferritin\",\"cpk\",\"st2\",\"hct\",\"hgb\"]\n",
    "Discrete_name_MF = [\"LAB6\",\"LAB22\",\"LAB26\",\"LAB31\",\"LAB43\",\"LAB44\"]\n",
    "Discrete_index_MF = [([4.7,6.1],[4.2,5.4]),([12,300],[12,150]),([39,308],[26,192]),([86,49.3],[7.2,33.5]),([41,45],[36,38]),([13.2,17.2],[12.1,15.1])]\n",
    "for col,index in zip(Discrete_name_MF,Discrete_index_MF):\n",
    "    if col in DB_1.columns:\n",
    "        for sex in range(2):\n",
    "    \n",
    "            DB_1.loc[(DB[\"sex\"]==sex)&(DB[col]<index[sex][0]),col] = 1\n",
    "            DB_1.loc[(DB[\"sex\"]==sex)&(DB[col]>=index[sex][0])&(DB[col]<index[sex][1]),col] = 2\n",
    "            DB_1.loc[(DB[\"sex\"]==sex)&(DB[col]>=index[sex][1]),col] = 3\n",
    "\n",
    "# drop_name = [\"age\",\"bmi\",\"SBP\",\"DBP\",\"race\",\"sex\",\"rbc\",\"ferritin\",\"st2\",\"hct\",\"hgb\",\"st1\"]\n",
    "drop_name = [\"age\",\"bmi\",\"DBP\",\"race\",\"sex\",\"LAB6\",\"LAB22\",\"LAB31\",\"LAB43\",\"LAB44\",\"LAB30\"]\n",
    "\n",
    "for i in range(75):\n",
    "    #获取特征名字\n",
    "    name = Feature_map.iloc[i,1]\n",
    "    #获取特征下界限\n",
    "    if name in DB_1.columns:\n",
    "        if name not in drop_name:\n",
    "\n",
    "            low=Feature_map.iloc[i,2]\n",
    "            up=Feature_map.iloc[i,3]\n",
    "\n",
    "            DB_1.loc[DB[name]<low,name]=1\n",
    "            DB_1.loc[(DB[name]>=low)&(DB[name]<up),name]=2\n",
    "            DB_1.loc[DB[name]>=up,name]=3\n"
   ]
  },
  {
   "cell_type": "code",
   "execution_count": 4,
   "id": "6c731d47",
   "metadata": {},
   "outputs": [],
   "source": [
    "DB_1.to_csv(\"D:/实验室/数据/eicu数据处理/Imp6_cart_2.0.csv\")"
   ]
  },
  {
   "cell_type": "code",
   "execution_count": 5,
   "id": "ffebf2ec",
   "metadata": {
    "scrolled": true
   },
   "outputs": [],
   "source": [
    "for name in Feature_map[\"name\"]:\n",
    "    if name in DB.columns:\n",
    "        low = float(Feature_map[Feature_map[\"name\"]==name][\"low\"])\n",
    "        if low ==999:\n",
    "            pass\n",
    "        else:\n",
    "            low=float(Feature_map[Feature_map[\"name\"]==name][\"low\"])\n",
    "            up=float(Feature_map[Feature_map[\"name\"]==name][\"up\"])\n",
    "            DB_1.loc[DB[name]<low,name]=1\n",
    "            DB_1.loc[(DB[name]>=low)&(DB[name]<up),name]=2\n",
    "            DB_1.loc[DB[name]>=up,name]=3\n",
    "            \n"
   ]
  },
  {
   "cell_type": "code",
   "execution_count": 6,
   "id": "d94cb247",
   "metadata": {},
   "outputs": [],
   "source": [
    "#删除特征缺失率较高特征\n",
    "for col in DB_1:\n",
    "    loss_rate = sum(DB_1[col].isnull())/len(DB_1)*100\n",
    "    if loss_rate > 75:\n",
    "        DB_1= DB_1.drop(columns = col , axis = 1)\n",
    "DB_1 = DB_1.iloc[:,:63]"
   ]
  },
  {
   "cell_type": "code",
   "execution_count": 7,
   "id": "bbe3b8fc",
   "metadata": {},
   "outputs": [],
   "source": [
    "def to_matrix(edges_dag,columns):\n",
    "    #将图转换为矩阵\n",
    "    edges_matrix = pd.DataFrame(np.zeros((len(columns),len(columns))),index = columns,columns=columns).astype(int)\n",
    "    for edges in edges_dag:\n",
    "        edges_matrix.loc[edges[0],edges[1]]+=1\n",
    "    return edges_matrix\n",
    "def to_dag(edges_matrix):\n",
    "    edges_list = []\n",
    "    for index in edges_matrix.index:\n",
    "        for col in edges_matrix.columns:\n",
    "            if edges_matrix[col][index]!=0:\n",
    "                edges_list.append((index,col))\n",
    "            \n",
    "    #将矩阵转换为图\n",
    "    return edges_list\n",
    "# Funtion to evaluate the learned model structures.\n",
    "def get_f1_score(estimated_model, true_model):\n",
    "    nodes = estimated_model.nodes()\n",
    "    est_adj = nx.to_numpy_matrix(\n",
    "        estimated_model.to_undirected(), nodelist=nodes, weight=None\n",
    "    )\n",
    "    true_adj = nx.to_numpy_matrix(\n",
    "        true_model.to_undirected(), nodelist=nodes, weight=None\n",
    "    )\n",
    "\n",
    "    f1 = f1_score(np.ravel(true_adj), np.ravel(est_adj))\n",
    "    print(\"F1-score for the model skeleton: \", f1)    \n",
    "def print_dag(dag):\n",
    "    for edges in dag.edges:\n",
    "        print(edges[0],\"->\",edges[1],\";\")"
   ]
  },
  {
   "cell_type": "code",
   "execution_count": 8,
   "id": "cc964a87",
   "metadata": {},
   "outputs": [],
   "source": [
    "class client():\n",
    "    \n",
    "    def __init__(self,data,cid,black):\n",
    "        self.black_list = black\n",
    "        self.data = data\n",
    "        self.cid = cid\n",
    "        self.model = HillClimbSearch(data)\n",
    "    def get_model(self):\n",
    "        #获得本地客户端网络结构\n",
    "        return self.best_model\n",
    "    def fit(self):\n",
    "        #记录最好的模型\n",
    "        \n",
    "        scoring_method = K2Score(data=self.data)\n",
    "        self.best_model = self.model.estimate(black_list = self.black_list)\n",
    "        return 1\n",
    "    def set_parment(self):\n",
    "        #从服务器中心get到网络结构\n",
    "        #初始化model\n",
    "        model.edges\n",
    "    \n",
    "        return \n",
    "    def update_model(self,fuse_dag):\n",
    "        print(\"开始更新\")\n",
    "        self.model = HillClimbSearch(self.data)\n",
    "        scoring_method = K2Score(data=self.data)\n",
    "#         self.best_model = self.model.estimate(scoring_method=scoring_method,white_list=fuse_dag.edges,black_list = self.black_list)\n",
    "        self.best_model = self.model.estimate(fixed_edges=fuse_dag.edges,black_list = self.black_list)\n",
    "        \n",
    "    "
   ]
  },
  {
   "cell_type": "code",
   "execution_count": 9,
   "id": "1c0b37d9",
   "metadata": {},
   "outputs": [],
   "source": [
    "class client_R():\n",
    "    \"\"\"\n",
    "    只改动模型训练部分\n",
    "    black和whitelist 的名单修改\n",
    "    \n",
    "    \"\"\"\n",
    "    def __init__(self,data,cid,black):\n",
    "        #black 用R语言的存储方式存储·\n",
    "        self.black_list = black\n",
    "        self.data = data\n",
    "        self.cid = cid\n",
    "        #初始化创建一个空的图\n",
    "        self.model = DAG()\n",
    "    def get_model(self):\n",
    "        #获得本地客户端网络结构\n",
    "        return self.best_model\n",
    "    def fit(self):\n",
    "        #记录最好的模型\n",
    "        # 代改动部分        \n",
    "        scoring_method = K2Score(data=self.data)\n",
    "        self.best_model = self.model.estimate(black_list = self.black_list)\n",
    "        \n",
    "    \n",
    "        return 1\n",
    "    def set_parment(self):\n",
    "        #从服务器中心get到网络结构\n",
    "        #初始化model\n",
    "        model.edges\n",
    "    \n",
    "        return \n",
    "    def update_model(self,fuse_dag):\n",
    "        #代改动部分，每次也是创建一个新的贝叶斯网络实例进行白名单结构学习，并返回边模型，最好还是保持pgmpy的形式\n",
    "        print(\"开始更新\")\n",
    "        self.model = HillClimbSearch(self.data)\n",
    "        scoring_method = K2Score(data=self.data)\n",
    "#         self.best_model = self.model.estimate(scoring_method=scoring_method,white_list=fuse_dag.edges,black_list = self.black_list)\n",
    "        self.best_model = self.model.estimate(fixed_edges=fuse_dag.edges,black_list = self.black_list)"
   ]
  },
  {
   "cell_type": "code",
   "execution_count": 10,
   "id": "86eafc7e",
   "metadata": {},
   "outputs": [],
   "source": [
    "class sever():\n",
    "    def __init__(self,fuse_num):\n",
    "        self.fuse_num = fuse_num\n",
    "    def get_edges_matrix(self,edges_matrix):\n",
    "        self.edges_matrix = edges_matrix\n",
    "    def Fd_caculate(self):\n",
    "        for index in  self.edges_matrix.columns:\n",
    "            for col in  self.edges_matrix.columns:\n",
    "                if self.edges_matrix[col][index]>=self.fuse_num:\n",
    "                     self.edges_matrix.at[col,index] = 1\n",
    "                else :\n",
    "                     self.edges_matrix.at[col,index] = 0\n",
    "        fuse_edges = to_dag(edges_matrix)\n",
    "        fuseDAG = DAG()\n",
    "        fuseDAG.add_edges_from(fuse_edges)\n",
    "        return  fuseDAG"
   ]
  },
  {
   "cell_type": "code",
   "execution_count": 23,
   "id": "d2b006e9",
   "metadata": {
    "scrolled": true
   },
   "outputs": [
    {
     "data": {
      "text/plain": [
       "0    13660\n",
       "1     5781\n",
       "Name: label, dtype: int64"
      ]
     },
     "execution_count": 23,
     "metadata": {},
     "output_type": "execute_result"
    }
   ],
   "source": [
    "DB_1 = pd.read_csv(\"D:/实验室/数据/eicu数据处理/tenSiteDTDisc.csv\").drop(columns=\"Unnamed: 0\",axis = 1)\n",
    "DB_1[\"label\"].value_counts()"
   ]
  },
  {
   "cell_type": "code",
   "execution_count": 24,
   "id": "ed4822ec",
   "metadata": {},
   "outputs": [],
   "source": [
    "DB_1 = DB_1.astype(np.int16)"
   ]
  },
  {
   "cell_type": "code",
   "execution_count": 34,
   "id": "edd244b5",
   "metadata": {},
   "outputs": [],
   "source": [
    "# 数据分割\n",
    "hos_id = [122, 141, 142, 227, 243, 382, 390, 403, 420, 435]\n",
    "client_data = []\n",
    "for hosid in hos_id:\n",
    "    client_data.append(DB_1[DB_1[\"hospitalid\"]==hosid ].iloc[:,:].drop(columns = [\"creatinine\",\"patientunitstayid\",\"hospitalid\"],axis = 1))\n",
    "    \n",
    "feature = client_data[0].columns"
   ]
  },
  {
   "cell_type": "code",
   "execution_count": 35,
   "id": "c0415a88",
   "metadata": {},
   "outputs": [],
   "source": [
    "black_list = []\n",
    "for i in feature:\n",
    "    if i != \"label\":\n",
    "        black_list.append((\"label\",i))"
   ]
  },
  {
   "cell_type": "code",
   "execution_count": 36,
   "id": "0d015b2f",
   "metadata": {},
   "outputs": [],
   "source": [
    "from pgmpy.estimators import K2Score"
   ]
  },
  {
   "cell_type": "code",
   "execution_count": null,
   "id": "0505325e",
   "metadata": {},
   "outputs": [
    {
     "name": "stdout",
     "output_type": "stream",
     "text": [
      "初始化训练\n"
     ]
    },
    {
     "data": {
      "application/vnd.jupyter.widget-view+json": {
       "model_id": "e3fdf9f9d53e4503bbe8f76d0a5a446d",
       "version_major": 2,
       "version_minor": 0
      },
      "text/plain": [
       "  0%|          | 0/1000000 [00:00<?, ?it/s]"
      ]
     },
     "metadata": {},
     "output_type": "display_data"
    },
    {
     "data": {
      "application/vnd.jupyter.widget-view+json": {
       "model_id": "c094444cc79a4bbbbe77f63cc078b531",
       "version_major": 2,
       "version_minor": 0
      },
      "text/plain": [
       "  0%|          | 0/1000000 [00:00<?, ?it/s]"
      ]
     },
     "metadata": {},
     "output_type": "display_data"
    },
    {
     "data": {
      "application/vnd.jupyter.widget-view+json": {
       "model_id": "5c204b96d85c49a9803d04ac598fbeca",
       "version_major": 2,
       "version_minor": 0
      },
      "text/plain": [
       "  0%|          | 0/1000000 [00:00<?, ?it/s]"
      ]
     },
     "metadata": {},
     "output_type": "display_data"
    }
   ],
   "source": [
    "\n",
    "# 结构训练\n",
    "train_round = 10\n",
    "round_num = 0\n",
    "client_num = 10\n",
    "clients = []\n",
    "for i in range(client_num):\n",
    "# 创建客户端，并且传入数据和结构学习模型\n",
    "    clients.append(client(client_data[i],i,[]))\n",
    "# 初始化服务器\n",
    "sever_1 = sever(5)\n",
    "edges_matrix = pd.DataFrame(np.zeros((len(feature),len(feature))),index = feature,columns=feature).astype(np.int16)\n",
    "while(round_num<train_round):\n",
    "    #利用二维矩阵传递边结构信息\n",
    "    \n",
    "    #开始训练\n",
    "    #重置矩阵\n",
    "    edges_matrix.iloc[:,:] = 0\n",
    "    #第一轮，先本地客户端建立初始模型\n",
    "    if round_num == 0:\n",
    "        edges_matrix = pd.DataFrame(np.zeros((len(feature),len(feature))),index = feature,columns=feature).astype(np.int16)\n",
    "        print(\"初始化训练\")\n",
    "        for i in range(client_num):\n",
    "            clients[i].fit()\n",
    "    \n",
    "    #开始聚集客户端边的信息\n",
    "    for i in range(client_num):\n",
    "        #将客户端最好的模型边信息转换为矩阵形式\n",
    "        edges_matrix+=to_matrix(clients[i].get_model().edges(),feature)\n",
    "    #服务器开始汇集信息，并且将矩阵转换为Dag\n",
    "    \n",
    "    sever_1.get_edges_matrix(edges_matrix)\n",
    "    fuseDAG = sever_1.Fd_caculate()\n",
    "    print(\"第\",train_round,\"此迭代\")\n",
    "    print_dag(fuseDAG)\n",
    "    #更新客户端模型\n",
    "    for i in range(client_num):\n",
    "        clients[i]. update_model(fuseDAG)\n",
    "    round_num+=1"
   ]
  },
  {
   "cell_type": "code",
   "execution_count": null,
   "id": "b4c3e614",
   "metadata": {},
   "outputs": [],
   "source": [
    "for i in to_dag(sever_1.edges_matrix):\n",
    "    print(i[0],\"->\",i[1],\";\")"
   ]
  },
  {
   "cell_type": "code",
   "execution_count": null,
   "id": "d82f3fae",
   "metadata": {},
   "outputs": [],
   "source": [
    "import rpy2.robjects as robjects"
   ]
  },
  {
   "cell_type": "code",
   "execution_count": null,
   "id": "e4c011ea",
   "metadata": {},
   "outputs": [],
   "source": [
    "#‘pi’为R的内置变量\n",
    "# 第一种\n",
    "t0=robjects.r['pi']\n",
    "print(t0[0])\n",
    "# 第二种\n",
    "t1=robjects.r('pi')# 这种方法从某种程度上讲是万能的，因为可以将任意大小和长度的R代码写成一个python字符串，之后通过robjects.r('Rcode')调用执行\n",
    "print(t1[0])\n",
    "a = robjects.r('a<-c(1,2,3)')\n",
    "print(a)\n",
    "#第三种\n",
    "t2=robjects.r.pi# 这种方法对于名称中有“点号”的变量会出问题，比如data.frame/read.csv等\n",
    "print(t2[0])"
   ]
  },
  {
   "cell_type": "code",
   "execution_count": null,
   "id": "c81edcef",
   "metadata": {},
   "outputs": [],
   "source": []
  },
  {
   "cell_type": "code",
   "execution_count": null,
   "id": "46d83536",
   "metadata": {},
   "outputs": [],
   "source": []
  }
 ],
 "metadata": {
  "kernelspec": {
   "display_name": "Python 3 (ipykernel)",
   "language": "python",
   "name": "python3"
  },
  "language_info": {
   "codemirror_mode": {
    "name": "ipython",
    "version": 3
   },
   "file_extension": ".py",
   "mimetype": "text/x-python",
   "name": "python",
   "nbconvert_exporter": "python",
   "pygments_lexer": "ipython3",
   "version": "3.9.12"
  }
 },
 "nbformat": 4,
 "nbformat_minor": 5
}
